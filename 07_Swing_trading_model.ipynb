{
 "cells": [
  {
   "cell_type": "code",
   "execution_count": 1,
   "metadata": {
    "collapsed": true
   },
   "outputs": [],
   "source": [
    "import time\n",
    "import numpy as np\n",
    "import pandas as pd\n",
    "from sklearn.preprocessing import OneHotEncoder\n",
    "from sklearn.preprocessing import LabelEncoder\n",
    "import matplotlib.pyplot as plt\n",
    "%matplotlib inline \n",
    "plt.rcParams['figure.figsize'] = 16, 12\n",
    "\n",
    "\n",
    "from pandas.tools.plotting import scatter_matrix\n",
    "from sklearn.preprocessing import StandardScaler\n",
    "from sklearn.preprocessing import Normalizer\n",
    "from sklearn.preprocessing import MinMaxScaler\n",
    "from sklearn.preprocessing import Imputer\n",
    "from sklearn import cross_validation\n",
    "from sklearn.metrics import classification_report\n",
    "from sklearn.metrics import confusion_matrix\n",
    "from sklearn.metrics import accuracy_score\n",
    "from sklearn.feature_selection import SelectFromModel\n",
    "from sklearn.pipeline import Pipeline\n",
    "from sklearn.grid_search import GridSearchCV\n",
    "from sklearn.linear_model import LogisticRegression\n",
    "from sklearn.tree import DecisionTreeClassifier\n",
    "from sklearn.neighbors import KNeighborsClassifier\n",
    "from sklearn.discriminant_analysis import LinearDiscriminantAnalysis\n",
    "from sklearn.naive_bayes import GaussianNB\n",
    "from sklearn.svm import SVC\n",
    "from sklearn.ensemble import AdaBoostClassifier\n",
    "from sklearn.ensemble import GradientBoostingClassifier\n",
    "from sklearn.ensemble import RandomForestClassifier\n",
    "from sklearn.ensemble import ExtraTreesClassifier\n",
    "from xgboost.sklearn import XGBClassifier\n",
    "from xgboost import plot_importance\n",
    "from sklearn.decomposition import PCA\n",
    "\n",
    "from sklearn.learning_curve import learning_curve\n",
    "from sklearn.learning_curve import validation_curve"
   ]
  },
  {
   "cell_type": "code",
   "execution_count": 7,
   "metadata": {
    "collapsed": true
   },
   "outputs": [],
   "source": [
    "file = 'data/price_data.csv'\n",
    "data = pd.read_csv(file)"
   ]
  },
  {
   "cell_type": "code",
   "execution_count": 8,
   "metadata": {
    "collapsed": false
   },
   "outputs": [
    {
     "data": {
      "text/html": [
       "<div>\n",
       "<table border=\"1\" class=\"dataframe\">\n",
       "  <thead>\n",
       "    <tr style=\"text-align: right;\">\n",
       "      <th></th>\n",
       "      <th>Date</th>\n",
       "      <th>F1</th>\n",
       "      <th>F2</th>\n",
       "      <th>F3</th>\n",
       "      <th>F4</th>\n",
       "      <th>F5</th>\n",
       "      <th>F6</th>\n",
       "      <th>F7</th>\n",
       "      <th>F8</th>\n",
       "      <th>F9</th>\n",
       "      <th>...</th>\n",
       "      <th>F31</th>\n",
       "      <th>F32</th>\n",
       "      <th>F33</th>\n",
       "      <th>F34</th>\n",
       "      <th>RET5</th>\n",
       "      <th>RET10</th>\n",
       "      <th>RET15</th>\n",
       "      <th>RET20</th>\n",
       "      <th>RET25</th>\n",
       "      <th>RET30</th>\n",
       "    </tr>\n",
       "  </thead>\n",
       "  <tbody>\n",
       "    <tr>\n",
       "      <th>0</th>\n",
       "      <td>2001-11-01</td>\n",
       "      <td>-0.255954</td>\n",
       "      <td>0.844804</td>\n",
       "      <td>1.937538</td>\n",
       "      <td>3.159185</td>\n",
       "      <td>4.345108</td>\n",
       "      <td>0.722899</td>\n",
       "      <td>1.823656</td>\n",
       "      <td>2.916390</td>\n",
       "      <td>4.138037</td>\n",
       "      <td>...</td>\n",
       "      <td>0.015365</td>\n",
       "      <td>0.692678</td>\n",
       "      <td>0.413142</td>\n",
       "      <td>-0.064158</td>\n",
       "      <td>0.088349</td>\n",
       "      <td>0.132201</td>\n",
       "      <td>0.058899</td>\n",
       "      <td>0.152408</td>\n",
       "      <td>0.329321</td>\n",
       "      <td>0.350172</td>\n",
       "    </tr>\n",
       "    <tr>\n",
       "      <th>1</th>\n",
       "      <td>2001-11-02</td>\n",
       "      <td>0.450695</td>\n",
       "      <td>1.573175</td>\n",
       "      <td>2.671952</td>\n",
       "      <td>3.916848</td>\n",
       "      <td>5.135008</td>\n",
       "      <td>0.721375</td>\n",
       "      <td>1.843854</td>\n",
       "      <td>2.942632</td>\n",
       "      <td>4.187527</td>\n",
       "      <td>...</td>\n",
       "      <td>0.014769</td>\n",
       "      <td>0.652488</td>\n",
       "      <td>-0.585158</td>\n",
       "      <td>-0.067192</td>\n",
       "      <td>0.054696</td>\n",
       "      <td>0.122536</td>\n",
       "      <td>0.058936</td>\n",
       "      <td>0.158363</td>\n",
       "      <td>0.270935</td>\n",
       "      <td>0.391562</td>\n",
       "    </tr>\n",
       "    <tr>\n",
       "      <th>2</th>\n",
       "      <td>2001-11-05</td>\n",
       "      <td>0.807269</td>\n",
       "      <td>1.929457</td>\n",
       "      <td>3.029513</td>\n",
       "      <td>4.294151</td>\n",
       "      <td>5.542462</td>\n",
       "      <td>0.602685</td>\n",
       "      <td>1.724873</td>\n",
       "      <td>2.824930</td>\n",
       "      <td>4.089568</td>\n",
       "      <td>...</td>\n",
       "      <td>0.012211</td>\n",
       "      <td>0.609830</td>\n",
       "      <td>-0.664524</td>\n",
       "      <td>-0.192835</td>\n",
       "      <td>0.123785</td>\n",
       "      <td>0.108787</td>\n",
       "      <td>0.130545</td>\n",
       "      <td>0.136671</td>\n",
       "      <td>0.279045</td>\n",
       "      <td>0.436417</td>\n",
       "    </tr>\n",
       "  </tbody>\n",
       "</table>\n",
       "<p>3 rows × 41 columns</p>\n",
       "</div>"
      ],
      "text/plain": [
       "         Date        F1        F2        F3        F4        F5        F6  \\\n",
       "0  2001-11-01 -0.255954  0.844804  1.937538  3.159185  4.345108  0.722899   \n",
       "1  2001-11-02  0.450695  1.573175  2.671952  3.916848  5.135008  0.721375   \n",
       "2  2001-11-05  0.807269  1.929457  3.029513  4.294151  5.542462  0.602685   \n",
       "\n",
       "         F7        F8        F9    ...          F31       F32       F33  \\\n",
       "0  1.823656  2.916390  4.138037    ...     0.015365  0.692678  0.413142   \n",
       "1  1.843854  2.942632  4.187527    ...     0.014769  0.652488 -0.585158   \n",
       "2  1.724873  2.824930  4.089568    ...     0.012211  0.609830 -0.664524   \n",
       "\n",
       "        F34      RET5     RET10     RET15     RET20     RET25     RET30  \n",
       "0 -0.064158  0.088349  0.132201  0.058899  0.152408  0.329321  0.350172  \n",
       "1 -0.067192  0.054696  0.122536  0.058936  0.158363  0.270935  0.391562  \n",
       "2 -0.192835  0.123785  0.108787  0.130545  0.136671  0.279045  0.436417  \n",
       "\n",
       "[3 rows x 41 columns]"
      ]
     },
     "execution_count": 8,
     "metadata": {},
     "output_type": "execute_result"
    }
   ],
   "source": [
    "data.head(3)"
   ]
  },
  {
   "cell_type": "code",
   "execution_count": 9,
   "metadata": {
    "collapsed": false
   },
   "outputs": [],
   "source": [
    "del data['Date']"
   ]
  },
  {
   "cell_type": "code",
   "execution_count": 10,
   "metadata": {
    "collapsed": false
   },
   "outputs": [
    {
     "data": {
      "text/html": [
       "<div>\n",
       "<table border=\"1\" class=\"dataframe\">\n",
       "  <thead>\n",
       "    <tr style=\"text-align: right;\">\n",
       "      <th></th>\n",
       "      <th>F1</th>\n",
       "      <th>F2</th>\n",
       "      <th>F3</th>\n",
       "      <th>F4</th>\n",
       "      <th>F5</th>\n",
       "      <th>F6</th>\n",
       "      <th>F7</th>\n",
       "      <th>F8</th>\n",
       "      <th>F9</th>\n",
       "      <th>F10</th>\n",
       "      <th>...</th>\n",
       "      <th>F31</th>\n",
       "      <th>F32</th>\n",
       "      <th>F33</th>\n",
       "      <th>F34</th>\n",
       "      <th>RET5</th>\n",
       "      <th>RET10</th>\n",
       "      <th>RET15</th>\n",
       "      <th>RET20</th>\n",
       "      <th>RET25</th>\n",
       "      <th>RET30</th>\n",
       "    </tr>\n",
       "  </thead>\n",
       "  <tbody>\n",
       "    <tr>\n",
       "      <th>0</th>\n",
       "      <td>-0.255954</td>\n",
       "      <td>0.844804</td>\n",
       "      <td>1.937538</td>\n",
       "      <td>3.159185</td>\n",
       "      <td>4.345108</td>\n",
       "      <td>0.722899</td>\n",
       "      <td>1.823656</td>\n",
       "      <td>2.916390</td>\n",
       "      <td>4.138037</td>\n",
       "      <td>5.323961</td>\n",
       "      <td>...</td>\n",
       "      <td>0.015365</td>\n",
       "      <td>0.692678</td>\n",
       "      <td>0.413142</td>\n",
       "      <td>-0.064158</td>\n",
       "      <td>0.088349</td>\n",
       "      <td>0.132201</td>\n",
       "      <td>0.058899</td>\n",
       "      <td>0.152408</td>\n",
       "      <td>0.329321</td>\n",
       "      <td>0.350172</td>\n",
       "    </tr>\n",
       "    <tr>\n",
       "      <th>1</th>\n",
       "      <td>0.450695</td>\n",
       "      <td>1.573175</td>\n",
       "      <td>2.671952</td>\n",
       "      <td>3.916848</td>\n",
       "      <td>5.135008</td>\n",
       "      <td>0.721375</td>\n",
       "      <td>1.843854</td>\n",
       "      <td>2.942632</td>\n",
       "      <td>4.187527</td>\n",
       "      <td>5.405687</td>\n",
       "      <td>...</td>\n",
       "      <td>0.014769</td>\n",
       "      <td>0.652488</td>\n",
       "      <td>-0.585158</td>\n",
       "      <td>-0.067192</td>\n",
       "      <td>0.054696</td>\n",
       "      <td>0.122536</td>\n",
       "      <td>0.058936</td>\n",
       "      <td>0.158363</td>\n",
       "      <td>0.270935</td>\n",
       "      <td>0.391562</td>\n",
       "    </tr>\n",
       "    <tr>\n",
       "      <th>2</th>\n",
       "      <td>0.807269</td>\n",
       "      <td>1.929457</td>\n",
       "      <td>3.029513</td>\n",
       "      <td>4.294151</td>\n",
       "      <td>5.542462</td>\n",
       "      <td>0.602685</td>\n",
       "      <td>1.724873</td>\n",
       "      <td>2.824930</td>\n",
       "      <td>4.089568</td>\n",
       "      <td>5.337878</td>\n",
       "      <td>...</td>\n",
       "      <td>0.012211</td>\n",
       "      <td>0.609830</td>\n",
       "      <td>-0.664524</td>\n",
       "      <td>-0.192835</td>\n",
       "      <td>0.123785</td>\n",
       "      <td>0.108787</td>\n",
       "      <td>0.130545</td>\n",
       "      <td>0.136671</td>\n",
       "      <td>0.279045</td>\n",
       "      <td>0.436417</td>\n",
       "    </tr>\n",
       "  </tbody>\n",
       "</table>\n",
       "<p>3 rows × 40 columns</p>\n",
       "</div>"
      ],
      "text/plain": [
       "         F1        F2        F3        F4        F5        F6        F7  \\\n",
       "0 -0.255954  0.844804  1.937538  3.159185  4.345108  0.722899  1.823656   \n",
       "1  0.450695  1.573175  2.671952  3.916848  5.135008  0.721375  1.843854   \n",
       "2  0.807269  1.929457  3.029513  4.294151  5.542462  0.602685  1.724873   \n",
       "\n",
       "         F8        F9       F10    ...          F31       F32       F33  \\\n",
       "0  2.916390  4.138037  5.323961    ...     0.015365  0.692678  0.413142   \n",
       "1  2.942632  4.187527  5.405687    ...     0.014769  0.652488 -0.585158   \n",
       "2  2.824930  4.089568  5.337878    ...     0.012211  0.609830 -0.664524   \n",
       "\n",
       "        F34      RET5     RET10     RET15     RET20     RET25     RET30  \n",
       "0 -0.064158  0.088349  0.132201  0.058899  0.152408  0.329321  0.350172  \n",
       "1 -0.067192  0.054696  0.122536  0.058936  0.158363  0.270935  0.391562  \n",
       "2 -0.192835  0.123785  0.108787  0.130545  0.136671  0.279045  0.436417  \n",
       "\n",
       "[3 rows x 40 columns]"
      ]
     },
     "execution_count": 10,
     "metadata": {},
     "output_type": "execute_result"
    }
   ],
   "source": [
    "data.head(3)"
   ]
  },
  {
   "cell_type": "code",
   "execution_count": 13,
   "metadata": {
    "collapsed": false
   },
   "outputs": [],
   "source": [
    "# Features are F1 through F34\n",
    "# Labels are RET5, RET10, RET15, RET20, RET25, RET30\n",
    "\n",
    "X = data.loc[:,'F1':'F34']\n",
    "y5 = data.loc[:,'RET5']\n",
    "y10 = data.loc[:,'RET10']\n",
    "y15 = data.loc[:,'RET15']\n",
    "y20 = data.loc[:,'RET20']\n",
    "y25 = data.loc[:,'RET25']\n",
    "y30 = data.loc[:,'RET30']"
   ]
  },
  {
   "cell_type": "code",
   "execution_count": 15,
   "metadata": {
    "collapsed": false
   },
   "outputs": [
    {
     "data": {
      "text/html": [
       "<div>\n",
       "<table border=\"1\" class=\"dataframe\">\n",
       "  <thead>\n",
       "    <tr style=\"text-align: right;\">\n",
       "      <th></th>\n",
       "      <th>F1</th>\n",
       "      <th>F2</th>\n",
       "      <th>F3</th>\n",
       "      <th>F4</th>\n",
       "      <th>F5</th>\n",
       "      <th>F6</th>\n",
       "      <th>F7</th>\n",
       "      <th>F8</th>\n",
       "      <th>F9</th>\n",
       "      <th>F10</th>\n",
       "      <th>...</th>\n",
       "      <th>F25</th>\n",
       "      <th>F26</th>\n",
       "      <th>F27</th>\n",
       "      <th>F28</th>\n",
       "      <th>F29</th>\n",
       "      <th>F30</th>\n",
       "      <th>F31</th>\n",
       "      <th>F32</th>\n",
       "      <th>F33</th>\n",
       "      <th>F34</th>\n",
       "    </tr>\n",
       "  </thead>\n",
       "  <tbody>\n",
       "    <tr>\n",
       "      <th>0</th>\n",
       "      <td>-0.255954</td>\n",
       "      <td>0.844804</td>\n",
       "      <td>1.937538</td>\n",
       "      <td>3.159185</td>\n",
       "      <td>4.345108</td>\n",
       "      <td>0.722899</td>\n",
       "      <td>1.823656</td>\n",
       "      <td>2.916390</td>\n",
       "      <td>4.138037</td>\n",
       "      <td>5.323961</td>\n",
       "      <td>...</td>\n",
       "      <td>4.929025</td>\n",
       "      <td>6.439336</td>\n",
       "      <td>-0.275803</td>\n",
       "      <td>3.923116</td>\n",
       "      <td>1.234508</td>\n",
       "      <td>1.005909</td>\n",
       "      <td>0.015365</td>\n",
       "      <td>0.692678</td>\n",
       "      <td>0.413142</td>\n",
       "      <td>-0.064158</td>\n",
       "    </tr>\n",
       "    <tr>\n",
       "      <th>1</th>\n",
       "      <td>0.450695</td>\n",
       "      <td>1.573175</td>\n",
       "      <td>2.671952</td>\n",
       "      <td>3.916848</td>\n",
       "      <td>5.135008</td>\n",
       "      <td>0.721375</td>\n",
       "      <td>1.843854</td>\n",
       "      <td>2.942632</td>\n",
       "      <td>4.187527</td>\n",
       "      <td>5.405687</td>\n",
       "      <td>...</td>\n",
       "      <td>4.757539</td>\n",
       "      <td>6.133235</td>\n",
       "      <td>-0.249755</td>\n",
       "      <td>3.937463</td>\n",
       "      <td>1.125941</td>\n",
       "      <td>0.820076</td>\n",
       "      <td>0.014769</td>\n",
       "      <td>0.652488</td>\n",
       "      <td>-0.585158</td>\n",
       "      <td>-0.067192</td>\n",
       "    </tr>\n",
       "    <tr>\n",
       "      <th>2</th>\n",
       "      <td>0.807269</td>\n",
       "      <td>1.929457</td>\n",
       "      <td>3.029513</td>\n",
       "      <td>4.294151</td>\n",
       "      <td>5.542462</td>\n",
       "      <td>0.602685</td>\n",
       "      <td>1.724873</td>\n",
       "      <td>2.824930</td>\n",
       "      <td>4.089568</td>\n",
       "      <td>5.337878</td>\n",
       "      <td>...</td>\n",
       "      <td>4.409424</td>\n",
       "      <td>5.762840</td>\n",
       "      <td>-0.336785</td>\n",
       "      <td>3.786531</td>\n",
       "      <td>1.016631</td>\n",
       "      <td>0.622893</td>\n",
       "      <td>0.012211</td>\n",
       "      <td>0.609830</td>\n",
       "      <td>-0.664524</td>\n",
       "      <td>-0.192835</td>\n",
       "    </tr>\n",
       "    <tr>\n",
       "      <th>3</th>\n",
       "      <td>0.213114</td>\n",
       "      <td>1.446747</td>\n",
       "      <td>2.576726</td>\n",
       "      <td>3.878652</td>\n",
       "      <td>5.168200</td>\n",
       "      <td>1.264357</td>\n",
       "      <td>2.497991</td>\n",
       "      <td>3.627970</td>\n",
       "      <td>4.929895</td>\n",
       "      <td>6.219444</td>\n",
       "      <td>...</td>\n",
       "      <td>5.091086</td>\n",
       "      <td>5.588416</td>\n",
       "      <td>0.420300</td>\n",
       "      <td>4.575681</td>\n",
       "      <td>0.917630</td>\n",
       "      <td>0.515405</td>\n",
       "      <td>0.017418</td>\n",
       "      <td>0.651869</td>\n",
       "      <td>0.612659</td>\n",
       "      <td>0.213233</td>\n",
       "    </tr>\n",
       "    <tr>\n",
       "      <th>4</th>\n",
       "      <td>0.857841</td>\n",
       "      <td>2.147006</td>\n",
       "      <td>3.297188</td>\n",
       "      <td>4.630628</td>\n",
       "      <td>5.958204</td>\n",
       "      <td>0.993181</td>\n",
       "      <td>2.282346</td>\n",
       "      <td>3.432527</td>\n",
       "      <td>4.765968</td>\n",
       "      <td>6.093544</td>\n",
       "      <td>...</td>\n",
       "      <td>4.520432</td>\n",
       "      <td>4.974978</td>\n",
       "      <td>0.223558</td>\n",
       "      <td>4.341133</td>\n",
       "      <td>0.678104</td>\n",
       "      <td>0.179298</td>\n",
       "      <td>0.016032</td>\n",
       "      <td>0.602676</td>\n",
       "      <td>-0.775435</td>\n",
       "      <td>0.206223</td>\n",
       "    </tr>\n",
       "  </tbody>\n",
       "</table>\n",
       "<p>5 rows × 34 columns</p>\n",
       "</div>"
      ],
      "text/plain": [
       "         F1        F2        F3        F4        F5        F6        F7  \\\n",
       "0 -0.255954  0.844804  1.937538  3.159185  4.345108  0.722899  1.823656   \n",
       "1  0.450695  1.573175  2.671952  3.916848  5.135008  0.721375  1.843854   \n",
       "2  0.807269  1.929457  3.029513  4.294151  5.542462  0.602685  1.724873   \n",
       "3  0.213114  1.446747  2.576726  3.878652  5.168200  1.264357  2.497991   \n",
       "4  0.857841  2.147006  3.297188  4.630628  5.958204  0.993181  2.282346   \n",
       "\n",
       "         F8        F9       F10    ...          F25       F26       F27  \\\n",
       "0  2.916390  4.138037  5.323961    ...     4.929025  6.439336 -0.275803   \n",
       "1  2.942632  4.187527  5.405687    ...     4.757539  6.133235 -0.249755   \n",
       "2  2.824930  4.089568  5.337878    ...     4.409424  5.762840 -0.336785   \n",
       "3  3.627970  4.929895  6.219444    ...     5.091086  5.588416  0.420300   \n",
       "4  3.432527  4.765968  6.093544    ...     4.520432  4.974978  0.223558   \n",
       "\n",
       "        F28       F29       F30       F31       F32       F33       F34  \n",
       "0  3.923116  1.234508  1.005909  0.015365  0.692678  0.413142 -0.064158  \n",
       "1  3.937463  1.125941  0.820076  0.014769  0.652488 -0.585158 -0.067192  \n",
       "2  3.786531  1.016631  0.622893  0.012211  0.609830 -0.664524 -0.192835  \n",
       "3  4.575681  0.917630  0.515405  0.017418  0.651869  0.612659  0.213233  \n",
       "4  4.341133  0.678104  0.179298  0.016032  0.602676 -0.775435  0.206223  \n",
       "\n",
       "[5 rows x 34 columns]"
      ]
     },
     "execution_count": 15,
     "metadata": {},
     "output_type": "execute_result"
    }
   ],
   "source": [
    "X.head(5)"
   ]
  },
  {
   "cell_type": "code",
   "execution_count": 22,
   "metadata": {
    "collapsed": false
   },
   "outputs": [
    {
     "data": {
      "text/plain": [
       "0    0.350172\n",
       "1    0.391562\n",
       "2    0.436417\n",
       "3    0.309547\n",
       "4    0.272763\n",
       "Name: RET30, dtype: float64"
      ]
     },
     "execution_count": 22,
     "metadata": {},
     "output_type": "execute_result"
    }
   ],
   "source": [
    "#y5.head(5)\n",
    "#y10.head(5)\n",
    "#y15.head(5)\n",
    "#y20.head(5)\n",
    "#y25.head(5)\n",
    "y30.head(5)"
   ]
  },
  {
   "cell_type": "code",
   "execution_count": 23,
   "metadata": {
    "collapsed": false
   },
   "outputs": [
    {
     "data": {
      "text/html": [
       "<div>\n",
       "<table border=\"1\" class=\"dataframe\">\n",
       "  <thead>\n",
       "    <tr style=\"text-align: right;\">\n",
       "      <th></th>\n",
       "      <th>F1</th>\n",
       "      <th>F2</th>\n",
       "      <th>F3</th>\n",
       "      <th>F4</th>\n",
       "      <th>F5</th>\n",
       "      <th>F6</th>\n",
       "      <th>F7</th>\n",
       "      <th>F8</th>\n",
       "      <th>F9</th>\n",
       "      <th>F10</th>\n",
       "      <th>...</th>\n",
       "      <th>F25</th>\n",
       "      <th>F26</th>\n",
       "      <th>F27</th>\n",
       "      <th>F28</th>\n",
       "      <th>F29</th>\n",
       "      <th>F30</th>\n",
       "      <th>F31</th>\n",
       "      <th>F32</th>\n",
       "      <th>F33</th>\n",
       "      <th>F34</th>\n",
       "    </tr>\n",
       "  </thead>\n",
       "  <tbody>\n",
       "    <tr>\n",
       "      <th>count</th>\n",
       "      <td>3699.000000</td>\n",
       "      <td>3699.000000</td>\n",
       "      <td>3699.000000</td>\n",
       "      <td>3699.000000</td>\n",
       "      <td>3699.000000</td>\n",
       "      <td>3699.000000</td>\n",
       "      <td>3699.000000</td>\n",
       "      <td>3699.000000</td>\n",
       "      <td>3699.000000</td>\n",
       "      <td>3699.000000</td>\n",
       "      <td>...</td>\n",
       "      <td>3699.000000</td>\n",
       "      <td>3699.000000</td>\n",
       "      <td>3699.000000</td>\n",
       "      <td>3699.000000</td>\n",
       "      <td>3699.000000</td>\n",
       "      <td>3699.000000</td>\n",
       "      <td>3699.000000</td>\n",
       "      <td>3699.000000</td>\n",
       "      <td>3699.000000</td>\n",
       "      <td>3699.000000</td>\n",
       "    </tr>\n",
       "    <tr>\n",
       "      <th>mean</th>\n",
       "      <td>0.041635</td>\n",
       "      <td>0.111679</td>\n",
       "      <td>0.178834</td>\n",
       "      <td>0.280111</td>\n",
       "      <td>0.427540</td>\n",
       "      <td>0.039720</td>\n",
       "      <td>0.109764</td>\n",
       "      <td>0.176919</td>\n",
       "      <td>0.278196</td>\n",
       "      <td>0.425625</td>\n",
       "      <td>...</td>\n",
       "      <td>1.575420</td>\n",
       "      <td>2.928863</td>\n",
       "      <td>-1.041852</td>\n",
       "      <td>1.261381</td>\n",
       "      <td>0.311590</td>\n",
       "      <td>0.314039</td>\n",
       "      <td>0.000335</td>\n",
       "      <td>0.272544</td>\n",
       "      <td>-0.029297</td>\n",
       "      <td>-0.012391</td>\n",
       "    </tr>\n",
       "    <tr>\n",
       "      <th>std</th>\n",
       "      <td>0.519609</td>\n",
       "      <td>1.062366</td>\n",
       "      <td>1.467784</td>\n",
       "      <td>1.991199</td>\n",
       "      <td>2.635561</td>\n",
       "      <td>0.614065</td>\n",
       "      <td>1.141265</td>\n",
       "      <td>1.535689</td>\n",
       "      <td>2.048009</td>\n",
       "      <td>2.681565</td>\n",
       "      <td>...</td>\n",
       "      <td>1.802568</td>\n",
       "      <td>2.330944</td>\n",
       "      <td>1.325197</td>\n",
       "      <td>1.260547</td>\n",
       "      <td>0.849601</td>\n",
       "      <td>0.910676</td>\n",
       "      <td>0.007048</td>\n",
       "      <td>0.162517</td>\n",
       "      <td>0.717866</td>\n",
       "      <td>0.468097</td>\n",
       "    </tr>\n",
       "    <tr>\n",
       "      <th>min</th>\n",
       "      <td>-4.393641</td>\n",
       "      <td>-6.269257</td>\n",
       "      <td>-7.200418</td>\n",
       "      <td>-8.298424</td>\n",
       "      <td>-8.810585</td>\n",
       "      <td>-4.856314</td>\n",
       "      <td>-6.731930</td>\n",
       "      <td>-7.464011</td>\n",
       "      <td>-8.081795</td>\n",
       "      <td>-9.004221</td>\n",
       "      <td>...</td>\n",
       "      <td>-2.812682</td>\n",
       "      <td>0.387255</td>\n",
       "      <td>-9.476059</td>\n",
       "      <td>-4.535035</td>\n",
       "      <td>-2.219809</td>\n",
       "      <td>-1.651098</td>\n",
       "      <td>-0.046304</td>\n",
       "      <td>0.068516</td>\n",
       "      <td>-1.000000</td>\n",
       "      <td>-0.821386</td>\n",
       "    </tr>\n",
       "    <tr>\n",
       "      <th>25%</th>\n",
       "      <td>-0.188263</td>\n",
       "      <td>-0.345401</td>\n",
       "      <td>-0.467571</td>\n",
       "      <td>-0.601191</td>\n",
       "      <td>-0.692811</td>\n",
       "      <td>-0.230161</td>\n",
       "      <td>-0.388330</td>\n",
       "      <td>-0.510421</td>\n",
       "      <td>-0.646687</td>\n",
       "      <td>-0.734669</td>\n",
       "      <td>...</td>\n",
       "      <td>0.470774</td>\n",
       "      <td>1.419793</td>\n",
       "      <td>-1.475407</td>\n",
       "      <td>0.479439</td>\n",
       "      <td>-0.136847</td>\n",
       "      <td>-0.143327</td>\n",
       "      <td>-0.002752</td>\n",
       "      <td>0.150213</td>\n",
       "      <td>-0.590195</td>\n",
       "      <td>-0.275739</td>\n",
       "    </tr>\n",
       "    <tr>\n",
       "      <th>50%</th>\n",
       "      <td>0.038164</td>\n",
       "      <td>0.111062</td>\n",
       "      <td>0.173957</td>\n",
       "      <td>0.254247</td>\n",
       "      <td>0.402023</td>\n",
       "      <td>0.038187</td>\n",
       "      <td>0.113453</td>\n",
       "      <td>0.179115</td>\n",
       "      <td>0.253960</td>\n",
       "      <td>0.386995</td>\n",
       "      <td>...</td>\n",
       "      <td>1.079254</td>\n",
       "      <td>2.286455</td>\n",
       "      <td>-0.776232</td>\n",
       "      <td>0.976823</td>\n",
       "      <td>0.116866</td>\n",
       "      <td>0.102353</td>\n",
       "      <td>0.000275</td>\n",
       "      <td>0.230953</td>\n",
       "      <td>-0.156575</td>\n",
       "      <td>-0.111240</td>\n",
       "    </tr>\n",
       "    <tr>\n",
       "      <th>75%</th>\n",
       "      <td>0.277264</td>\n",
       "      <td>0.610762</td>\n",
       "      <td>0.839975</td>\n",
       "      <td>1.165146</td>\n",
       "      <td>1.495615</td>\n",
       "      <td>0.316690</td>\n",
       "      <td>0.636571</td>\n",
       "      <td>0.867979</td>\n",
       "      <td>1.160505</td>\n",
       "      <td>1.491824</td>\n",
       "      <td>...</td>\n",
       "      <td>2.056572</td>\n",
       "      <td>3.592711</td>\n",
       "      <td>-0.296269</td>\n",
       "      <td>1.746482</td>\n",
       "      <td>0.489013</td>\n",
       "      <td>0.510009</td>\n",
       "      <td>0.003678</td>\n",
       "      <td>0.350325</td>\n",
       "      <td>0.368725</td>\n",
       "      <td>0.123437</td>\n",
       "    </tr>\n",
       "    <tr>\n",
       "      <th>max</th>\n",
       "      <td>3.007951</td>\n",
       "      <td>5.183313</td>\n",
       "      <td>6.840989</td>\n",
       "      <td>9.487205</td>\n",
       "      <td>12.845803</td>\n",
       "      <td>4.136191</td>\n",
       "      <td>5.773798</td>\n",
       "      <td>7.043611</td>\n",
       "      <td>9.310289</td>\n",
       "      <td>12.624600</td>\n",
       "      <td>...</td>\n",
       "      <td>15.309731</td>\n",
       "      <td>18.343758</td>\n",
       "      <td>4.346298</td>\n",
       "      <td>7.825991</td>\n",
       "      <td>6.161453</td>\n",
       "      <td>8.400022</td>\n",
       "      <td>0.041818</td>\n",
       "      <td>1.233733</td>\n",
       "      <td>4.137424</td>\n",
       "      <td>6.546102</td>\n",
       "    </tr>\n",
       "  </tbody>\n",
       "</table>\n",
       "<p>8 rows × 34 columns</p>\n",
       "</div>"
      ],
      "text/plain": [
       "                F1           F2           F3           F4           F5  \\\n",
       "count  3699.000000  3699.000000  3699.000000  3699.000000  3699.000000   \n",
       "mean      0.041635     0.111679     0.178834     0.280111     0.427540   \n",
       "std       0.519609     1.062366     1.467784     1.991199     2.635561   \n",
       "min      -4.393641    -6.269257    -7.200418    -8.298424    -8.810585   \n",
       "25%      -0.188263    -0.345401    -0.467571    -0.601191    -0.692811   \n",
       "50%       0.038164     0.111062     0.173957     0.254247     0.402023   \n",
       "75%       0.277264     0.610762     0.839975     1.165146     1.495615   \n",
       "max       3.007951     5.183313     6.840989     9.487205    12.845803   \n",
       "\n",
       "                F6           F7           F8           F9          F10  \\\n",
       "count  3699.000000  3699.000000  3699.000000  3699.000000  3699.000000   \n",
       "mean      0.039720     0.109764     0.176919     0.278196     0.425625   \n",
       "std       0.614065     1.141265     1.535689     2.048009     2.681565   \n",
       "min      -4.856314    -6.731930    -7.464011    -8.081795    -9.004221   \n",
       "25%      -0.230161    -0.388330    -0.510421    -0.646687    -0.734669   \n",
       "50%       0.038187     0.113453     0.179115     0.253960     0.386995   \n",
       "75%       0.316690     0.636571     0.867979     1.160505     1.491824   \n",
       "max       4.136191     5.773798     7.043611     9.310289    12.624600   \n",
       "\n",
       "          ...               F25          F26          F27          F28  \\\n",
       "count     ...       3699.000000  3699.000000  3699.000000  3699.000000   \n",
       "mean      ...          1.575420     2.928863    -1.041852     1.261381   \n",
       "std       ...          1.802568     2.330944     1.325197     1.260547   \n",
       "min       ...         -2.812682     0.387255    -9.476059    -4.535035   \n",
       "25%       ...          0.470774     1.419793    -1.475407     0.479439   \n",
       "50%       ...          1.079254     2.286455    -0.776232     0.976823   \n",
       "75%       ...          2.056572     3.592711    -0.296269     1.746482   \n",
       "max       ...         15.309731    18.343758     4.346298     7.825991   \n",
       "\n",
       "               F29          F30          F31          F32          F33  \\\n",
       "count  3699.000000  3699.000000  3699.000000  3699.000000  3699.000000   \n",
       "mean      0.311590     0.314039     0.000335     0.272544    -0.029297   \n",
       "std       0.849601     0.910676     0.007048     0.162517     0.717866   \n",
       "min      -2.219809    -1.651098    -0.046304     0.068516    -1.000000   \n",
       "25%      -0.136847    -0.143327    -0.002752     0.150213    -0.590195   \n",
       "50%       0.116866     0.102353     0.000275     0.230953    -0.156575   \n",
       "75%       0.489013     0.510009     0.003678     0.350325     0.368725   \n",
       "max       6.161453     8.400022     0.041818     1.233733     4.137424   \n",
       "\n",
       "               F34  \n",
       "count  3699.000000  \n",
       "mean     -0.012391  \n",
       "std       0.468097  \n",
       "min      -0.821386  \n",
       "25%      -0.275739  \n",
       "50%      -0.111240  \n",
       "75%       0.123437  \n",
       "max       6.546102  \n",
       "\n",
       "[8 rows x 34 columns]"
      ]
     },
     "execution_count": 23,
     "metadata": {},
     "output_type": "execute_result"
    }
   ],
   "source": [
    "X.describe()"
   ]
  },
  {
   "cell_type": "code",
   "execution_count": 24,
   "metadata": {
    "collapsed": false
   },
   "outputs": [
    {
     "data": {
      "text/plain": [
       "count    3699.000000\n",
       "mean        0.003898\n",
       "std         0.069591\n",
       "min        -0.469790\n",
       "25%        -0.030680\n",
       "50%         0.002907\n",
       "75%         0.038575\n",
       "max         0.465792\n",
       "Name: RET5, dtype: float64"
      ]
     },
     "execution_count": 24,
     "metadata": {},
     "output_type": "execute_result"
    }
   ],
   "source": [
    "y5.describe()"
   ]
  },
  {
   "cell_type": "markdown",
   "metadata": {},
   "source": [
    "When we plot histograms for each return label we can see that all the returns are approximately normally distributed aroung 0. We can also see that this stock in particular has a positive skew. This conforms with the upward bias in the stock market."
   ]
  },
  {
   "cell_type": "code",
   "execution_count": 27,
   "metadata": {
    "collapsed": false
   },
   "outputs": [
    {
     "data": {
      "text/plain": [
       "<function matplotlib.pyplot.show>"
      ]
     },
     "execution_count": 27,
     "metadata": {},
     "output_type": "execute_result"
    },
    {
     "data": {
      "image/png": "[encoded data removed]",
      "text/plain": [
       "<matplotlib.figure.Figure at 0x7f6a23ecb7f0>"
      ]
     },
     "metadata": {},
     "output_type": "display_data"
    }
   ],
   "source": [
    "plt.rcParams['figure.figsize'] = 8, 8\n",
    "y5.hist()\n",
    "plt.show()"
   ]
  },
  {
   "cell_type": "code",
   "execution_count": 28,
   "metadata": {
    "collapsed": false
   },
   "outputs": [
    {
     "data": {
      "text/plain": [
       "<function matplotlib.pyplot.show>"
      ]
     },
     "execution_count": 28,
     "metadata": {},
     "output_type": "execute_result"
    },
    {
     "data": {
      "image/png": "[encoded data removed]",
      "text/plain": [
       "<matplotlib.figure.Figure at 0x7f6a23fbaa58>"
      ]
     },
     "metadata": {},
     "output_type": "display_data"
    }
   ],
   "source": [
    "y10.hist()\n",
    "plt.show()"
   ]
  },
  {
   "cell_type": "code",
   "execution_count": 31,
   "metadata": {
    "collapsed": false
   },
   "outputs": [
    {
     "data": {
      "text/plain": [
       "<function matplotlib.pyplot.show>"
      ]
     },
     "execution_count": 31,
     "metadata": {},
     "output_type": "execute_result"
    },
    {
     "data": {
      "image/png": "[encoded data removed]",
      "text/plain": [
       "<matplotlib.figure.Figure at 0x7f6a23eb2c18>"
      ]
     },
     "metadata": {},
     "output_type": "display_data"
    }
   ],
   "source": [
    "y15.hist()\n",
    "plt.show()"
   ]
  },
  {
   "cell_type": "code",
   "execution_count": 32,
   "metadata": {
    "collapsed": false
   },
   "outputs": [
    {
     "data": {
      "image/png": "[encoded data removed]",
      "text/plain": [
       "<matplotlib.figure.Figure at 0x7f6a23d4e4e0>"
      ]
     },
     "metadata": {},
     "output_type": "display_data"
    }
   ],
   "source": [
    "y20.hist()\n",
    "plt.show()"
   ]
  },
  {
   "cell_type": "code",
   "execution_count": 33,
   "metadata": {
    "collapsed": false
   },
   "outputs": [
    {
     "data": {
      "image/png": "[encoded data removed]",
      "text/plain": [
       "<matplotlib.figure.Figure at 0x7f6a23c8c3c8>"
      ]
     },
     "metadata": {},
     "output_type": "display_data"
    }
   ],
   "source": [
    "y25.hist()\n",
    "plt.show()"
   ]
  },
  {
   "cell_type": "code",
   "execution_count": 34,
   "metadata": {
    "collapsed": false
   },
   "outputs": [
    {
     "data": {
      "image/png": "[encoded data removed]",
      "text/plain": [
       "<matplotlib.figure.Figure at 0x7f6a23c17908>"
      ]
     },
     "metadata": {},
     "output_type": "display_data"
    }
   ],
   "source": [
    "y25.hist()\n",
    "plt.show()"
   ]
  },
  {
   "cell_type": "markdown",
   "metadata": {},
   "source": [
    "### Phase 1\n",
    "In the first phase of model building we will start with the simplest label grouping. We will separate our labels into either positive, or negative returns. This will give us two classes with approximately equal class distributions."
   ]
  },
  {
   "cell_type": "code",
   "execution_count": null,
   "metadata": {
    "collapsed": true
   },
   "outputs": [],
   "source": [
    "y5.columns = ['RET']\n",
    "y10.columns = ['RET']\n",
    "y15.columns = ['RET']\n",
    "y20.columns = ['RET']\n",
    "y25.columns = ['RET']\n",
    "y30.columns = ['RET']"
   ]
  },
  {
   "cell_type": "code",
   "execution_count": null,
   "metadata": {
    "collapsed": true
   },
   "outputs": [],
   "source": [
    "def binary_class(row):\n",
    "    if row['RET'] < 0.00:\n",
    "        return 0\n",
    "    else:\n",
    "        return 1"
   ]
  },
  {
   "cell_type": "markdown",
   "metadata": {},
   "source": [
    "### Phase 2\n",
    "In this phase we will increase the number of boundaries from one to two. From a trading standpoint, we want to stay away from trades that return close to 0% return. We do want to identify trades that have substantial return.\n",
    "\n",
    "We will define substantial return as > 5% or 0.05 or < -5% or -0.05\n",
    "Class boundaries:\n",
    "label 0: <=-0.05\n",
    "label 1: >-0.05 and < 0.05\n",
    "label 2: >= 0.05"
   ]
  },
  {
   "cell_type": "code",
   "execution_count": null,
   "metadata": {
    "collapsed": true
   },
   "outputs": [],
   "source": [
    "def update_return_class(row):\n",
    "    if row['RET'] <= -0.05:\n",
    "        return 0\n",
    "    elif row['RET'] > -0.05 and row['RET'] < 0.05:\n",
    "        return 1\n",
    "    elif row['RET'] >= 0.05:\n",
    "        return 2"
   ]
  }
 ],
 "metadata": {
  "kernelspec": {
   "display_name": "Python 3",
   "language": "python",
   "name": "python3"
  },
  "language_info": {
   "codemirror_mode": {
    "name": "ipython",
    "version": 3
   },
   "file_extension": ".py",
   "mimetype": "text/x-python",
   "name": "python",
   "nbconvert_exporter": "python",
   "pygments_lexer": "ipython3",
   "version": "3.5.2"
  }
 },
 "nbformat": 4,
 "nbformat_minor": 0
}
