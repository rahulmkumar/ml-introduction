{
 "cells": [
  {
   "cell_type": "code",
   "execution_count": 1,
   "metadata": {
    "collapsed": true
   },
   "outputs": [],
   "source": [
    "import time\n",
    "import numpy as np\n",
    "import pandas as pd\n",
    "from sklearn.preprocessing import OneHotEncoder\n",
    "from sklearn.preprocessing import LabelEncoder\n",
    "import matplotlib.pyplot as plt\n",
    "%matplotlib inline \n",
    "plt.rcParams['figure.figsize'] = 16, 12\n",
    "\n",
    "\n",
    "from pandas.tools.plotting import scatter_matrix\n",
    "from sklearn.preprocessing import StandardScaler\n",
    "from sklearn.preprocessing import Normalizer\n",
    "from sklearn.preprocessing import MinMaxScaler\n",
    "from sklearn.preprocessing import Imputer\n",
    "from sklearn import cross_validation\n",
    "from sklearn.cross_validation import StratifiedKFold, KFold\n",
    "from sklearn.metrics import classification_report\n",
    "from sklearn.metrics import confusion_matrix\n",
    "from sklearn.metrics import accuracy_score\n",
    "from sklearn.feature_selection import SelectFromModel\n",
    "from sklearn.feature_selection import RFECV\n",
    "from sklearn.feature_selection import RFE\n",
    "from sklearn.pipeline import Pipeline\n",
    "from sklearn.grid_search import GridSearchCV\n",
    "from sklearn.linear_model import LogisticRegression\n",
    "from sklearn.tree import DecisionTreeClassifier\n",
    "from sklearn.neighbors import KNeighborsClassifier\n",
    "from sklearn.discriminant_analysis import LinearDiscriminantAnalysis\n",
    "from sklearn.naive_bayes import GaussianNB\n",
    "from sklearn.svm import SVC\n",
    "from sklearn.ensemble import AdaBoostClassifier\n",
    "from sklearn.ensemble import GradientBoostingClassifier\n",
    "from sklearn.ensemble import RandomForestClassifier\n",
    "from sklearn.ensemble import ExtraTreesClassifier\n",
    "from xgboost.sklearn import XGBClassifier\n",
    "from xgboost import plot_importance\n",
    "from sklearn.decomposition import PCA\n",
    "\n",
    "from sklearn.learning_curve import learning_curve\n",
    "from sklearn.learning_curve import validation_curve"
   ]
  },
  {
   "cell_type": "markdown",
   "metadata": {},
   "source": [
    "##### The Sequential Backward Selection algorithm below has been taken from:\n",
    "Python Machine Learning - By Sebastian Raschka - Chapter 4"
   ]
  },
  {
   "cell_type": "code",
   "execution_count": 2,
   "metadata": {
    "collapsed": true
   },
   "outputs": [],
   "source": [
    "from sklearn.base import clone\n",
    "from itertools import combinations\n",
    "import numpy as np\n",
    "from sklearn.cross_validation import train_test_split\n",
    "from sklearn.metrics import accuracy_score\n",
    "\n",
    "class SBS():\n",
    "    def __init__(self, estimator, k_features, scoring=accuracy_score,\n",
    "                 test_size=0.25, random_state=1):\n",
    "        self.scoring = scoring\n",
    "        self.estimator = clone(estimator)\n",
    "        self.k_features = k_features\n",
    "        self.test_size = test_size\n",
    "        self.random_state = random_state\n",
    "\n",
    "    def fit(self, X, y):\n",
    "        \n",
    "        X_train, X_test, y_train, y_test = \\\n",
    "            train_test_split(X, y, test_size=self.test_size,\n",
    "                             random_state=self.random_state)\n",
    "\n",
    "        dim = X_train.shape[1]\n",
    "        self.indices_ = tuple(range(dim))\n",
    "        self.subsets_ = [self.indices_]\n",
    "        score = self._calc_score(X_train, y_train, \n",
    "                                 X_test, y_test, self.indices_)\n",
    "        self.scores_ = [score]\n",
    "\n",
    "        while dim > self.k_features:\n",
    "            scores = []\n",
    "            subsets = []\n",
    "\n",
    "            for p in combinations(self.indices_, r=dim - 1):\n",
    "                score = self._calc_score(X_train, y_train, \n",
    "                                         X_test, y_test, p)\n",
    "                scores.append(score)\n",
    "                subsets.append(p)\n",
    "\n",
    "            best = np.argmax(scores)\n",
    "            self.indices_ = subsets[best]\n",
    "            self.subsets_.append(self.indices_)\n",
    "            dim -= 1\n",
    "\n",
    "            self.scores_.append(scores[best])\n",
    "        self.k_score_ = self.scores_[-1]\n",
    "\n",
    "        return self\n",
    "\n",
    "    def transform(self, X):\n",
    "        return X[:, self.indices_]\n",
    "\n",
    "    def _calc_score(self, X_train, y_train, X_test, y_test, indices):\n",
    "        self.estimator.fit(X_train[:, indices], y_train)\n",
    "        y_pred = self.estimator.predict(X_test[:, indices])\n",
    "        score = self.scoring(y_test, y_pred)\n",
    "        return score"
   ]
  },
  {
   "cell_type": "code",
   "execution_count": 3,
   "metadata": {
    "collapsed": false
   },
   "outputs": [],
   "source": [
    "file = 'data/price_data.csv'\n",
    "data = pd.read_csv(file)\n",
    "\n",
    "file1 = 'data/price_data1.csv'\n",
    "data1 = pd.read_csv(file1)"
   ]
  },
  {
   "cell_type": "code",
   "execution_count": 4,
   "metadata": {
    "collapsed": false
   },
   "outputs": [
    {
     "data": {
      "text/html": [
       "<div>\n",
       "<table border=\"1\" class=\"dataframe\">\n",
       "  <thead>\n",
       "    <tr style=\"text-align: right;\">\n",
       "      <th></th>\n",
       "      <th>Date</th>\n",
       "      <th>F1</th>\n",
       "      <th>F2</th>\n",
       "      <th>F3</th>\n",
       "      <th>F4</th>\n",
       "      <th>F5</th>\n",
       "      <th>F6</th>\n",
       "      <th>F7</th>\n",
       "      <th>F8</th>\n",
       "      <th>F9</th>\n",
       "      <th>...</th>\n",
       "      <th>F39</th>\n",
       "      <th>F40</th>\n",
       "      <th>F41</th>\n",
       "      <th>F42</th>\n",
       "      <th>RET5</th>\n",
       "      <th>RET10</th>\n",
       "      <th>RET15</th>\n",
       "      <th>RET20</th>\n",
       "      <th>RET25</th>\n",
       "      <th>RET30</th>\n",
       "    </tr>\n",
       "  </thead>\n",
       "  <tbody>\n",
       "    <tr>\n",
       "      <th>0</th>\n",
       "      <td>2001-11-01</td>\n",
       "      <td>-0.255954</td>\n",
       "      <td>0.844804</td>\n",
       "      <td>1.937538</td>\n",
       "      <td>3.159185</td>\n",
       "      <td>4.345108</td>\n",
       "      <td>0.722899</td>\n",
       "      <td>1.823656</td>\n",
       "      <td>2.916390</td>\n",
       "      <td>4.138037</td>\n",
       "      <td>...</td>\n",
       "      <td>2.388263</td>\n",
       "      <td>1.089983</td>\n",
       "      <td>1.068026</td>\n",
       "      <td>1.316151</td>\n",
       "      <td>0.088349</td>\n",
       "      <td>0.132201</td>\n",
       "      <td>0.058899</td>\n",
       "      <td>0.152408</td>\n",
       "      <td>0.329321</td>\n",
       "      <td>0.350172</td>\n",
       "    </tr>\n",
       "    <tr>\n",
       "      <th>1</th>\n",
       "      <td>2001-11-02</td>\n",
       "      <td>0.450695</td>\n",
       "      <td>1.573175</td>\n",
       "      <td>2.671952</td>\n",
       "      <td>3.916848</td>\n",
       "      <td>5.135008</td>\n",
       "      <td>0.721375</td>\n",
       "      <td>1.843854</td>\n",
       "      <td>2.942632</td>\n",
       "      <td>4.187527</td>\n",
       "      <td>...</td>\n",
       "      <td>2.448806</td>\n",
       "      <td>1.119684</td>\n",
       "      <td>1.091471</td>\n",
       "      <td>1.332557</td>\n",
       "      <td>0.054696</td>\n",
       "      <td>0.122536</td>\n",
       "      <td>0.058936</td>\n",
       "      <td>0.158363</td>\n",
       "      <td>0.270935</td>\n",
       "      <td>0.391562</td>\n",
       "    </tr>\n",
       "    <tr>\n",
       "      <th>2</th>\n",
       "      <td>2001-11-05</td>\n",
       "      <td>0.807269</td>\n",
       "      <td>1.929457</td>\n",
       "      <td>3.029513</td>\n",
       "      <td>4.294151</td>\n",
       "      <td>5.542462</td>\n",
       "      <td>0.602685</td>\n",
       "      <td>1.724873</td>\n",
       "      <td>2.824930</td>\n",
       "      <td>4.089568</td>\n",
       "      <td>...</td>\n",
       "      <td>2.504655</td>\n",
       "      <td>1.148620</td>\n",
       "      <td>1.114621</td>\n",
       "      <td>1.348876</td>\n",
       "      <td>0.123785</td>\n",
       "      <td>0.108787</td>\n",
       "      <td>0.130545</td>\n",
       "      <td>0.136671</td>\n",
       "      <td>0.279045</td>\n",
       "      <td>0.436417</td>\n",
       "    </tr>\n",
       "  </tbody>\n",
       "</table>\n",
       "<p>3 rows × 49 columns</p>\n",
       "</div>"
      ],
      "text/plain": [
       "         Date        F1        F2        F3        F4        F5        F6  \\\n",
       "0  2001-11-01 -0.255954  0.844804  1.937538  3.159185  4.345108  0.722899   \n",
       "1  2001-11-02  0.450695  1.573175  2.671952  3.916848  5.135008  0.721375   \n",
       "2  2001-11-05  0.807269  1.929457  3.029513  4.294151  5.542462  0.602685   \n",
       "\n",
       "         F7        F8        F9    ...          F39       F40       F41  \\\n",
       "0  1.823656  2.916390  4.138037    ...     2.388263  1.089983  1.068026   \n",
       "1  1.843854  2.942632  4.187527    ...     2.448806  1.119684  1.091471   \n",
       "2  1.724873  2.824930  4.089568    ...     2.504655  1.148620  1.114621   \n",
       "\n",
       "        F42      RET5     RET10     RET15     RET20     RET25     RET30  \n",
       "0  1.316151  0.088349  0.132201  0.058899  0.152408  0.329321  0.350172  \n",
       "1  1.332557  0.054696  0.122536  0.058936  0.158363  0.270935  0.391562  \n",
       "2  1.348876  0.123785  0.108787  0.130545  0.136671  0.279045  0.436417  \n",
       "\n",
       "[3 rows x 49 columns]"
      ]
     },
     "execution_count": 4,
     "metadata": {},
     "output_type": "execute_result"
    }
   ],
   "source": [
    "data.head(3)"
   ]
  },
  {
   "cell_type": "code",
   "execution_count": 5,
   "metadata": {
    "collapsed": false
   },
   "outputs": [],
   "source": [
    "del data['Date']\n",
    "del data1['Date']"
   ]
  },
  {
   "cell_type": "code",
   "execution_count": 6,
   "metadata": {
    "collapsed": false
   },
   "outputs": [
    {
     "data": {
      "text/html": [
       "<div>\n",
       "<table border=\"1\" class=\"dataframe\">\n",
       "  <thead>\n",
       "    <tr style=\"text-align: right;\">\n",
       "      <th></th>\n",
       "      <th>F1</th>\n",
       "      <th>F2</th>\n",
       "      <th>F3</th>\n",
       "      <th>F4</th>\n",
       "      <th>F5</th>\n",
       "      <th>F6</th>\n",
       "      <th>F7</th>\n",
       "      <th>F8</th>\n",
       "      <th>F9</th>\n",
       "      <th>F10</th>\n",
       "      <th>...</th>\n",
       "      <th>F39</th>\n",
       "      <th>F40</th>\n",
       "      <th>F41</th>\n",
       "      <th>F42</th>\n",
       "      <th>RET5</th>\n",
       "      <th>RET10</th>\n",
       "      <th>RET15</th>\n",
       "      <th>RET20</th>\n",
       "      <th>RET25</th>\n",
       "      <th>RET30</th>\n",
       "    </tr>\n",
       "  </thead>\n",
       "  <tbody>\n",
       "    <tr>\n",
       "      <th>0</th>\n",
       "      <td>-0.255954</td>\n",
       "      <td>0.844804</td>\n",
       "      <td>1.937538</td>\n",
       "      <td>3.159185</td>\n",
       "      <td>4.345108</td>\n",
       "      <td>0.722899</td>\n",
       "      <td>1.823656</td>\n",
       "      <td>2.916390</td>\n",
       "      <td>4.138037</td>\n",
       "      <td>5.323961</td>\n",
       "      <td>...</td>\n",
       "      <td>2.388263</td>\n",
       "      <td>1.089983</td>\n",
       "      <td>1.068026</td>\n",
       "      <td>1.316151</td>\n",
       "      <td>0.088349</td>\n",
       "      <td>0.132201</td>\n",
       "      <td>0.058899</td>\n",
       "      <td>0.152408</td>\n",
       "      <td>0.329321</td>\n",
       "      <td>0.350172</td>\n",
       "    </tr>\n",
       "    <tr>\n",
       "      <th>1</th>\n",
       "      <td>0.450695</td>\n",
       "      <td>1.573175</td>\n",
       "      <td>2.671952</td>\n",
       "      <td>3.916848</td>\n",
       "      <td>5.135008</td>\n",
       "      <td>0.721375</td>\n",
       "      <td>1.843854</td>\n",
       "      <td>2.942632</td>\n",
       "      <td>4.187527</td>\n",
       "      <td>5.405687</td>\n",
       "      <td>...</td>\n",
       "      <td>2.448806</td>\n",
       "      <td>1.119684</td>\n",
       "      <td>1.091471</td>\n",
       "      <td>1.332557</td>\n",
       "      <td>0.054696</td>\n",
       "      <td>0.122536</td>\n",
       "      <td>0.058936</td>\n",
       "      <td>0.158363</td>\n",
       "      <td>0.270935</td>\n",
       "      <td>0.391562</td>\n",
       "    </tr>\n",
       "    <tr>\n",
       "      <th>2</th>\n",
       "      <td>0.807269</td>\n",
       "      <td>1.929457</td>\n",
       "      <td>3.029513</td>\n",
       "      <td>4.294151</td>\n",
       "      <td>5.542462</td>\n",
       "      <td>0.602685</td>\n",
       "      <td>1.724873</td>\n",
       "      <td>2.824930</td>\n",
       "      <td>4.089568</td>\n",
       "      <td>5.337878</td>\n",
       "      <td>...</td>\n",
       "      <td>2.504655</td>\n",
       "      <td>1.148620</td>\n",
       "      <td>1.114621</td>\n",
       "      <td>1.348876</td>\n",
       "      <td>0.123785</td>\n",
       "      <td>0.108787</td>\n",
       "      <td>0.130545</td>\n",
       "      <td>0.136671</td>\n",
       "      <td>0.279045</td>\n",
       "      <td>0.436417</td>\n",
       "    </tr>\n",
       "  </tbody>\n",
       "</table>\n",
       "<p>3 rows × 48 columns</p>\n",
       "</div>"
      ],
      "text/plain": [
       "         F1        F2        F3        F4        F5        F6        F7  \\\n",
       "0 -0.255954  0.844804  1.937538  3.159185  4.345108  0.722899  1.823656   \n",
       "1  0.450695  1.573175  2.671952  3.916848  5.135008  0.721375  1.843854   \n",
       "2  0.807269  1.929457  3.029513  4.294151  5.542462  0.602685  1.724873   \n",
       "\n",
       "         F8        F9       F10    ...          F39       F40       F41  \\\n",
       "0  2.916390  4.138037  5.323961    ...     2.388263  1.089983  1.068026   \n",
       "1  2.942632  4.187527  5.405687    ...     2.448806  1.119684  1.091471   \n",
       "2  2.824930  4.089568  5.337878    ...     2.504655  1.148620  1.114621   \n",
       "\n",
       "        F42      RET5     RET10     RET15     RET20     RET25     RET30  \n",
       "0  1.316151  0.088349  0.132201  0.058899  0.152408  0.329321  0.350172  \n",
       "1  1.332557  0.054696  0.122536  0.058936  0.158363  0.270935  0.391562  \n",
       "2  1.348876  0.123785  0.108787  0.130545  0.136671  0.279045  0.436417  \n",
       "\n",
       "[3 rows x 48 columns]"
      ]
     },
     "execution_count": 6,
     "metadata": {},
     "output_type": "execute_result"
    }
   ],
   "source": [
    "data.head(3)"
   ]
  },
  {
   "cell_type": "code",
   "execution_count": 62,
   "metadata": {
    "collapsed": false
   },
   "outputs": [],
   "source": [
    "# Features are F1 through F42\n",
    "# Labels are RET5, RET10, RET15, RET20, RET25, RET30\n",
    "\n",
    "X = data.loc[:,'F1':'F42']\n",
    "y5 = data.loc[:,'RET5']\n",
    "y10 = data.loc[:,'RET10']\n",
    "y15 = data.loc[:,'RET15']\n",
    "y20 = data.loc[:,'RET20']\n",
    "y25 = data.loc[:,'RET25']\n",
    "y30 = data.loc[:,'RET30']"
   ]
  },
  {
   "cell_type": "code",
   "execution_count": 63,
   "metadata": {
    "collapsed": false
   },
   "outputs": [],
   "source": [
    "X1 = data1.loc[:,'F1':'F42']\n",
    "yt5 = data1.loc[:,'RET5']\n",
    "yt10 = data1.loc[:,'RET10']\n",
    "yt15 = data1.loc[:,'RET15']\n",
    "yt20 = data1.loc[:,'RET20']\n",
    "yt25 = data1.loc[:,'RET25']\n",
    "yt30 = data1.loc[:,'RET30']"
   ]
  },
  {
   "cell_type": "code",
   "execution_count": 64,
   "metadata": {
    "collapsed": false
   },
   "outputs": [
    {
     "data": {
      "text/html": [
       "<div>\n",
       "<table border=\"1\" class=\"dataframe\">\n",
       "  <thead>\n",
       "    <tr style=\"text-align: right;\">\n",
       "      <th></th>\n",
       "      <th>F1</th>\n",
       "      <th>F2</th>\n",
       "      <th>F3</th>\n",
       "      <th>F4</th>\n",
       "      <th>F5</th>\n",
       "      <th>F6</th>\n",
       "      <th>F7</th>\n",
       "      <th>F8</th>\n",
       "      <th>F9</th>\n",
       "      <th>F10</th>\n",
       "      <th>...</th>\n",
       "      <th>F33</th>\n",
       "      <th>F34</th>\n",
       "      <th>F35</th>\n",
       "      <th>F36</th>\n",
       "      <th>F37</th>\n",
       "      <th>F38</th>\n",
       "      <th>F39</th>\n",
       "      <th>F40</th>\n",
       "      <th>F41</th>\n",
       "      <th>F42</th>\n",
       "    </tr>\n",
       "  </thead>\n",
       "  <tbody>\n",
       "    <tr>\n",
       "      <th>0</th>\n",
       "      <td>-0.255954</td>\n",
       "      <td>0.844804</td>\n",
       "      <td>1.937538</td>\n",
       "      <td>3.159185</td>\n",
       "      <td>4.345108</td>\n",
       "      <td>0.722899</td>\n",
       "      <td>1.823656</td>\n",
       "      <td>2.916390</td>\n",
       "      <td>4.138037</td>\n",
       "      <td>5.323961</td>\n",
       "      <td>...</td>\n",
       "      <td>0.413142</td>\n",
       "      <td>-0.064158</td>\n",
       "      <td>1.100758</td>\n",
       "      <td>1.092733</td>\n",
       "      <td>1.221648</td>\n",
       "      <td>1.185923</td>\n",
       "      <td>2.388263</td>\n",
       "      <td>1.089983</td>\n",
       "      <td>1.068026</td>\n",
       "      <td>1.316151</td>\n",
       "    </tr>\n",
       "    <tr>\n",
       "      <th>1</th>\n",
       "      <td>0.450695</td>\n",
       "      <td>1.573175</td>\n",
       "      <td>2.671952</td>\n",
       "      <td>3.916848</td>\n",
       "      <td>5.135008</td>\n",
       "      <td>0.721375</td>\n",
       "      <td>1.843854</td>\n",
       "      <td>2.942632</td>\n",
       "      <td>4.187527</td>\n",
       "      <td>5.405687</td>\n",
       "      <td>...</td>\n",
       "      <td>-0.585158</td>\n",
       "      <td>-0.067192</td>\n",
       "      <td>1.122479</td>\n",
       "      <td>1.098777</td>\n",
       "      <td>1.244895</td>\n",
       "      <td>1.218160</td>\n",
       "      <td>2.448806</td>\n",
       "      <td>1.119684</td>\n",
       "      <td>1.091471</td>\n",
       "      <td>1.332557</td>\n",
       "    </tr>\n",
       "    <tr>\n",
       "      <th>2</th>\n",
       "      <td>0.807269</td>\n",
       "      <td>1.929457</td>\n",
       "      <td>3.029513</td>\n",
       "      <td>4.294151</td>\n",
       "      <td>5.542462</td>\n",
       "      <td>0.602685</td>\n",
       "      <td>1.724873</td>\n",
       "      <td>2.824930</td>\n",
       "      <td>4.089568</td>\n",
       "      <td>5.337878</td>\n",
       "      <td>...</td>\n",
       "      <td>-0.664524</td>\n",
       "      <td>-0.192835</td>\n",
       "      <td>1.122188</td>\n",
       "      <td>1.100057</td>\n",
       "      <td>1.264638</td>\n",
       "      <td>1.248310</td>\n",
       "      <td>2.504655</td>\n",
       "      <td>1.148620</td>\n",
       "      <td>1.114621</td>\n",
       "      <td>1.348876</td>\n",
       "    </tr>\n",
       "    <tr>\n",
       "      <th>3</th>\n",
       "      <td>0.213114</td>\n",
       "      <td>1.446747</td>\n",
       "      <td>2.576726</td>\n",
       "      <td>3.878652</td>\n",
       "      <td>5.168200</td>\n",
       "      <td>1.264357</td>\n",
       "      <td>2.497991</td>\n",
       "      <td>3.627970</td>\n",
       "      <td>4.929895</td>\n",
       "      <td>6.219444</td>\n",
       "      <td>...</td>\n",
       "      <td>0.612659</td>\n",
       "      <td>0.213233</td>\n",
       "      <td>1.233634</td>\n",
       "      <td>1.129979</td>\n",
       "      <td>1.301926</td>\n",
       "      <td>1.289548</td>\n",
       "      <td>2.585070</td>\n",
       "      <td>1.183761</td>\n",
       "      <td>1.141791</td>\n",
       "      <td>1.367786</td>\n",
       "    </tr>\n",
       "    <tr>\n",
       "      <th>4</th>\n",
       "      <td>0.857841</td>\n",
       "      <td>2.147006</td>\n",
       "      <td>3.297188</td>\n",
       "      <td>4.630628</td>\n",
       "      <td>5.958204</td>\n",
       "      <td>0.993181</td>\n",
       "      <td>2.282346</td>\n",
       "      <td>3.432527</td>\n",
       "      <td>4.765968</td>\n",
       "      <td>6.093544</td>\n",
       "      <td>...</td>\n",
       "      <td>-0.775435</td>\n",
       "      <td>0.206223</td>\n",
       "      <td>1.289165</td>\n",
       "      <td>1.150182</td>\n",
       "      <td>1.333441</td>\n",
       "      <td>1.327576</td>\n",
       "      <td>2.658117</td>\n",
       "      <td>1.217664</td>\n",
       "      <td>1.168408</td>\n",
       "      <td>1.386464</td>\n",
       "    </tr>\n",
       "  </tbody>\n",
       "</table>\n",
       "<p>5 rows × 42 columns</p>\n",
       "</div>"
      ],
      "text/plain": [
       "         F1        F2        F3        F4        F5        F6        F7  \\\n",
       "0 -0.255954  0.844804  1.937538  3.159185  4.345108  0.722899  1.823656   \n",
       "1  0.450695  1.573175  2.671952  3.916848  5.135008  0.721375  1.843854   \n",
       "2  0.807269  1.929457  3.029513  4.294151  5.542462  0.602685  1.724873   \n",
       "3  0.213114  1.446747  2.576726  3.878652  5.168200  1.264357  2.497991   \n",
       "4  0.857841  2.147006  3.297188  4.630628  5.958204  0.993181  2.282346   \n",
       "\n",
       "         F8        F9       F10    ...          F33       F34       F35  \\\n",
       "0  2.916390  4.138037  5.323961    ...     0.413142 -0.064158  1.100758   \n",
       "1  2.942632  4.187527  5.405687    ...    -0.585158 -0.067192  1.122479   \n",
       "2  2.824930  4.089568  5.337878    ...    -0.664524 -0.192835  1.122188   \n",
       "3  3.627970  4.929895  6.219444    ...     0.612659  0.213233  1.233634   \n",
       "4  3.432527  4.765968  6.093544    ...    -0.775435  0.206223  1.289165   \n",
       "\n",
       "        F36       F37       F38       F39       F40       F41       F42  \n",
       "0  1.092733  1.221648  1.185923  2.388263  1.089983  1.068026  1.316151  \n",
       "1  1.098777  1.244895  1.218160  2.448806  1.119684  1.091471  1.332557  \n",
       "2  1.100057  1.264638  1.248310  2.504655  1.148620  1.114621  1.348876  \n",
       "3  1.129979  1.301926  1.289548  2.585070  1.183761  1.141791  1.367786  \n",
       "4  1.150182  1.333441  1.327576  2.658117  1.217664  1.168408  1.386464  \n",
       "\n",
       "[5 rows x 42 columns]"
      ]
     },
     "execution_count": 64,
     "metadata": {},
     "output_type": "execute_result"
    }
   ],
   "source": [
    "X.head(5)"
   ]
  },
  {
   "cell_type": "code",
   "execution_count": 10,
   "metadata": {
    "collapsed": false
   },
   "outputs": [
    {
     "data": {
      "text/html": [
       "<div>\n",
       "<table border=\"1\" class=\"dataframe\">\n",
       "  <thead>\n",
       "    <tr style=\"text-align: right;\">\n",
       "      <th></th>\n",
       "      <th>F1</th>\n",
       "      <th>F2</th>\n",
       "      <th>F3</th>\n",
       "      <th>F4</th>\n",
       "      <th>F5</th>\n",
       "      <th>F6</th>\n",
       "      <th>F7</th>\n",
       "      <th>F8</th>\n",
       "      <th>F9</th>\n",
       "      <th>F10</th>\n",
       "      <th>...</th>\n",
       "      <th>F33</th>\n",
       "      <th>F34</th>\n",
       "      <th>F35</th>\n",
       "      <th>F36</th>\n",
       "      <th>F37</th>\n",
       "      <th>F38</th>\n",
       "      <th>F39</th>\n",
       "      <th>F40</th>\n",
       "      <th>F41</th>\n",
       "      <th>F42</th>\n",
       "    </tr>\n",
       "  </thead>\n",
       "  <tbody>\n",
       "    <tr>\n",
       "      <th>count</th>\n",
       "      <td>3708.000000</td>\n",
       "      <td>3708.000000</td>\n",
       "      <td>3708.000000</td>\n",
       "      <td>3708.000000</td>\n",
       "      <td>3708.000000</td>\n",
       "      <td>3708.000000</td>\n",
       "      <td>3708.000000</td>\n",
       "      <td>3708.000000</td>\n",
       "      <td>3708.000000</td>\n",
       "      <td>3708.000000</td>\n",
       "      <td>...</td>\n",
       "      <td>3708.000000</td>\n",
       "      <td>3708.000000</td>\n",
       "      <td>3708.000000</td>\n",
       "      <td>3708.000000</td>\n",
       "      <td>3708.000000</td>\n",
       "      <td>3708.000000</td>\n",
       "      <td>3708.000000</td>\n",
       "      <td>3708.000000</td>\n",
       "      <td>3708.000000</td>\n",
       "      <td>3708.000000</td>\n",
       "    </tr>\n",
       "    <tr>\n",
       "      <th>mean</th>\n",
       "      <td>0.044509</td>\n",
       "      <td>0.119830</td>\n",
       "      <td>0.191766</td>\n",
       "      <td>0.299683</td>\n",
       "      <td>0.455603</td>\n",
       "      <td>0.042884</td>\n",
       "      <td>0.118205</td>\n",
       "      <td>0.190141</td>\n",
       "      <td>0.298058</td>\n",
       "      <td>0.453978</td>\n",
       "      <td>...</td>\n",
       "      <td>-0.029057</td>\n",
       "      <td>-0.011715</td>\n",
       "      <td>0.075321</td>\n",
       "      <td>0.071936</td>\n",
       "      <td>0.107916</td>\n",
       "      <td>0.155920</td>\n",
       "      <td>0.299147</td>\n",
       "      <td>0.244769</td>\n",
       "      <td>0.335355</td>\n",
       "      <td>0.472796</td>\n",
       "    </tr>\n",
       "    <tr>\n",
       "      <th>std</th>\n",
       "      <td>0.523633</td>\n",
       "      <td>1.074807</td>\n",
       "      <td>1.490022</td>\n",
       "      <td>2.028611</td>\n",
       "      <td>2.693698</td>\n",
       "      <td>0.618631</td>\n",
       "      <td>1.154031</td>\n",
       "      <td>1.558198</td>\n",
       "      <td>2.085719</td>\n",
       "      <td>2.740117</td>\n",
       "      <td>...</td>\n",
       "      <td>0.717609</td>\n",
       "      <td>0.469480</td>\n",
       "      <td>0.657553</td>\n",
       "      <td>0.506779</td>\n",
       "      <td>0.661482</td>\n",
       "      <td>0.832024</td>\n",
       "      <td>1.586326</td>\n",
       "      <td>1.051554</td>\n",
       "      <td>1.175387</td>\n",
       "      <td>1.242435</td>\n",
       "    </tr>\n",
       "    <tr>\n",
       "      <th>min</th>\n",
       "      <td>-4.393641</td>\n",
       "      <td>-6.269257</td>\n",
       "      <td>-7.200418</td>\n",
       "      <td>-8.298424</td>\n",
       "      <td>-8.810585</td>\n",
       "      <td>-4.856314</td>\n",
       "      <td>-6.731930</td>\n",
       "      <td>-7.464011</td>\n",
       "      <td>-8.081795</td>\n",
       "      <td>-9.004221</td>\n",
       "      <td>...</td>\n",
       "      <td>-1.000000</td>\n",
       "      <td>-0.821386</td>\n",
       "      <td>-3.035132</td>\n",
       "      <td>-1.709583</td>\n",
       "      <td>-1.879768</td>\n",
       "      <td>-2.019575</td>\n",
       "      <td>-3.932016</td>\n",
       "      <td>-2.654596</td>\n",
       "      <td>-2.837016</td>\n",
       "      <td>-2.334212</td>\n",
       "    </tr>\n",
       "    <tr>\n",
       "      <th>25%</th>\n",
       "      <td>-0.187858</td>\n",
       "      <td>-0.343700</td>\n",
       "      <td>-0.464338</td>\n",
       "      <td>-0.600434</td>\n",
       "      <td>-0.688826</td>\n",
       "      <td>-0.228644</td>\n",
       "      <td>-0.386742</td>\n",
       "      <td>-0.506894</td>\n",
       "      <td>-0.635889</td>\n",
       "      <td>-0.730825</td>\n",
       "      <td>...</td>\n",
       "      <td>-0.589863</td>\n",
       "      <td>-0.275554</td>\n",
       "      <td>-0.227200</td>\n",
       "      <td>-0.156987</td>\n",
       "      <td>-0.151190</td>\n",
       "      <td>-0.219984</td>\n",
       "      <td>-0.423949</td>\n",
       "      <td>-0.293584</td>\n",
       "      <td>-0.292980</td>\n",
       "      <td>-0.307027</td>\n",
       "    </tr>\n",
       "    <tr>\n",
       "      <th>50%</th>\n",
       "      <td>0.038793</td>\n",
       "      <td>0.114406</td>\n",
       "      <td>0.176485</td>\n",
       "      <td>0.256239</td>\n",
       "      <td>0.405311</td>\n",
       "      <td>0.039452</td>\n",
       "      <td>0.117050</td>\n",
       "      <td>0.181702</td>\n",
       "      <td>0.257434</td>\n",
       "      <td>0.394022</td>\n",
       "      <td>...</td>\n",
       "      <td>-0.156071</td>\n",
       "      <td>-0.111206</td>\n",
       "      <td>0.069337</td>\n",
       "      <td>0.065161</td>\n",
       "      <td>0.104718</td>\n",
       "      <td>0.186639</td>\n",
       "      <td>0.341782</td>\n",
       "      <td>0.306601</td>\n",
       "      <td>0.273749</td>\n",
       "      <td>0.186356</td>\n",
       "    </tr>\n",
       "    <tr>\n",
       "      <th>75%</th>\n",
       "      <td>0.279341</td>\n",
       "      <td>0.613822</td>\n",
       "      <td>0.844628</td>\n",
       "      <td>1.177735</td>\n",
       "      <td>1.504875</td>\n",
       "      <td>0.320349</td>\n",
       "      <td>0.639767</td>\n",
       "      <td>0.871866</td>\n",
       "      <td>1.172087</td>\n",
       "      <td>1.506762</td>\n",
       "      <td>...</td>\n",
       "      <td>0.369120</td>\n",
       "      <td>0.123414</td>\n",
       "      <td>0.377588</td>\n",
       "      <td>0.286155</td>\n",
       "      <td>0.344096</td>\n",
       "      <td>0.477316</td>\n",
       "      <td>0.888765</td>\n",
       "      <td>0.700705</td>\n",
       "      <td>0.975835</td>\n",
       "      <td>1.188336</td>\n",
       "    </tr>\n",
       "    <tr>\n",
       "      <th>max</th>\n",
       "      <td>3.007951</td>\n",
       "      <td>5.320749</td>\n",
       "      <td>7.508356</td>\n",
       "      <td>10.503240</td>\n",
       "      <td>14.332202</td>\n",
       "      <td>4.136191</td>\n",
       "      <td>6.458668</td>\n",
       "      <td>8.646276</td>\n",
       "      <td>11.641160</td>\n",
       "      <td>15.470122</td>\n",
       "      <td>...</td>\n",
       "      <td>4.137424</td>\n",
       "      <td>6.546102</td>\n",
       "      <td>3.080046</td>\n",
       "      <td>2.187608</td>\n",
       "      <td>2.994884</td>\n",
       "      <td>3.828962</td>\n",
       "      <td>7.382705</td>\n",
       "      <td>4.613368</td>\n",
       "      <td>4.848341</td>\n",
       "      <td>4.815811</td>\n",
       "    </tr>\n",
       "  </tbody>\n",
       "</table>\n",
       "<p>8 rows × 42 columns</p>\n",
       "</div>"
      ],
      "text/plain": [
       "                F1           F2           F3           F4           F5  \\\n",
       "count  3708.000000  3708.000000  3708.000000  3708.000000  3708.000000   \n",
       "mean      0.044509     0.119830     0.191766     0.299683     0.455603   \n",
       "std       0.523633     1.074807     1.490022     2.028611     2.693698   \n",
       "min      -4.393641    -6.269257    -7.200418    -8.298424    -8.810585   \n",
       "25%      -0.187858    -0.343700    -0.464338    -0.600434    -0.688826   \n",
       "50%       0.038793     0.114406     0.176485     0.256239     0.405311   \n",
       "75%       0.279341     0.613822     0.844628     1.177735     1.504875   \n",
       "max       3.007951     5.320749     7.508356    10.503240    14.332202   \n",
       "\n",
       "                F6           F7           F8           F9          F10  \\\n",
       "count  3708.000000  3708.000000  3708.000000  3708.000000  3708.000000   \n",
       "mean      0.042884     0.118205     0.190141     0.298058     0.453978   \n",
       "std       0.618631     1.154031     1.558198     2.085719     2.740117   \n",
       "min      -4.856314    -6.731930    -7.464011    -8.081795    -9.004221   \n",
       "25%      -0.228644    -0.386742    -0.506894    -0.635889    -0.730825   \n",
       "50%       0.039452     0.117050     0.181702     0.257434     0.394022   \n",
       "75%       0.320349     0.639767     0.871866     1.172087     1.506762   \n",
       "max       4.136191     6.458668     8.646276    11.641160    15.470122   \n",
       "\n",
       "          ...               F33          F34          F35          F36  \\\n",
       "count     ...       3708.000000  3708.000000  3708.000000  3708.000000   \n",
       "mean      ...         -0.029057    -0.011715     0.075321     0.071936   \n",
       "std       ...          0.717609     0.469480     0.657553     0.506779   \n",
       "min       ...         -1.000000    -0.821386    -3.035132    -1.709583   \n",
       "25%       ...         -0.589863    -0.275554    -0.227200    -0.156987   \n",
       "50%       ...         -0.156071    -0.111206     0.069337     0.065161   \n",
       "75%       ...          0.369120     0.123414     0.377588     0.286155   \n",
       "max       ...          4.137424     6.546102     3.080046     2.187608   \n",
       "\n",
       "               F37          F38          F39          F40          F41  \\\n",
       "count  3708.000000  3708.000000  3708.000000  3708.000000  3708.000000   \n",
       "mean      0.107916     0.155920     0.299147     0.244769     0.335355   \n",
       "std       0.661482     0.832024     1.586326     1.051554     1.175387   \n",
       "min      -1.879768    -2.019575    -3.932016    -2.654596    -2.837016   \n",
       "25%      -0.151190    -0.219984    -0.423949    -0.293584    -0.292980   \n",
       "50%       0.104718     0.186639     0.341782     0.306601     0.273749   \n",
       "75%       0.344096     0.477316     0.888765     0.700705     0.975835   \n",
       "max       2.994884     3.828962     7.382705     4.613368     4.848341   \n",
       "\n",
       "               F42  \n",
       "count  3708.000000  \n",
       "mean      0.472796  \n",
       "std       1.242435  \n",
       "min      -2.334212  \n",
       "25%      -0.307027  \n",
       "50%       0.186356  \n",
       "75%       1.188336  \n",
       "max       4.815811  \n",
       "\n",
       "[8 rows x 42 columns]"
      ]
     },
     "execution_count": 10,
     "metadata": {},
     "output_type": "execute_result"
    }
   ],
   "source": [
    "X.describe()"
   ]
  },
  {
   "cell_type": "markdown",
   "metadata": {},
   "source": [
    "When we plot histograms for each return label we can see that all the returns are approximately normally distributed aroung 0. We can also see that this stock in particular has a positive skew. This conforms with the upward bias in the stock market."
   ]
  },
  {
   "cell_type": "code",
   "execution_count": 11,
   "metadata": {
    "collapsed": false
   },
   "outputs": [
    {
     "data": {
      "image/png": "[encoded data removed]",
      "text/plain": [
       "<matplotlib.figure.Figure at 0x7f03599e57b8>"
      ]
     },
     "metadata": {},
     "output_type": "display_data"
    }
   ],
   "source": [
    "plt.rcParams['figure.figsize'] = 8, 8\n",
    "y5.hist()\n",
    "plt.xlabel('Return')\n",
    "plt.ylabel('# of samples')\n",
    "plt.title('5 Day Return')\n",
    "plt.show()"
   ]
  },
  {
   "cell_type": "code",
   "execution_count": 12,
   "metadata": {
    "collapsed": false
   },
   "outputs": [
    {
     "data": {
      "image/png": "[encoded data removed]",
      "text/plain": [
       "<matplotlib.figure.Figure at 0x7f0359720ac8>"
      ]
     },
     "metadata": {},
     "output_type": "display_data"
    }
   ],
   "source": [
    "y10.hist()\n",
    "plt.xlabel('Return')\n",
    "plt.ylabel('# of samples')\n",
    "plt.title('10 Day Return')\n",
    "plt.show()"
   ]
  },
  {
   "cell_type": "code",
   "execution_count": 13,
   "metadata": {
    "collapsed": false
   },
   "outputs": [
    {
     "data": {
      "image/png": "[encoded data removed]",
      "text/plain": [
       "<matplotlib.figure.Figure at 0x7f03596a8dd8>"
      ]
     },
     "metadata": {},
     "output_type": "display_data"
    }
   ],
   "source": [
    "y15.hist()\n",
    "plt.xlabel('Return')\n",
    "plt.ylabel('# of samples')\n",
    "plt.title('15 Day Return')\n",
    "plt.show()"
   ]
  },
  {
   "cell_type": "code",
   "execution_count": 14,
   "metadata": {
    "collapsed": false
   },
   "outputs": [
    {
     "data": {
      "image/png": "[encoded data removed]",
      "text/plain": [
       "<matplotlib.figure.Figure at 0x7f03596a8a20>"
      ]
     },
     "metadata": {},
     "output_type": "display_data"
    }
   ],
   "source": [
    "y20.hist()\n",
    "plt.xlabel('Return')\n",
    "plt.ylabel('# of samples')\n",
    "plt.title('20 Day Return')\n",
    "plt.show()"
   ]
  },
  {
   "cell_type": "code",
   "execution_count": 15,
   "metadata": {
    "collapsed": false
   },
   "outputs": [
    {
     "data": {
      "image/png": "[encoded data removed]",
      "text/plain": [
       "<matplotlib.figure.Figure at 0x7f035975a4e0>"
      ]
     },
     "metadata": {},
     "output_type": "display_data"
    }
   ],
   "source": [
    "y25.hist()\n",
    "plt.xlabel('Return')\n",
    "plt.ylabel('# of samples')\n",
    "plt.title('25 Day Return')\n",
    "plt.show()"
   ]
  },
  {
   "cell_type": "code",
   "execution_count": 16,
   "metadata": {
    "collapsed": false
   },
   "outputs": [
    {
     "data": {
      "image/png": "[encoded data removed]",
      "text/plain": [
       "<matplotlib.figure.Figure at 0x7f03595cac50>"
      ]
     },
     "metadata": {},
     "output_type": "display_data"
    }
   ],
   "source": [
    "y30.hist()\n",
    "plt.xlabel('Return')\n",
    "plt.ylabel('# of samples')\n",
    "plt.title('30 Day Return')\n",
    "plt.show()"
   ]
  },
  {
   "cell_type": "code",
   "execution_count": 17,
   "metadata": {
    "collapsed": false
   },
   "outputs": [
    {
     "data": {
      "image/png": "[encoded data removed]",
      "text/plain": [
       "<matplotlib.figure.Figure at 0x7f03595ce8d0>"
      ]
     },
     "metadata": {},
     "output_type": "display_data"
    }
   ],
   "source": [
    "plt.rcParams['figure.figsize'] = 15, 8\n",
    "fig, axes = plt.subplots(2,3, sharex=False, sharey=False)\n",
    "\n",
    "axes[0,0].hist(y5)\n",
    "axes[0,0].set_title('5 Day Return', fontsize=15)\n",
    "\n",
    "axes[0,1].hist(y10)\n",
    "axes[0,1].set_title('10 Day Return', fontsize=15)\n",
    "\n",
    "axes[0,2].hist(y15)\n",
    "axes[0,2].set_title('15 Day Return', fontsize=15)\n",
    "\n",
    "axes[1,0].hist(y20)\n",
    "axes[1,0].set_title('20 Day Return', fontsize=15)\n",
    "\n",
    "axes[1,1].hist(y25)\n",
    "axes[1,1].set_title('25 Day Return', fontsize=15)\n",
    "\n",
    "axes[1,2].hist(y30)\n",
    "axes[1,2].set_title('30 Day Return', fontsize=15)\n",
    "\n",
    "plt.subplots_adjust(wspace=0.5, hspace=0.5)"
   ]
  },
  {
   "cell_type": "markdown",
   "metadata": {},
   "source": [
    "### Phase 1\n",
    "In the first phase of model building we will start with the simplest label grouping. We will separate our labels into either positive, or negative returns. This will give us two classes with approximately equal class distributions."
   ]
  },
  {
   "cell_type": "code",
   "execution_count": 18,
   "metadata": {
    "collapsed": true
   },
   "outputs": [],
   "source": [
    "y5.columns = ['RET']\n",
    "y10.columns = ['RET']\n",
    "y15.columns = ['RET']\n",
    "y20.columns = ['RET']\n",
    "y25.columns = ['RET']\n",
    "y30.columns = ['RET']"
   ]
  },
  {
   "cell_type": "code",
   "execution_count": 19,
   "metadata": {
    "collapsed": true
   },
   "outputs": [],
   "source": [
    "def binary_class(row):\n",
    "    if row < 0.00:\n",
    "        return 0\n",
    "    else:\n",
    "        return 1"
   ]
  },
  {
   "cell_type": "code",
   "execution_count": 20,
   "metadata": {
    "collapsed": false
   },
   "outputs": [],
   "source": [
    "y5_b = pd.Series(index=y5.index)\n",
    "y10_b = pd.Series(index=y5.index)\n",
    "y15_b = pd.Series(index=y5.index)\n",
    "y20_b = pd.Series(index=y5.index)\n",
    "y25_b = pd.Series(index=y5.index)\n",
    "y30_b = pd.Series(index=y5.index)\n",
    "\n",
    "y5_b = y5.apply(binary_class)\n",
    "y10_b = y10.apply(binary_class)\n",
    "y15_b = y15.apply(binary_class)\n",
    "y20_b = y20.apply(binary_class)\n",
    "y25_b = y25.apply(binary_class)\n",
    "y30_b = y30.apply(binary_class)"
   ]
  },
  {
   "cell_type": "code",
   "execution_count": 21,
   "metadata": {
    "collapsed": true
   },
   "outputs": [],
   "source": [
    "yt5.columns = ['RET']\n",
    "yt10.columns = ['RET']\n",
    "yt15.columns = ['RET']\n",
    "yt20.columns = ['RET']\n",
    "yt25.columns = ['RET']\n",
    "yt30.columns = ['RET']\n",
    "\n",
    "yt5_b = pd.Series(index=yt5.index)\n",
    "yt10_b = pd.Series(index=yt5.index)\n",
    "yt15_b = pd.Series(index=yt5.index)\n",
    "yt20_b = pd.Series(index=yt5.index)\n",
    "yt25_b = pd.Series(index=yt5.index)\n",
    "yt30_b = pd.Series(index=yt5.index)\n",
    "\n",
    "yt5_b = yt5.apply(binary_class)\n",
    "yt10_b = yt10.apply(binary_class)\n",
    "yt15_b = yt15.apply(binary_class)\n",
    "yt20_b = yt20.apply(binary_class)\n",
    "yt25_b = yt25.apply(binary_class)\n",
    "yt30_b = yt30.apply(binary_class)"
   ]
  },
  {
   "cell_type": "code",
   "execution_count": 22,
   "metadata": {
    "collapsed": true
   },
   "outputs": [],
   "source": [
    "plt.rcParams['figure.figsize'] = 8, 8"
   ]
  },
  {
   "cell_type": "markdown",
   "metadata": {},
   "source": [
    "Looking at the binary classification results, we can see that separating the class labels based on negative and positive returns, gives us an approximately equal distribution for each class."
   ]
  },
  {
   "cell_type": "code",
   "execution_count": 23,
   "metadata": {
    "collapsed": false
   },
   "outputs": [
    {
     "data": {
      "image/png": "[encoded data removed]",
      "text/plain": [
       "<matplotlib.figure.Figure at 0x7f035972c5c0>"
      ]
     },
     "metadata": {},
     "output_type": "display_data"
    }
   ],
   "source": [
    "y5_b.hist()\n",
    "plt.xlabel('Negative or Positive Return')\n",
    "plt.ylabel('# of samples')\n",
    "plt.title('Binary Classification')\n",
    "plt.show()"
   ]
  },
  {
   "cell_type": "markdown",
   "metadata": {},
   "source": [
    "### Phase 2\n",
    "In this phase we will increase the number of boundaries from one to two. From a trading standpoint, we want to stay away from trades that return close to 0% return. We do want to identify trades that have substantial return.\n",
    "\n",
    "We can define substantial return as > 2% or 0.02 or < -2% or -0.02\n",
    "Class boundaries:\n",
    "label 0: <=-0.02\n",
    "label 1: >-0.02 and < 0.02\n",
    "label 2: >= 0.02\n",
    "\n",
    "Another way to find out what the boundary should be is to look at the class distributions that result from a particular boundary. The boundary can then be changed to ensure that the distribution becomes approximately equal for all classes. You may find that you have to use different boundaries for different returns."
   ]
  },
  {
   "cell_type": "code",
   "execution_count": 24,
   "metadata": {
    "collapsed": true
   },
   "outputs": [],
   "source": [
    "def update_return_class(row, neg_cutoff, pos_cutoff):\n",
    "    if row <= neg_cutoff:\n",
    "        return 0\n",
    "    elif row > neg_cutoff and row < pos_cutoff:\n",
    "        return 1\n",
    "    elif row >= pos_cutoff:\n",
    "        return 2"
   ]
  },
  {
   "cell_type": "code",
   "execution_count": 25,
   "metadata": {
    "collapsed": false
   },
   "outputs": [],
   "source": [
    "y5_t = pd.Series(index=y5.index)\n",
    "y10_t = pd.Series(index=y5.index)\n",
    "y15_t = pd.Series(index=y5.index)\n",
    "y20_t = pd.Series(index=y5.index)\n",
    "y25_t = pd.Series(index=y5.index)\n",
    "y30_t = pd.Series(index=y5.index)\n",
    "\n",
    "y5_t = y5.apply(update_return_class, args=(-0.02, 0.02))\n",
    "y10_t = y10.apply(update_return_class, args=(-0.03, 0.03))\n",
    "y15_t = y15.apply(update_return_class, args=(-0.05, 0.05))\n",
    "y20_t = y20.apply(update_return_class, args=(-0.05, 0.05))\n",
    "y25_t = y25.apply(update_return_class, args=(-0.05, 0.07))\n",
    "y30_t = y30.apply(update_return_class, args=(-0.05, 0.08))"
   ]
  },
  {
   "cell_type": "code",
   "execution_count": 26,
   "metadata": {
    "collapsed": true
   },
   "outputs": [],
   "source": [
    "yt5_t = pd.Series(index=yt5.index)\n",
    "yt10_t = pd.Series(index=yt5.index)\n",
    "yt15_t = pd.Series(index=yt5.index)\n",
    "yt20_t = pd.Series(index=yt5.index)\n",
    "yt25_t = pd.Series(index=yt5.index)\n",
    "yt30_t = pd.Series(index=yt5.index)\n",
    "\n",
    "yt5_t = yt5.apply(update_return_class, args=(-0.02, 0.02))\n",
    "yt10_t = yt10.apply(update_return_class, args=(-0.03, 0.03))\n",
    "yt15_t = yt15.apply(update_return_class, args=(-0.05, 0.05))\n",
    "yt20_t = yt20.apply(update_return_class, args=(-0.05, 0.05))\n",
    "yt25_t = yt25.apply(update_return_class, args=(-0.05, 0.07))\n",
    "yt30_t = yt30.apply(update_return_class, args=(-0.05, 0.08))"
   ]
  },
  {
   "cell_type": "code",
   "execution_count": 27,
   "metadata": {
    "collapsed": false
   },
   "outputs": [
    {
     "data": {
      "image/png": "[encoded data removed]",
      "text/plain": [
       "<matplotlib.figure.Figure at 0x7f035722d320>"
      ]
     },
     "metadata": {},
     "output_type": "display_data"
    }
   ],
   "source": [
    "y5_t.hist()\n",
    "plt.xlabel('Trinary Classification Return')\n",
    "plt.ylabel('# of samples')\n",
    "plt.title('5 Day Return')\n",
    "plt.show()"
   ]
  },
  {
   "cell_type": "code",
   "execution_count": 28,
   "metadata": {
    "collapsed": false
   },
   "outputs": [
    {
     "data": {
      "image/png": "[encoded data removed]",
      "text/plain": [
       "<matplotlib.figure.Figure at 0x7f03571c5b70>"
      ]
     },
     "metadata": {},
     "output_type": "display_data"
    }
   ],
   "source": [
    "y10_t.hist()\n",
    "plt.xlabel('Trinary Classification Return')\n",
    "plt.ylabel('# of samples')\n",
    "plt.title('10 Day Return')\n",
    "plt.show()"
   ]
  },
  {
   "cell_type": "code",
   "execution_count": 29,
   "metadata": {
    "collapsed": false
   },
   "outputs": [
    {
     "data": {
      "image/png": "[encoded data removed]",
      "text/plain": [
       "<matplotlib.figure.Figure at 0x7f03595cedd8>"
      ]
     },
     "metadata": {},
     "output_type": "display_data"
    }
   ],
   "source": [
    "y15_t.hist()\n",
    "plt.xlabel('Trinary Classification Return')\n",
    "plt.ylabel('# of samples')\n",
    "plt.title('15 Day Return')\n",
    "plt.show()"
   ]
  },
  {
   "cell_type": "code",
   "execution_count": 30,
   "metadata": {
    "collapsed": false
   },
   "outputs": [
    {
     "data": {
      "image/png": "[encoded data removed]",
      "text/plain": [
       "<matplotlib.figure.Figure at 0x7f03595af390>"
      ]
     },
     "metadata": {},
     "output_type": "display_data"
    }
   ],
   "source": [
    "y20_t.hist()\n",
    "plt.xlabel('Trinary Classification Return')\n",
    "plt.ylabel('# of samples')\n",
    "plt.title('20 Day Return')\n",
    "plt.show()"
   ]
  },
  {
   "cell_type": "code",
   "execution_count": 31,
   "metadata": {
    "collapsed": false
   },
   "outputs": [
    {
     "data": {
      "image/png": "[encoded data removed]",
      "text/plain": [
       "<matplotlib.figure.Figure at 0x7f0357186f28>"
      ]
     },
     "metadata": {},
     "output_type": "display_data"
    }
   ],
   "source": [
    "y25_t.hist()\n",
    "plt.xlabel('Trinary Classification Return')\n",
    "plt.ylabel('# of samples')\n",
    "plt.title('25 Day Return')\n",
    "plt.show()"
   ]
  },
  {
   "cell_type": "code",
   "execution_count": 32,
   "metadata": {
    "collapsed": false
   },
   "outputs": [
    {
     "data": {
      "image/png": "[encoded data removed]",
      "text/plain": [
       "<matplotlib.figure.Figure at 0x7f035964e470>"
      ]
     },
     "metadata": {},
     "output_type": "display_data"
    }
   ],
   "source": [
    "y30_t.hist()\n",
    "plt.xlabel('Trinary Classification Return')\n",
    "plt.ylabel('# of samples')\n",
    "plt.title('30 Day Return')\n",
    "plt.show()"
   ]
  },
  {
   "cell_type": "code",
   "execution_count": 33,
   "metadata": {
    "collapsed": false
   },
   "outputs": [
    {
     "data": {
      "image/png": "[encoded data removed]",
      "text/plain": [
       "<matplotlib.figure.Figure at 0x7f035972b940>"
      ]
     },
     "metadata": {},
     "output_type": "display_data"
    }
   ],
   "source": [
    "plt.rcParams['figure.figsize'] = 15, 8\n",
    "fig, axes = plt.subplots(2,3, sharex=False, sharey=False)\n",
    "\n",
    "axes[0,0].hist(y5_t)\n",
    "axes[0,0].set_title('5 Day Return', fontsize=15)\n",
    "\n",
    "axes[0,1].hist(y10_t)\n",
    "axes[0,1].set_title('10 Day Return', fontsize=15)\n",
    "\n",
    "axes[0,2].hist(y15_t)\n",
    "axes[0,2].set_title('15 Day Return', fontsize=15)\n",
    "\n",
    "axes[1,0].hist(y20_t)\n",
    "axes[1,0].set_title('20 Day Return', fontsize=15)\n",
    "\n",
    "axes[1,1].hist(y25_t)\n",
    "axes[1,1].set_title('25 Day Return', fontsize=15)\n",
    "\n",
    "axes[1,2].hist(y30_t)\n",
    "axes[1,2].set_title('30 Day Return', fontsize=15)\n",
    "\n",
    "plt.subplots_adjust(wspace=0.5, hspace=0.5)"
   ]
  },
  {
   "cell_type": "markdown",
   "metadata": {},
   "source": [
    "### Testing and Validation Strategy\n",
    "We will be using multi-pronged testing strategy\n",
    "1) Use k-fold cross-validation\n",
    "2) Use continuous samples as training data and test on future data\n",
    "3) Use sliding window continuous training and test data"
   ]
  },
  {
   "cell_type": "code",
   "execution_count": 65,
   "metadata": {
    "collapsed": false
   },
   "outputs": [],
   "source": [
    "validation_size = 0.20\n",
    "seed = 7\n",
    "\n",
    "X = data.loc[:,['F20','F22','F26','F29','F30','F32','F35','F36','F37','F38','F39','F40','F41','F42']]\n",
    "X5b_train, X5b_test, Y5b_train, Y5b_test = cross_validation.train_test_split(X, y5_b, test_size=validation_size, \n",
    "                                                                                 random_state=seed)\n",
    "X10b_train, X10b_test, Y10b_train, Y10b_test = cross_validation.train_test_split(X, y10_b, test_size=validation_size, \n",
    "                                                                                 random_state=seed)\n",
    "X15b_train, X15b_test, Y15b_train, Y15b_test = cross_validation.train_test_split(X, y15_b, test_size=validation_size, \n",
    "                                                                                 random_state=seed)\n",
    "X20b_train, X20b_test, Y20b_train, Y20b_test = cross_validation.train_test_split(X, y20_b, test_size=validation_size, \n",
    "                                                                                 random_state=seed)\n",
    "X25b_train, X25b_test, Y25b_train, Y25b_test = cross_validation.train_test_split(X, y25_b, test_size=validation_size, \n",
    "                                                                                 random_state=seed)\n",
    "X30b_train, X30b_test, Y30b_train, Y30b_test = cross_validation.train_test_split(X, y30_b, test_size=validation_size, \n",
    "                                                                                 random_state=seed)\n",
    "\n",
    "X5t_train, X5t_test, Y5t_train, Y5t_test = cross_validation.train_test_split(X, y5_t, test_size=validation_size, \n",
    "                                                                                 random_state=seed)\n",
    "X10t_train, X10t_test, Y10t_train, Y10t_test = cross_validation.train_test_split(X, y10_t, test_size=validation_size, \n",
    "                                                                                 random_state=seed)\n",
    "X15t_train, X15t_test, Y15t_train, Y15t_test = cross_validation.train_test_split(X, y15_t, test_size=validation_size, \n",
    "                                                                                 random_state=seed)\n",
    "X20t_train, X20t_test, Y20t_train, Y20t_test = cross_validation.train_test_split(X, y20_t, test_size=validation_size, \n",
    "                                                                                 random_state=seed)\n",
    "X25t_train, X25t_test, Y25t_train, Y25t_test = cross_validation.train_test_split(X, y25_t, test_size=validation_size, \n",
    "                                                                                 random_state=seed)\n",
    "X30t_train, X30t_test, Y30t_train, Y30t_test = cross_validation.train_test_split(X, y30_t, test_size=validation_size, \n",
    "                                                                                 random_state=seed)"
   ]
  },
  {
   "cell_type": "code",
   "execution_count": 66,
   "metadata": {
    "collapsed": false
   },
   "outputs": [],
   "source": [
    "# Evaluate Algorithms\n",
    "# Test options and evaluation metric\n",
    "num_folds = 10\n",
    "num_instances = len(X10b_train)\n",
    "seed = 7\n",
    "scoring = 'accuracy'"
   ]
  },
  {
   "cell_type": "code",
   "execution_count": 67,
   "metadata": {
    "collapsed": false
   },
   "outputs": [
    {
     "data": {
      "image/png": "[encoded data removed]",
      "text/plain": [
       "<matplotlib.figure.Figure at 0x7f03571b3080>"
      ]
     },
     "metadata": {},
     "output_type": "display_data"
    }
   ],
   "source": [
    "xgb = XGBClassifier()\n",
    "xgb.fit(X10b_train, Y10b_train)\n",
    "Y_pred = xgb.predict(X10b_test)\n",
    "plot_importance(xgb)\n",
    "plt.show()"
   ]
  },
  {
   "cell_type": "code",
   "execution_count": 68,
   "metadata": {
    "collapsed": true
   },
   "outputs": [],
   "source": [
    "rf = RandomForestClassifier()\n",
    "et = ExtraTreesClassifier()\n",
    "xgb = XGBClassifier()\n",
    "gbc = GradientBoostingClassifier()\n",
    "\n",
    "stdsc5b = StandardScaler()\n",
    "stdsc10b = StandardScaler()\n",
    "stdsc15b = StandardScaler()\n",
    "stdsc20b = StandardScaler()\n",
    "stdsc25b = StandardScaler()\n",
    "stdsc30b = StandardScaler()\n",
    "\n",
    "X5b_train_std = stdsc5b.fit_transform(X5b_train)\n",
    "X5b_test_std = stdsc5b.transform(X5b_test)\n",
    "\n",
    "X10b_train_std = stdsc10b.fit_transform(X10b_train)\n",
    "X10b_test_std = stdsc10b.transform(X10b_test)\n",
    "\n",
    "X15b_train_std = stdsc15b.fit_transform(X15b_train)\n",
    "X15b_test_std = stdsc15b.transform(X15b_test)\n",
    "\n",
    "X20b_train_std = stdsc20b.fit_transform(X20b_train)\n",
    "X20b_test_std = stdsc20b.transform(X20b_test)\n",
    "\n",
    "X25b_train_std = stdsc25b.fit_transform(X25b_train)\n",
    "X25b_test_std = stdsc25b.transform(X25b_test)\n",
    "\n",
    "X30b_train_std = stdsc30b.fit_transform(X30b_train)\n",
    "X30b_test_std = stdsc30b.transform(X30b_test)\n",
    "\n",
    "stdsc5t = StandardScaler()\n",
    "stdsc10t = StandardScaler()\n",
    "stdsc15t = StandardScaler()\n",
    "stdsc20t = StandardScaler()\n",
    "stdsc25t = StandardScaler()\n",
    "stdsc30t = StandardScaler()\n",
    "\n",
    "X5t_train_std = stdsc5t.fit_transform(X5t_train)\n",
    "X5t_test_std = stdsc5t.transform(X5t_test)\n",
    "\n",
    "X10t_train_std = stdsc10t.fit_transform(X10t_train)\n",
    "X10t_test_std = stdsc10t.transform(X10t_test)\n",
    "\n",
    "X15t_train_std = stdsc15t.fit_transform(X15t_train)\n",
    "X15t_test_std = stdsc15t.transform(X15t_test)\n",
    "\n",
    "X20t_train_std = stdsc20t.fit_transform(X20t_train)\n",
    "X20t_test_std = stdsc20t.transform(X20t_test)\n",
    "\n",
    "X25t_train_std = stdsc25t.fit_transform(X25t_train)\n",
    "X25t_test_std = stdsc25t.transform(X25t_test)\n",
    "\n",
    "X30t_train_std = stdsc30t.fit_transform(X30t_train)\n",
    "X30t_test_std = stdsc30t.transform(X30t_test)"
   ]
  },
  {
   "cell_type": "code",
   "execution_count": 133,
   "metadata": {
    "collapsed": false
   },
   "outputs": [
    {
     "data": {
      "text/plain": [
       "RFE(estimator=ExtraTreesClassifier(bootstrap=False, class_weight=None, criterion='gini',\n",
       "           max_depth=None, max_features='auto', max_leaf_nodes=None,\n",
       "           min_samples_leaf=1, min_samples_split=2,\n",
       "           min_weight_fraction_leaf=0.0, n_estimators=10, n_jobs=1,\n",
       "           oob_score=False, random_state=None, verbose=0, warm_start=False),\n",
       "  estimator_params=None, n_features_to_select=None, step=1, verbose=0)"
      ]
     },
     "execution_count": 133,
     "metadata": {},
     "output_type": "execute_result"
    }
   ],
   "source": [
    "xtrain = X30t_train_std\n",
    "ytrain = Y30t_train\n",
    "rfecv = RFECV(estimator=et, step=1, cv=StratifiedKFold(ytrain, n_folds=10, random_state=seed), scoring='accuracy')\n",
    "rfecv.fit(xtrain,ytrain)\n",
    "rfe = RFE(estimator=et, step=1)\n",
    "rfe.fit(xtrain,ytrain)"
   ]
  },
  {
   "cell_type": "code",
   "execution_count": 134,
   "metadata": {
    "collapsed": false
   },
   "outputs": [
    {
     "name": "stdout",
     "output_type": "stream",
     "text": [
      "# of selected features with CV: 10\n",
      "Mask of selected features with CV: [ True False  True False False  True False  True  True  True  True  True\n",
      "  True  True]\n",
      "Selected features ranking: [1 2 1 4 5 1 3 1 1 1 1 1 1 1]\n",
      "CV scores: [ 0.41804825  0.78760203  0.84490749  0.85471386  0.86649284  0.86176991\n",
      "  0.86683974  0.87865726  0.87831943  0.88472701  0.87863006  0.87461228\n",
      "  0.87660983  0.87728777]\n"
     ]
    }
   ],
   "source": [
    "print('# of selected features with CV: %i' %rfecv.n_features_)\n",
    "print('Mask of selected features with CV: %s' %rfecv.support_)\n",
    "print('Selected features ranking: %s' %rfecv.ranking_)\n",
    "print('CV scores: %s' %rfecv.grid_scores_)"
   ]
  },
  {
   "cell_type": "code",
   "execution_count": 135,
   "metadata": {
    "collapsed": false
   },
   "outputs": [
    {
     "name": "stdout",
     "output_type": "stream",
     "text": [
      "Original number of features is 14\n",
      "RFE final number of features : 7\n",
      "RFECV final number of features : 10\n",
      "\n",
      "Printing RFECV results:\n",
      "1. Number of features: 10; Grid_Score: 0.884727\n",
      "2. Number of features: 8; Grid_Score: 0.878657\n",
      "3. Number of features: 11; Grid_Score: 0.878630\n",
      "4. Number of features: 9; Grid_Score: 0.878319\n",
      "5. Number of features: 14; Grid_Score: 0.877288\n",
      "6. Number of features: 13; Grid_Score: 0.876610\n",
      "7. Number of features: 12; Grid_Score: 0.874612\n",
      "8. Number of features: 7; Grid_Score: 0.866840\n",
      "9. Number of features: 5; Grid_Score: 0.866493\n",
      "10. Number of features: 6; Grid_Score: 0.861770\n",
      "11. Number of features: 4; Grid_Score: 0.854714\n",
      "12. Number of features: 3; Grid_Score: 0.844907\n",
      "13. Number of features: 2; Grid_Score: 0.787602\n",
      "14. Number of features: 1; Grid_Score: 0.418048\n"
     ]
    }
   ],
   "source": [
    "print('Original number of features is %s' % X.shape[1])\n",
    "print(\"RFE final number of features : %d\" % rfe.n_features_)\n",
    "print(\"RFECV final number of features : %d\" % rfecv.n_features_)\n",
    "print('')\n",
    "\n",
    "import numpy as np\n",
    "g_scores = rfecv.grid_scores_\n",
    "indices = np.argsort(g_scores)[::-1]\n",
    "print('Printing RFECV results:')\n",
    "for f in range(X.shape[1]):\n",
    "    print(\"%d. Number of features: %d; Grid_Score: %f\" % (f + 1, indices[f]+1, g_scores[indices[f]]))"
   ]
  },
  {
   "cell_type": "code",
   "execution_count": 136,
   "metadata": {
    "collapsed": false
   },
   "outputs": [
    {
     "data": {
      "image/png": "[encoded data removed]",
      "text/plain": [
       "<matplotlib.figure.Figure at 0x7f0356e7a908>"
      ]
     },
     "metadata": {},
     "output_type": "display_data"
    }
   ],
   "source": [
    "plt.rcParams['figure.figsize'] = 10, 8\n",
    "plt.xlabel(\"Number of features selected\")\n",
    "plt.ylabel(\"RFE Cross validation score (nb of correct classifications)\")\n",
    "plt.plot(range(1, len(rfecv.grid_scores_) + 1), rfecv.grid_scores_)\n",
    "plt.show()"
   ]
  },
  {
   "cell_type": "code",
   "execution_count": 137,
   "metadata": {
    "collapsed": false
   },
   "outputs": [
    {
     "name": "stdout",
     "output_type": "stream",
     "text": [
      "[1 2 1 4 5 1 3 1 1 1 1 1 1 1]\n"
     ]
    }
   ],
   "source": [
    "print(rfecv.ranking_)"
   ]
  },
  {
   "cell_type": "code",
   "execution_count": 138,
   "metadata": {
    "collapsed": false
   },
   "outputs": [
    {
     "name": "stdout",
     "output_type": "stream",
     "text": [
      "[ True False  True False False  True False  True  True  True  True  True\n",
      "  True  True]\n"
     ]
    }
   ],
   "source": [
    "print(rfecv.support_)"
   ]
  },
  {
   "cell_type": "code",
   "execution_count": 139,
   "metadata": {
    "collapsed": false
   },
   "outputs": [
    {
     "name": "stdout",
     "output_type": "stream",
     "text": [
      "10\n"
     ]
    }
   ],
   "source": [
    "print(rfecv.n_features_)"
   ]
  },
  {
   "cell_type": "code",
   "execution_count": 140,
   "metadata": {
    "collapsed": false
   },
   "outputs": [
    {
     "name": "stdout",
     "output_type": "stream",
     "text": [
      "F20\n",
      "F26\n",
      "F32\n",
      "F36\n",
      "F37\n",
      "F38\n",
      "F39\n",
      "F40\n",
      "F41\n",
      "F42\n"
     ]
    }
   ],
   "source": [
    "for selected, feature in zip(rfecv.support_, X.columns):\n",
    "    if selected == True:\n",
    "        print(feature)"
   ]
  },
  {
   "cell_type": "code",
   "execution_count": 142,
   "metadata": {
    "collapsed": false
   },
   "outputs": [
    {
     "name": "stdout",
     "output_type": "stream",
     "text": [
      "Original number of features is 14\n",
      "RFECV final number of features : 12\n",
      "\n",
      "Printing RFECV results:\n",
      "1. Number of features: 12; Grid_Score: 0.838212\n",
      "2. Number of features: 6; Grid_Score: 0.837871\n",
      "3. Number of features: 9; Grid_Score: 0.837535\n",
      "4. Number of features: 5; Grid_Score: 0.834533\n",
      "5. Number of features: 7; Grid_Score: 0.833538\n",
      "6. Number of features: 13; Grid_Score: 0.832144\n",
      "7. Number of features: 10; Grid_Score: 0.831487\n",
      "8. Number of features: 8; Grid_Score: 0.829458\n",
      "9. Number of features: 11; Grid_Score: 0.828783\n",
      "10. Number of features: 14; Grid_Score: 0.818687\n",
      "11. Number of features: 4; Grid_Score: 0.817353\n",
      "12. Number of features: 3; Grid_Score: 0.800455\n",
      "13. Number of features: 2; Grid_Score: 0.756647\n",
      "14. Number of features: 1; Grid_Score: 0.410194\n"
     ]
    },
    {
     "data": {
      "image/png": "[encoded data removed]",
      "text/plain": [
       "<matplotlib.figure.Figure at 0x7f03571cada0>"
      ]
     },
     "metadata": {},
     "output_type": "display_data"
    },
    {
     "name": "stdout",
     "output_type": "stream",
     "text": [
      "F20\n",
      "F22\n",
      "F26\n",
      "F30\n",
      "F32\n",
      "F36\n",
      "F37\n",
      "F38\n",
      "F39\n",
      "F40\n",
      "F41\n",
      "F42\n"
     ]
    }
   ],
   "source": [
    "#stdsct10b = StandardScaler()\n",
    "#stdsct10t = StandardScaler()\n",
    "\n",
    "X1 = data1.loc[:,['F20','F22','F26','F29','F30','F32','F35','F36','F37','F38','F39','F40','F41','F42']]\n",
    "\n",
    "Xt10b_train, Xt10b_test, Yt10b_train, Yt10b_test = cross_validation.train_test_split(X1, yt10_b, test_size=validation_size, \n",
    "                                                                                 random_state=seed)\n",
    "\n",
    "Xt10t_train, Xt10t_test, Yt10t_train, Yt10t_test = cross_validation.train_test_split(X1, yt10_t, test_size=validation_size, \n",
    "                                                                                 random_state=seed)\n",
    "\n",
    "Xt15t_train, Xt15t_test, Yt15t_train, Yt15t_test = cross_validation.train_test_split(X1, yt15_t, test_size=validation_size, \n",
    "                                                                                 random_state=seed)\n",
    "\n",
    "Xt20t_train, Xt20t_test, Yt20t_train, Yt20t_test = cross_validation.train_test_split(X1, yt20_t, test_size=validation_size, \n",
    "                                                                                 random_state=seed)\n",
    "\n",
    "Xt10b_std = stdsc10b.transform(Xt10b_train)\n",
    "Xt10t_std = stdsc10t.transform(Xt10t_train)\n",
    "Xt15t_std = stdsc15t.transform(Xt15t_train)\n",
    "Xt20t_std = stdsc20t.transform(Xt20t_train)\n",
    "\n",
    "xtrain = Xt20t_std\n",
    "ytrain = Yt20t_train\n",
    "\n",
    "#yt10_b\n",
    "rfecv1 = RFECV(estimator=et, step=1, cv=StratifiedKFold(ytrain, n_folds=10, random_state=seed), scoring='accuracy')\n",
    "#rfecv1.fit(X110b,yt10_t)\n",
    "rfecv1.fit(xtrain,ytrain)\n",
    "#rfecv1.fit(X10t_train_std,Y10t_train)\n",
    "\n",
    "print('Original number of features is %s' % X1.shape[1])\n",
    "#print(\"RFE final number of features : %d\" % rfe.n_features_)\n",
    "print(\"RFECV final number of features : %d\" % rfecv1.n_features_)\n",
    "print('')\n",
    "\n",
    "import numpy as np\n",
    "g_scores = rfecv1.grid_scores_\n",
    "indices = np.argsort(g_scores)[::-1]\n",
    "print('Printing RFECV results:')\n",
    "for f in range(X.shape[1]):\n",
    "    print(\"%d. Number of features: %d; Grid_Score: %f\" % (f + 1, indices[f]+1, g_scores[indices[f]]))\n",
    "\n",
    "plt.rcParams['figure.figsize'] = 10, 8\n",
    "plt.xlabel(\"Number of features selected\")\n",
    "plt.ylabel(\"RFE Cross validation score (nb of correct classifications)\")\n",
    "plt.plot(range(1, len(rfecv1.grid_scores_) + 1), rfecv1.grid_scores_)\n",
    "plt.show()\n",
    "\n",
    "\n",
    "for selected, feature in zip(rfecv1.support_, X1.columns):\n",
    "    if selected == True:\n",
    "        print(feature)"
   ]
  },
  {
   "cell_type": "code",
   "execution_count": null,
   "metadata": {
    "collapsed": false
   },
   "outputs": [],
   "source": [
    "# ensembles\n",
    "ensembles = []\n",
    "ensembles.append(('ScaledAB', Pipeline([('Scaler', StandardScaler()),('AB', AdaBoostClassifier())])))\n",
    "ensembles.append(('ScaledGBM', Pipeline([('Scaler', StandardScaler()),('GBM', GradientBoostingClassifier())])))\n",
    "ensembles.append(('ScaledRF', Pipeline([('Scaler', StandardScaler()),('RF', RandomForestClassifier())])))\n",
    "ensembles.append(('ScaledET', Pipeline([('Scaler', StandardScaler()),('ET', ExtraTreesClassifier())])))\n",
    "ensembles.append(('ScaledXGB', Pipeline([('Scaler', StandardScaler()),('XGB', XGBClassifier())])))\n",
    "results = []\n",
    "names = []\n",
    "kfold = cross_validation.KFold(n=num_instances, n_folds=num_folds, random_state=seed)\n",
    "for name, model in ensembles:\n",
    "    cv_results = cross_validation.cross_val_score(model, X_train, Y_train, cv=kfold, scoring=scoring)\n",
    "    results.append(cv_results)\n",
    "    names.append(name)\n",
    "    msg = \"%s: %f (%f)\" % (name, cv_results.mean(), cv_results.std())\n",
    "    print(msg)"
   ]
  },
  {
   "cell_type": "code",
   "execution_count": null,
   "metadata": {
    "collapsed": false
   },
   "outputs": [],
   "source": [
    "plt.figure()\n",
    "model = Pipeline([('Scaler', StandardScaler()),('ET', ExtraTreesClassifier())])\n",
    "train_sizes, train_scores, test_scores = learning_curve(model, X, y5_b, cv=kfold, n_jobs=1, train_sizes=np.linspace(.1,1.0,5))\n",
    "train_scores_mean = np.mean(train_scores, axis=1)\n",
    "train_scores_std = np.std(train_scores, axis=1)\n",
    "test_scores_mean = np.mean(test_scores, axis=1)\n",
    "test_scores_std = np.std(test_scores, axis=1)\n",
    "plt.grid()\n",
    "plt.fill_between(train_sizes, train_scores_mean-train_scores_std, train_scores_mean+train_scores_std, alpha=0.1, color=\"r\")\n",
    "plt.fill_between(train_sizes, test_scores_mean-test_scores_std, test_scores_mean+test_scores_std, alpha=0.1, color=\"g\")\n",
    "plt.plot(train_sizes, train_scores_mean, 'o-', color=\"r\", label=\"Training Score\")\n",
    "plt.plot(train_sizes, test_scores_mean, 'o-', color=\"g\", label=\"Cross-Validation Score\")\n",
    "plt.legend(loc=\"best\")\n",
    "plt.show()"
   ]
  },
  {
   "cell_type": "code",
   "execution_count": 42,
   "metadata": {
    "collapsed": false
   },
   "outputs": [
    {
     "data": {
      "image/png": "[encoded data removed]",
      "text/plain": [
       "<matplotlib.figure.Figure at 0x7f38d845f2b0>"
      ]
     },
     "metadata": {},
     "output_type": "display_data"
    }
   ],
   "source": [
    "stdsc = StandardScaler()\n",
    "X_train_std = stdsc.fit_transform(X10b_train)\n",
    "X_test_std = stdsc.transform(X10b_validation)\n",
    "    \n",
    "et = ExtraTreesClassifier()\n",
    "\n",
    "# selecting features\n",
    "sbs = SBS(et, k_features=5)\n",
    "sbs.fit(X_train_std, Y10b_train)\n",
    "\n",
    "# plotting performance of feature subsets\n",
    "k_feat = [len(k) for k in sbs.subsets_]\n",
    "\n",
    "plt.plot(k_feat, sbs.scores_, marker='o')\n",
    "plt.ylim([0.7, 1.0])\n",
    "plt.ylabel('Accuracy')\n",
    "plt.xlabel('Number of features')\n",
    "plt.grid()\n",
    "plt.tight_layout()\n",
    "# plt.savefig('./sbs.png', dpi=300)\n",
    "plt.show()"
   ]
  },
  {
   "cell_type": "code",
   "execution_count": 179,
   "metadata": {
    "collapsed": false
   },
   "outputs": [
    {
     "ename": "AttributeError",
     "evalue": "'numpy.ndarray' object has no attribute 'columns'",
     "output_type": "error",
     "traceback": [
      "\u001b[0;31m---------------------------------------------------------------------------\u001b[0m",
      "\u001b[0;31mAttributeError\u001b[0m                            Traceback (most recent call last)",
      "\u001b[0;32m<ipython-input-179-169f4f45d001>\u001b[0m in \u001b[0;36m<module>\u001b[0;34m()\u001b[0m\n\u001b[1;32m      1\u001b[0m \u001b[0mk5\u001b[0m \u001b[0;34m=\u001b[0m \u001b[0mlist\u001b[0m\u001b[0;34m(\u001b[0m\u001b[0msbs\u001b[0m\u001b[0;34m.\u001b[0m\u001b[0msubsets_\u001b[0m\u001b[0;34m[\u001b[0m\u001b[0;36m10\u001b[0m\u001b[0;34m]\u001b[0m\u001b[0;34m)\u001b[0m\u001b[0;34m\u001b[0m\u001b[0m\n\u001b[0;32m----> 2\u001b[0;31m \u001b[0mprint\u001b[0m\u001b[0;34m(\u001b[0m\u001b[0mX10b_train_std\u001b[0m\u001b[0;34m.\u001b[0m\u001b[0mcolumns\u001b[0m\u001b[0;34m[\u001b[0m\u001b[0;36m1\u001b[0m\u001b[0;34m:\u001b[0m\u001b[0;34m]\u001b[0m\u001b[0;34m[\u001b[0m\u001b[0mk5\u001b[0m\u001b[0;34m]\u001b[0m\u001b[0;34m)\u001b[0m\u001b[0;34m\u001b[0m\u001b[0m\n\u001b[0m\u001b[1;32m      3\u001b[0m \u001b[0;31m#print(k5)\u001b[0m\u001b[0;34m\u001b[0m\u001b[0;34m\u001b[0m\u001b[0m\n",
      "\u001b[0;31mAttributeError\u001b[0m: 'numpy.ndarray' object has no attribute 'columns'"
     ]
    }
   ],
   "source": [
    "k5 = list(sbs.subsets_[10])\n",
    "print(X10b_train_std.columns[1:][k5])\n",
    "#print(k5)"
   ]
  },
  {
   "cell_type": "code",
   "execution_count": 43,
   "metadata": {
    "collapsed": false
   },
   "outputs": [
    {
     "name": "stdout",
     "output_type": "stream",
     "text": [
      "Training accuracy: 1.0\n",
      "Test accuracy: 0.743243243243\n"
     ]
    }
   ],
   "source": [
    "et.fit(X10b_train_std, Y10b_train)\n",
    "print('Training accuracy:', et.score(X10b_train_std, Y10b_train))\n",
    "print('Test accuracy:', et.score(X10b_test_std, Y10b_validation))"
   ]
  },
  {
   "cell_type": "code",
   "execution_count": 44,
   "metadata": {
    "collapsed": false
   },
   "outputs": [
    {
     "ename": "NameError",
     "evalue": "name 'k5' is not defined",
     "output_type": "error",
     "traceback": [
      "\u001b[0;31m---------------------------------------------------------------------------\u001b[0m",
      "\u001b[0;31mNameError\u001b[0m                                 Traceback (most recent call last)",
      "\u001b[0;32m<ipython-input-44-fda98e29f996>\u001b[0m in \u001b[0;36m<module>\u001b[0;34m()\u001b[0m\n\u001b[0;32m----> 1\u001b[0;31m \u001b[0met\u001b[0m\u001b[0;34m.\u001b[0m\u001b[0mfit\u001b[0m\u001b[0;34m(\u001b[0m\u001b[0mX10b_train_std\u001b[0m\u001b[0;34m[\u001b[0m\u001b[0;34m:\u001b[0m\u001b[0;34m,\u001b[0m \u001b[0mk5\u001b[0m\u001b[0;34m]\u001b[0m\u001b[0;34m,\u001b[0m \u001b[0mY10b_train\u001b[0m\u001b[0;34m)\u001b[0m\u001b[0;34m\u001b[0m\u001b[0m\n\u001b[0m\u001b[1;32m      2\u001b[0m \u001b[0mprint\u001b[0m\u001b[0;34m(\u001b[0m\u001b[0;34m'Training accuracy:'\u001b[0m\u001b[0;34m,\u001b[0m \u001b[0met\u001b[0m\u001b[0;34m.\u001b[0m\u001b[0mscore\u001b[0m\u001b[0;34m(\u001b[0m\u001b[0mX10b_train_std\u001b[0m\u001b[0;34m[\u001b[0m\u001b[0;34m:\u001b[0m\u001b[0;34m,\u001b[0m \u001b[0mk5\u001b[0m\u001b[0;34m]\u001b[0m\u001b[0;34m,\u001b[0m \u001b[0mY10b_train\u001b[0m\u001b[0;34m)\u001b[0m\u001b[0;34m)\u001b[0m\u001b[0;34m\u001b[0m\u001b[0m\n\u001b[1;32m      3\u001b[0m \u001b[0mprint\u001b[0m\u001b[0;34m(\u001b[0m\u001b[0;34m'Test accuracy:'\u001b[0m\u001b[0;34m,\u001b[0m \u001b[0met\u001b[0m\u001b[0;34m.\u001b[0m\u001b[0mscore\u001b[0m\u001b[0;34m(\u001b[0m\u001b[0mX10b_test_std\u001b[0m\u001b[0;34m[\u001b[0m\u001b[0;34m:\u001b[0m\u001b[0;34m,\u001b[0m \u001b[0mk5\u001b[0m\u001b[0;34m]\u001b[0m\u001b[0;34m,\u001b[0m \u001b[0mY10b_validation\u001b[0m\u001b[0;34m)\u001b[0m\u001b[0;34m)\u001b[0m\u001b[0;34m\u001b[0m\u001b[0m\n",
      "\u001b[0;31mNameError\u001b[0m: name 'k5' is not defined"
     ]
    }
   ],
   "source": [
    "et.fit(X10b_train_std[:, k5], Y10b_train)\n",
    "print('Training accuracy:', et.score(X10b_train_std[:, k5], Y10b_train))\n",
    "print('Test accuracy:', et.score(X10b_test_std[:, k5], Y10b_validation))"
   ]
  },
  {
   "cell_type": "code",
   "execution_count": null,
   "metadata": {
    "collapsed": true
   },
   "outputs": [],
   "source": []
  }
 ],
 "metadata": {
  "kernelspec": {
   "display_name": "Python 3",
   "language": "python",
   "name": "python3"
  },
  "language_info": {
   "codemirror_mode": {
    "name": "ipython",
    "version": 3
   },
   "file_extension": ".py",
   "mimetype": "text/x-python",
   "name": "python",
   "nbconvert_exporter": "python",
   "pygments_lexer": "ipython3",
   "version": "3.5.2"
  }
 },
 "nbformat": 4,
 "nbformat_minor": 0
}
