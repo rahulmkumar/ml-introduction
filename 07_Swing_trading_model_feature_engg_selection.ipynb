{
 "cells": [
  {
   "cell_type": "code",
   "execution_count": 1,
   "metadata": {
    "collapsed": true
   },
   "outputs": [],
   "source": [
    "import time\n",
    "import numpy as np\n",
    "import pandas as pd\n",
    "from sklearn.preprocessing import OneHotEncoder\n",
    "from sklearn.preprocessing import LabelEncoder\n",
    "import matplotlib.pyplot as plt\n",
    "%matplotlib inline \n",
    "plt.rcParams['figure.figsize'] = 16, 12\n",
    "\n",
    "\n",
    "from pandas.tools.plotting import scatter_matrix\n",
    "from sklearn.preprocessing import StandardScaler\n",
    "from sklearn.preprocessing import Normalizer\n",
    "from sklearn.preprocessing import MinMaxScaler\n",
    "from sklearn.preprocessing import Imputer\n",
    "from sklearn import cross_validation\n",
    "from sklearn.cross_validation import StratifiedKFold, KFold\n",
    "from sklearn.metrics import classification_report\n",
    "from sklearn.metrics import confusion_matrix\n",
    "from sklearn.metrics import accuracy_score\n",
    "from sklearn.feature_selection import SelectFromModel\n",
    "from sklearn.feature_selection import RFECV\n",
    "from sklearn.feature_selection import RFE\n",
    "from sklearn.pipeline import Pipeline\n",
    "from sklearn.grid_search import GridSearchCV\n",
    "from sklearn.linear_model import LogisticRegression\n",
    "from sklearn.tree import DecisionTreeClassifier\n",
    "from sklearn.neighbors import KNeighborsClassifier\n",
    "from sklearn.discriminant_analysis import LinearDiscriminantAnalysis\n",
    "from sklearn.naive_bayes import GaussianNB\n",
    "from sklearn.svm import SVC\n",
    "from sklearn.ensemble import AdaBoostClassifier\n",
    "from sklearn.ensemble import GradientBoostingClassifier\n",
    "from sklearn.ensemble import RandomForestClassifier\n",
    "from sklearn.ensemble import ExtraTreesClassifier\n",
    "from xgboost.sklearn import XGBClassifier\n",
    "from xgboost import plot_importance\n",
    "from sklearn.decomposition import PCA\n",
    "\n",
    "from sklearn.learning_curve import learning_curve\n",
    "from sklearn.learning_curve import validation_curve"
   ]
  },
  {
   "cell_type": "markdown",
   "metadata": {},
   "source": [
    "##### The Sequential Backward Selection algorithm below has been taken from:\n",
    "Python Machine Learning - By Sebastian Raschka - Chapter 4"
   ]
  },
  {
   "cell_type": "code",
   "execution_count": 2,
   "metadata": {
    "collapsed": true
   },
   "outputs": [],
   "source": [
    "from sklearn.base import clone\n",
    "from itertools import combinations\n",
    "import numpy as np\n",
    "from sklearn.cross_validation import train_test_split\n",
    "from sklearn.metrics import accuracy_score\n",
    "\n",
    "class SBS():\n",
    "    def __init__(self, estimator, k_features, scoring=accuracy_score,\n",
    "                 test_size=0.25, random_state=1):\n",
    "        self.scoring = scoring\n",
    "        self.estimator = clone(estimator)\n",
    "        self.k_features = k_features\n",
    "        self.test_size = test_size\n",
    "        self.random_state = random_state\n",
    "\n",
    "    def fit(self, X, y):\n",
    "        \n",
    "        X_train, X_test, y_train, y_test = \\\n",
    "            train_test_split(X, y, test_size=self.test_size,\n",
    "                             random_state=self.random_state)\n",
    "\n",
    "        dim = X_train.shape[1]\n",
    "        self.indices_ = tuple(range(dim))\n",
    "        self.subsets_ = [self.indices_]\n",
    "        score = self._calc_score(X_train, y_train, \n",
    "                                 X_test, y_test, self.indices_)\n",
    "        self.scores_ = [score]\n",
    "\n",
    "        while dim > self.k_features:\n",
    "            scores = []\n",
    "            subsets = []\n",
    "\n",
    "            for p in combinations(self.indices_, r=dim - 1):\n",
    "                score = self._calc_score(X_train, y_train, \n",
    "                                         X_test, y_test, p)\n",
    "                scores.append(score)\n",
    "                subsets.append(p)\n",
    "\n",
    "            best = np.argmax(scores)\n",
    "            self.indices_ = subsets[best]\n",
    "            self.subsets_.append(self.indices_)\n",
    "            dim -= 1\n",
    "\n",
    "            self.scores_.append(scores[best])\n",
    "        self.k_score_ = self.scores_[-1]\n",
    "\n",
    "        return self\n",
    "\n",
    "    def transform(self, X):\n",
    "        return X[:, self.indices_]\n",
    "\n",
    "    def _calc_score(self, X_train, y_train, X_test, y_test, indices):\n",
    "        self.estimator.fit(X_train[:, indices], y_train)\n",
    "        y_pred = self.estimator.predict(X_test[:, indices])\n",
    "        score = self.scoring(y_test, y_pred)\n",
    "        return score"
   ]
  },
  {
   "cell_type": "code",
   "execution_count": 3,
   "metadata": {
    "collapsed": false
   },
   "outputs": [],
   "source": [
    "file = 'data/price_data.csv'\n",
    "data = pd.read_csv(file)\n",
    "\n",
    "file1 = 'data/price_data1.csv'\n",
    "data1 = pd.read_csv(file1)"
   ]
  },
  {
   "cell_type": "code",
   "execution_count": 4,
   "metadata": {
    "collapsed": false
   },
   "outputs": [
    {
     "data": {
      "text/html": [
       "<div>\n",
       "<table border=\"1\" class=\"dataframe\">\n",
       "  <thead>\n",
       "    <tr style=\"text-align: right;\">\n",
       "      <th></th>\n",
       "      <th>Date</th>\n",
       "      <th>F1</th>\n",
       "      <th>F2</th>\n",
       "      <th>F3</th>\n",
       "      <th>F4</th>\n",
       "      <th>F5</th>\n",
       "      <th>F6</th>\n",
       "      <th>F7</th>\n",
       "      <th>F8</th>\n",
       "      <th>F9</th>\n",
       "      <th>...</th>\n",
       "      <th>F152</th>\n",
       "      <th>F153</th>\n",
       "      <th>F154</th>\n",
       "      <th>F155</th>\n",
       "      <th>F156</th>\n",
       "      <th>F157</th>\n",
       "      <th>F158</th>\n",
       "      <th>F159</th>\n",
       "      <th>F160</th>\n",
       "      <th>F161</th>\n",
       "    </tr>\n",
       "  </thead>\n",
       "  <tbody>\n",
       "    <tr>\n",
       "      <th>0</th>\n",
       "      <td>2001-11-01</td>\n",
       "      <td>-0.255573</td>\n",
       "      <td>0.843547</td>\n",
       "      <td>1.934654</td>\n",
       "      <td>3.154484</td>\n",
       "      <td>4.338643</td>\n",
       "      <td>0.721823</td>\n",
       "      <td>1.820943</td>\n",
       "      <td>2.912050</td>\n",
       "      <td>4.131880</td>\n",
       "      <td>...</td>\n",
       "      <td>0</td>\n",
       "      <td>0</td>\n",
       "      <td>0</td>\n",
       "      <td>0</td>\n",
       "      <td>0</td>\n",
       "      <td>-1</td>\n",
       "      <td>1</td>\n",
       "      <td>1</td>\n",
       "      <td>0</td>\n",
       "      <td>1</td>\n",
       "    </tr>\n",
       "    <tr>\n",
       "      <th>1</th>\n",
       "      <td>2001-11-02</td>\n",
       "      <td>0.450025</td>\n",
       "      <td>1.570834</td>\n",
       "      <td>2.667976</td>\n",
       "      <td>3.911019</td>\n",
       "      <td>5.127367</td>\n",
       "      <td>0.720301</td>\n",
       "      <td>1.841110</td>\n",
       "      <td>2.938253</td>\n",
       "      <td>4.181296</td>\n",
       "      <td>...</td>\n",
       "      <td>0</td>\n",
       "      <td>0</td>\n",
       "      <td>0</td>\n",
       "      <td>0</td>\n",
       "      <td>0</td>\n",
       "      <td>0</td>\n",
       "      <td>1</td>\n",
       "      <td>1</td>\n",
       "      <td>1</td>\n",
       "      <td>1</td>\n",
       "    </tr>\n",
       "    <tr>\n",
       "      <th>2</th>\n",
       "      <td>2001-11-05</td>\n",
       "      <td>0.806067</td>\n",
       "      <td>1.926585</td>\n",
       "      <td>3.025005</td>\n",
       "      <td>4.287761</td>\n",
       "      <td>5.534214</td>\n",
       "      <td>0.601789</td>\n",
       "      <td>1.722307</td>\n",
       "      <td>2.820726</td>\n",
       "      <td>4.083482</td>\n",
       "      <td>...</td>\n",
       "      <td>0</td>\n",
       "      <td>1</td>\n",
       "      <td>0</td>\n",
       "      <td>0</td>\n",
       "      <td>0</td>\n",
       "      <td>0</td>\n",
       "      <td>1</td>\n",
       "      <td>1</td>\n",
       "      <td>1</td>\n",
       "      <td>1</td>\n",
       "    </tr>\n",
       "  </tbody>\n",
       "</table>\n",
       "<p>3 rows × 162 columns</p>\n",
       "</div>"
      ],
      "text/plain": [
       "         Date        F1        F2        F3        F4        F5        F6  \\\n",
       "0  2001-11-01 -0.255573  0.843547  1.934654  3.154484  4.338643  0.721823   \n",
       "1  2001-11-02  0.450025  1.570834  2.667976  3.911019  5.127367  0.720301   \n",
       "2  2001-11-05  0.806067  1.926585  3.025005  4.287761  5.534214  0.601789   \n",
       "\n",
       "         F7        F8        F9  ...   F152  F153  F154  F155  F156  F157  \\\n",
       "0  1.820943  2.912050  4.131880  ...      0     0     0     0     0    -1   \n",
       "1  1.841110  2.938253  4.181296  ...      0     0     0     0     0     0   \n",
       "2  1.722307  2.820726  4.083482  ...      0     1     0     0     0     0   \n",
       "\n",
       "   F158  F159  F160  F161  \n",
       "0     1     1     0     1  \n",
       "1     1     1     1     1  \n",
       "2     1     1     1     1  \n",
       "\n",
       "[3 rows x 162 columns]"
      ]
     },
     "execution_count": 4,
     "metadata": {},
     "output_type": "execute_result"
    }
   ],
   "source": [
    "data.head(3)"
   ]
  },
  {
   "cell_type": "code",
   "execution_count": 5,
   "metadata": {
    "collapsed": false
   },
   "outputs": [],
   "source": [
    "del data['Date']\n",
    "del data1['Date']"
   ]
  },
  {
   "cell_type": "code",
   "execution_count": 6,
   "metadata": {
    "collapsed": false
   },
   "outputs": [
    {
     "data": {
      "text/html": [
       "<div>\n",
       "<table border=\"1\" class=\"dataframe\">\n",
       "  <thead>\n",
       "    <tr style=\"text-align: right;\">\n",
       "      <th></th>\n",
       "      <th>F1</th>\n",
       "      <th>F2</th>\n",
       "      <th>F3</th>\n",
       "      <th>F4</th>\n",
       "      <th>F5</th>\n",
       "      <th>F6</th>\n",
       "      <th>F7</th>\n",
       "      <th>F8</th>\n",
       "      <th>F9</th>\n",
       "      <th>F10</th>\n",
       "      <th>...</th>\n",
       "      <th>F152</th>\n",
       "      <th>F153</th>\n",
       "      <th>F154</th>\n",
       "      <th>F155</th>\n",
       "      <th>F156</th>\n",
       "      <th>F157</th>\n",
       "      <th>F158</th>\n",
       "      <th>F159</th>\n",
       "      <th>F160</th>\n",
       "      <th>F161</th>\n",
       "    </tr>\n",
       "  </thead>\n",
       "  <tbody>\n",
       "    <tr>\n",
       "      <th>0</th>\n",
       "      <td>-0.255573</td>\n",
       "      <td>0.843547</td>\n",
       "      <td>1.934654</td>\n",
       "      <td>3.154484</td>\n",
       "      <td>4.338643</td>\n",
       "      <td>0.721823</td>\n",
       "      <td>1.820943</td>\n",
       "      <td>2.912050</td>\n",
       "      <td>4.131880</td>\n",
       "      <td>5.316038</td>\n",
       "      <td>...</td>\n",
       "      <td>0</td>\n",
       "      <td>0</td>\n",
       "      <td>0</td>\n",
       "      <td>0</td>\n",
       "      <td>0</td>\n",
       "      <td>-1</td>\n",
       "      <td>1</td>\n",
       "      <td>1</td>\n",
       "      <td>0</td>\n",
       "      <td>1</td>\n",
       "    </tr>\n",
       "    <tr>\n",
       "      <th>1</th>\n",
       "      <td>0.450025</td>\n",
       "      <td>1.570834</td>\n",
       "      <td>2.667976</td>\n",
       "      <td>3.911019</td>\n",
       "      <td>5.127367</td>\n",
       "      <td>0.720301</td>\n",
       "      <td>1.841110</td>\n",
       "      <td>2.938253</td>\n",
       "      <td>4.181296</td>\n",
       "      <td>5.397643</td>\n",
       "      <td>...</td>\n",
       "      <td>0</td>\n",
       "      <td>0</td>\n",
       "      <td>0</td>\n",
       "      <td>0</td>\n",
       "      <td>0</td>\n",
       "      <td>0</td>\n",
       "      <td>1</td>\n",
       "      <td>1</td>\n",
       "      <td>1</td>\n",
       "      <td>1</td>\n",
       "    </tr>\n",
       "    <tr>\n",
       "      <th>2</th>\n",
       "      <td>0.806067</td>\n",
       "      <td>1.926585</td>\n",
       "      <td>3.025005</td>\n",
       "      <td>4.287761</td>\n",
       "      <td>5.534214</td>\n",
       "      <td>0.601789</td>\n",
       "      <td>1.722307</td>\n",
       "      <td>2.820726</td>\n",
       "      <td>4.083482</td>\n",
       "      <td>5.329935</td>\n",
       "      <td>...</td>\n",
       "      <td>0</td>\n",
       "      <td>1</td>\n",
       "      <td>0</td>\n",
       "      <td>0</td>\n",
       "      <td>0</td>\n",
       "      <td>0</td>\n",
       "      <td>1</td>\n",
       "      <td>1</td>\n",
       "      <td>1</td>\n",
       "      <td>1</td>\n",
       "    </tr>\n",
       "  </tbody>\n",
       "</table>\n",
       "<p>3 rows × 161 columns</p>\n",
       "</div>"
      ],
      "text/plain": [
       "         F1        F2        F3        F4        F5        F6        F7  \\\n",
       "0 -0.255573  0.843547  1.934654  3.154484  4.338643  0.721823  1.820943   \n",
       "1  0.450025  1.570834  2.667976  3.911019  5.127367  0.720301  1.841110   \n",
       "2  0.806067  1.926585  3.025005  4.287761  5.534214  0.601789  1.722307   \n",
       "\n",
       "         F8        F9       F10  ...   F152  F153  F154  F155  F156  F157  \\\n",
       "0  2.912050  4.131880  5.316038  ...      0     0     0     0     0    -1   \n",
       "1  2.938253  4.181296  5.397643  ...      0     0     0     0     0     0   \n",
       "2  2.820726  4.083482  5.329935  ...      0     1     0     0     0     0   \n",
       "\n",
       "   F158  F159  F160  F161  \n",
       "0     1     1     0     1  \n",
       "1     1     1     1     1  \n",
       "2     1     1     1     1  \n",
       "\n",
       "[3 rows x 161 columns]"
      ]
     },
     "execution_count": 6,
     "metadata": {},
     "output_type": "execute_result"
    }
   ],
   "source": [
    "data.head(3)"
   ]
  },
  {
   "cell_type": "code",
   "execution_count": 7,
   "metadata": {
    "collapsed": false
   },
   "outputs": [],
   "source": [
    "# Features are F1 through F42\n",
    "# Labels are RET5, RET10, RET15, RET20, RET25, RET30\n",
    "\n",
    "X = data.loc[:,'F1':'F68']\n",
    "X_events = data.loc[:,'F75':'F161']\n",
    "y5 = data.loc[:,'RET5']\n",
    "y10 = data.loc[:,'RET10']\n",
    "y15 = data.loc[:,'RET15']\n",
    "y20 = data.loc[:,'RET20']\n",
    "y25 = data.loc[:,'RET25']\n",
    "y30 = data.loc[:,'RET30']"
   ]
  },
  {
   "cell_type": "code",
   "execution_count": 8,
   "metadata": {
    "collapsed": false
   },
   "outputs": [],
   "source": [
    "X1 = data1.loc[:,'F1':'F68']\n",
    "X1_events = data1.loc[:,'F75':'F161']\n",
    "yt5 = data1.loc[:,'RET5']\n",
    "yt10 = data1.loc[:,'RET10']\n",
    "yt15 = data1.loc[:,'RET15']\n",
    "yt20 = data1.loc[:,'RET20']\n",
    "yt25 = data1.loc[:,'RET25']\n",
    "yt30 = data1.loc[:,'RET30']"
   ]
  },
  {
   "cell_type": "code",
   "execution_count": 10,
   "metadata": {
    "collapsed": false
   },
   "outputs": [
    {
     "data": {
      "text/html": [
       "<div>\n",
       "<table border=\"1\" class=\"dataframe\">\n",
       "  <thead>\n",
       "    <tr style=\"text-align: right;\">\n",
       "      <th></th>\n",
       "      <th>F75</th>\n",
       "      <th>F76</th>\n",
       "      <th>F77</th>\n",
       "      <th>F78</th>\n",
       "      <th>F79</th>\n",
       "      <th>F80</th>\n",
       "      <th>F81</th>\n",
       "      <th>F82</th>\n",
       "      <th>F83</th>\n",
       "      <th>F84</th>\n",
       "      <th>...</th>\n",
       "      <th>F152</th>\n",
       "      <th>F153</th>\n",
       "      <th>F154</th>\n",
       "      <th>F155</th>\n",
       "      <th>F156</th>\n",
       "      <th>F157</th>\n",
       "      <th>F158</th>\n",
       "      <th>F159</th>\n",
       "      <th>F160</th>\n",
       "      <th>F161</th>\n",
       "    </tr>\n",
       "  </thead>\n",
       "  <tbody>\n",
       "    <tr>\n",
       "      <th>0</th>\n",
       "      <td>1</td>\n",
       "      <td>1</td>\n",
       "      <td>1</td>\n",
       "      <td>1</td>\n",
       "      <td>1</td>\n",
       "      <td>1</td>\n",
       "      <td>1</td>\n",
       "      <td>1</td>\n",
       "      <td>1</td>\n",
       "      <td>1</td>\n",
       "      <td>...</td>\n",
       "      <td>0</td>\n",
       "      <td>0</td>\n",
       "      <td>0</td>\n",
       "      <td>0</td>\n",
       "      <td>0</td>\n",
       "      <td>-1</td>\n",
       "      <td>1</td>\n",
       "      <td>1</td>\n",
       "      <td>0</td>\n",
       "      <td>1</td>\n",
       "    </tr>\n",
       "    <tr>\n",
       "      <th>1</th>\n",
       "      <td>1</td>\n",
       "      <td>1</td>\n",
       "      <td>1</td>\n",
       "      <td>1</td>\n",
       "      <td>1</td>\n",
       "      <td>1</td>\n",
       "      <td>1</td>\n",
       "      <td>1</td>\n",
       "      <td>1</td>\n",
       "      <td>1</td>\n",
       "      <td>...</td>\n",
       "      <td>0</td>\n",
       "      <td>0</td>\n",
       "      <td>0</td>\n",
       "      <td>0</td>\n",
       "      <td>0</td>\n",
       "      <td>0</td>\n",
       "      <td>1</td>\n",
       "      <td>1</td>\n",
       "      <td>1</td>\n",
       "      <td>1</td>\n",
       "    </tr>\n",
       "    <tr>\n",
       "      <th>2</th>\n",
       "      <td>1</td>\n",
       "      <td>1</td>\n",
       "      <td>1</td>\n",
       "      <td>1</td>\n",
       "      <td>1</td>\n",
       "      <td>1</td>\n",
       "      <td>1</td>\n",
       "      <td>1</td>\n",
       "      <td>1</td>\n",
       "      <td>1</td>\n",
       "      <td>...</td>\n",
       "      <td>0</td>\n",
       "      <td>1</td>\n",
       "      <td>0</td>\n",
       "      <td>0</td>\n",
       "      <td>0</td>\n",
       "      <td>0</td>\n",
       "      <td>1</td>\n",
       "      <td>1</td>\n",
       "      <td>1</td>\n",
       "      <td>1</td>\n",
       "    </tr>\n",
       "    <tr>\n",
       "      <th>3</th>\n",
       "      <td>1</td>\n",
       "      <td>1</td>\n",
       "      <td>1</td>\n",
       "      <td>1</td>\n",
       "      <td>1</td>\n",
       "      <td>1</td>\n",
       "      <td>1</td>\n",
       "      <td>1</td>\n",
       "      <td>1</td>\n",
       "      <td>1</td>\n",
       "      <td>...</td>\n",
       "      <td>0</td>\n",
       "      <td>0</td>\n",
       "      <td>0</td>\n",
       "      <td>0</td>\n",
       "      <td>1</td>\n",
       "      <td>0</td>\n",
       "      <td>1</td>\n",
       "      <td>1</td>\n",
       "      <td>1</td>\n",
       "      <td>1</td>\n",
       "    </tr>\n",
       "    <tr>\n",
       "      <th>4</th>\n",
       "      <td>1</td>\n",
       "      <td>1</td>\n",
       "      <td>1</td>\n",
       "      <td>1</td>\n",
       "      <td>1</td>\n",
       "      <td>1</td>\n",
       "      <td>1</td>\n",
       "      <td>1</td>\n",
       "      <td>1</td>\n",
       "      <td>1</td>\n",
       "      <td>...</td>\n",
       "      <td>0</td>\n",
       "      <td>0</td>\n",
       "      <td>0</td>\n",
       "      <td>0</td>\n",
       "      <td>0</td>\n",
       "      <td>0</td>\n",
       "      <td>1</td>\n",
       "      <td>1</td>\n",
       "      <td>1</td>\n",
       "      <td>1</td>\n",
       "    </tr>\n",
       "  </tbody>\n",
       "</table>\n",
       "<p>5 rows × 87 columns</p>\n",
       "</div>"
      ],
      "text/plain": [
       "   F75  F76  F77  F78  F79  F80  F81  F82  F83  F84  ...   F152  F153  F154  \\\n",
       "0    1    1    1    1    1    1    1    1    1    1  ...      0     0     0   \n",
       "1    1    1    1    1    1    1    1    1    1    1  ...      0     0     0   \n",
       "2    1    1    1    1    1    1    1    1    1    1  ...      0     1     0   \n",
       "3    1    1    1    1    1    1    1    1    1    1  ...      0     0     0   \n",
       "4    1    1    1    1    1    1    1    1    1    1  ...      0     0     0   \n",
       "\n",
       "   F155  F156  F157  F158  F159  F160  F161  \n",
       "0     0     0    -1     1     1     0     1  \n",
       "1     0     0     0     1     1     1     1  \n",
       "2     0     0     0     1     1     1     1  \n",
       "3     0     1     0     1     1     1     1  \n",
       "4     0     0     0     1     1     1     1  \n",
       "\n",
       "[5 rows x 87 columns]"
      ]
     },
     "execution_count": 10,
     "metadata": {},
     "output_type": "execute_result"
    }
   ],
   "source": [
    "X_events.head(5)"
   ]
  },
  {
   "cell_type": "code",
   "execution_count": 11,
   "metadata": {
    "collapsed": false
   },
   "outputs": [
    {
     "data": {
      "text/html": [
       "<div>\n",
       "<table border=\"1\" class=\"dataframe\">\n",
       "  <thead>\n",
       "    <tr style=\"text-align: right;\">\n",
       "      <th></th>\n",
       "      <th>F1</th>\n",
       "      <th>F2</th>\n",
       "      <th>F3</th>\n",
       "      <th>F4</th>\n",
       "      <th>F5</th>\n",
       "      <th>F6</th>\n",
       "      <th>F7</th>\n",
       "      <th>F8</th>\n",
       "      <th>F9</th>\n",
       "      <th>F10</th>\n",
       "      <th>...</th>\n",
       "      <th>F59</th>\n",
       "      <th>F60</th>\n",
       "      <th>F61</th>\n",
       "      <th>F62</th>\n",
       "      <th>F63</th>\n",
       "      <th>F64</th>\n",
       "      <th>F65</th>\n",
       "      <th>F66</th>\n",
       "      <th>F67</th>\n",
       "      <th>F68</th>\n",
       "    </tr>\n",
       "  </thead>\n",
       "  <tbody>\n",
       "    <tr>\n",
       "      <th>count</th>\n",
       "      <td>3752.000000</td>\n",
       "      <td>3752.000000</td>\n",
       "      <td>3752.000000</td>\n",
       "      <td>3752.000000</td>\n",
       "      <td>3752.000000</td>\n",
       "      <td>3752.000000</td>\n",
       "      <td>3752.000000</td>\n",
       "      <td>3752.000000</td>\n",
       "      <td>3752.000000</td>\n",
       "      <td>3752.000000</td>\n",
       "      <td>...</td>\n",
       "      <td>3752.000000</td>\n",
       "      <td>3752.000000</td>\n",
       "      <td>3752.000000</td>\n",
       "      <td>3752.000000</td>\n",
       "      <td>3752.000000</td>\n",
       "      <td>3752.000000</td>\n",
       "      <td>3752.000000</td>\n",
       "      <td>3752.000000</td>\n",
       "      <td>3752.000000</td>\n",
       "      <td>3752.000000</td>\n",
       "    </tr>\n",
       "    <tr>\n",
       "      <th>mean</th>\n",
       "      <td>0.050367</td>\n",
       "      <td>0.142632</td>\n",
       "      <td>0.233682</td>\n",
       "      <td>0.372955</td>\n",
       "      <td>0.574344</td>\n",
       "      <td>0.049067</td>\n",
       "      <td>0.141333</td>\n",
       "      <td>0.232382</td>\n",
       "      <td>0.371655</td>\n",
       "      <td>0.573044</td>\n",
       "      <td>...</td>\n",
       "      <td>0.392865</td>\n",
       "      <td>0.525996</td>\n",
       "      <td>-0.000212</td>\n",
       "      <td>0.000397</td>\n",
       "      <td>0.001525</td>\n",
       "      <td>0.003182</td>\n",
       "      <td>0.005828</td>\n",
       "      <td>0.005145</td>\n",
       "      <td>0.005802</td>\n",
       "      <td>0.005585</td>\n",
       "    </tr>\n",
       "    <tr>\n",
       "      <th>std</th>\n",
       "      <td>0.535517</td>\n",
       "      <td>1.101749</td>\n",
       "      <td>1.542153</td>\n",
       "      <td>2.135543</td>\n",
       "      <td>2.898247</td>\n",
       "      <td>0.627573</td>\n",
       "      <td>1.177573</td>\n",
       "      <td>1.606629</td>\n",
       "      <td>2.188830</td>\n",
       "      <td>2.940999</td>\n",
       "      <td>...</td>\n",
       "      <td>1.290495</td>\n",
       "      <td>1.342335</td>\n",
       "      <td>0.209454</td>\n",
       "      <td>0.096618</td>\n",
       "      <td>0.086176</td>\n",
       "      <td>0.076404</td>\n",
       "      <td>0.152416</td>\n",
       "      <td>0.063860</td>\n",
       "      <td>0.054228</td>\n",
       "      <td>0.044518</td>\n",
       "    </tr>\n",
       "    <tr>\n",
       "      <th>min</th>\n",
       "      <td>-4.387103</td>\n",
       "      <td>-6.259928</td>\n",
       "      <td>-7.189703</td>\n",
       "      <td>-8.286075</td>\n",
       "      <td>-8.797474</td>\n",
       "      <td>-4.849087</td>\n",
       "      <td>-6.721912</td>\n",
       "      <td>-7.452904</td>\n",
       "      <td>-8.069769</td>\n",
       "      <td>-8.990822</td>\n",
       "      <td>...</td>\n",
       "      <td>-2.822449</td>\n",
       "      <td>-2.324601</td>\n",
       "      <td>-1.270375</td>\n",
       "      <td>-0.495597</td>\n",
       "      <td>-0.404046</td>\n",
       "      <td>-0.328938</td>\n",
       "      <td>-0.673942</td>\n",
       "      <td>-0.235368</td>\n",
       "      <td>-0.174520</td>\n",
       "      <td>-0.131085</td>\n",
       "    </tr>\n",
       "    <tr>\n",
       "      <th>25%</th>\n",
       "      <td>-0.187494</td>\n",
       "      <td>-0.339278</td>\n",
       "      <td>-0.455629</td>\n",
       "      <td>-0.580097</td>\n",
       "      <td>-0.672569</td>\n",
       "      <td>-0.228304</td>\n",
       "      <td>-0.382978</td>\n",
       "      <td>-0.498053</td>\n",
       "      <td>-0.624482</td>\n",
       "      <td>-0.703790</td>\n",
       "      <td>...</td>\n",
       "      <td>-0.289897</td>\n",
       "      <td>-0.302808</td>\n",
       "      <td>-0.097187</td>\n",
       "      <td>-0.040086</td>\n",
       "      <td>-0.034834</td>\n",
       "      <td>-0.029706</td>\n",
       "      <td>-0.059327</td>\n",
       "      <td>-0.021625</td>\n",
       "      <td>-0.014597</td>\n",
       "      <td>-0.012293</td>\n",
       "    </tr>\n",
       "    <tr>\n",
       "      <th>50%</th>\n",
       "      <td>0.040992</td>\n",
       "      <td>0.117801</td>\n",
       "      <td>0.189088</td>\n",
       "      <td>0.275623</td>\n",
       "      <td>0.424599</td>\n",
       "      <td>0.041094</td>\n",
       "      <td>0.123438</td>\n",
       "      <td>0.192148</td>\n",
       "      <td>0.271378</td>\n",
       "      <td>0.413530</td>\n",
       "      <td>...</td>\n",
       "      <td>0.298916</td>\n",
       "      <td>0.209519</td>\n",
       "      <td>0.001620</td>\n",
       "      <td>0.003430</td>\n",
       "      <td>0.003901</td>\n",
       "      <td>0.006182</td>\n",
       "      <td>0.011673</td>\n",
       "      <td>0.007550</td>\n",
       "      <td>0.007068</td>\n",
       "      <td>0.008204</td>\n",
       "    </tr>\n",
       "    <tr>\n",
       "      <th>75%</th>\n",
       "      <td>0.281565</td>\n",
       "      <td>0.627500</td>\n",
       "      <td>0.868878</td>\n",
       "      <td>1.212973</td>\n",
       "      <td>1.564262</td>\n",
       "      <td>0.326896</td>\n",
       "      <td>0.657165</td>\n",
       "      <td>0.896850</td>\n",
       "      <td>1.222729</td>\n",
       "      <td>1.574272</td>\n",
       "      <td>...</td>\n",
       "      <td>1.009059</td>\n",
       "      <td>1.285411</td>\n",
       "      <td>0.096505</td>\n",
       "      <td>0.049610</td>\n",
       "      <td>0.048543</td>\n",
       "      <td>0.046796</td>\n",
       "      <td>0.089698</td>\n",
       "      <td>0.039022</td>\n",
       "      <td>0.029278</td>\n",
       "      <td>0.022904</td>\n",
       "    </tr>\n",
       "    <tr>\n",
       "      <th>max</th>\n",
       "      <td>3.018847</td>\n",
       "      <td>5.937984</td>\n",
       "      <td>8.213257</td>\n",
       "      <td>11.280604</td>\n",
       "      <td>15.174929</td>\n",
       "      <td>4.130036</td>\n",
       "      <td>6.449057</td>\n",
       "      <td>8.633410</td>\n",
       "      <td>11.623837</td>\n",
       "      <td>15.447101</td>\n",
       "      <td>...</td>\n",
       "      <td>6.400366</td>\n",
       "      <td>6.415268</td>\n",
       "      <td>1.189641</td>\n",
       "      <td>0.429626</td>\n",
       "      <td>0.334233</td>\n",
       "      <td>0.279201</td>\n",
       "      <td>0.573158</td>\n",
       "      <td>0.223113</td>\n",
       "      <td>0.210969</td>\n",
       "      <td>0.184547</td>\n",
       "    </tr>\n",
       "  </tbody>\n",
       "</table>\n",
       "<p>8 rows × 68 columns</p>\n",
       "</div>"
      ],
      "text/plain": [
       "                F1           F2           F3           F4           F5  \\\n",
       "count  3752.000000  3752.000000  3752.000000  3752.000000  3752.000000   \n",
       "mean      0.050367     0.142632     0.233682     0.372955     0.574344   \n",
       "std       0.535517     1.101749     1.542153     2.135543     2.898247   \n",
       "min      -4.387103    -6.259928    -7.189703    -8.286075    -8.797474   \n",
       "25%      -0.187494    -0.339278    -0.455629    -0.580097    -0.672569   \n",
       "50%       0.040992     0.117801     0.189088     0.275623     0.424599   \n",
       "75%       0.281565     0.627500     0.868878     1.212973     1.564262   \n",
       "max       3.018847     5.937984     8.213257    11.280604    15.174929   \n",
       "\n",
       "                F6           F7           F8           F9          F10  \\\n",
       "count  3752.000000  3752.000000  3752.000000  3752.000000  3752.000000   \n",
       "mean      0.049067     0.141333     0.232382     0.371655     0.573044   \n",
       "std       0.627573     1.177573     1.606629     2.188830     2.940999   \n",
       "min      -4.849087    -6.721912    -7.452904    -8.069769    -8.990822   \n",
       "25%      -0.228304    -0.382978    -0.498053    -0.624482    -0.703790   \n",
       "50%       0.041094     0.123438     0.192148     0.271378     0.413530   \n",
       "75%       0.326896     0.657165     0.896850     1.222729     1.574272   \n",
       "max       4.130036     6.449057     8.633410    11.623837    15.447101   \n",
       "\n",
       "          ...               F59          F60          F61          F62  \\\n",
       "count     ...       3752.000000  3752.000000  3752.000000  3752.000000   \n",
       "mean      ...          0.392865     0.525996    -0.000212     0.000397   \n",
       "std       ...          1.290495     1.342335     0.209454     0.096618   \n",
       "min       ...         -2.822449    -2.324601    -1.270375    -0.495597   \n",
       "25%       ...         -0.289897    -0.302808    -0.097187    -0.040086   \n",
       "50%       ...          0.298916     0.209519     0.001620     0.003430   \n",
       "75%       ...          1.009059     1.285411     0.096505     0.049610   \n",
       "max       ...          6.400366     6.415268     1.189641     0.429626   \n",
       "\n",
       "               F63          F64          F65          F66          F67  \\\n",
       "count  3752.000000  3752.000000  3752.000000  3752.000000  3752.000000   \n",
       "mean      0.001525     0.003182     0.005828     0.005145     0.005802   \n",
       "std       0.086176     0.076404     0.152416     0.063860     0.054228   \n",
       "min      -0.404046    -0.328938    -0.673942    -0.235368    -0.174520   \n",
       "25%      -0.034834    -0.029706    -0.059327    -0.021625    -0.014597   \n",
       "50%       0.003901     0.006182     0.011673     0.007550     0.007068   \n",
       "75%       0.048543     0.046796     0.089698     0.039022     0.029278   \n",
       "max       0.334233     0.279201     0.573158     0.223113     0.210969   \n",
       "\n",
       "               F68  \n",
       "count  3752.000000  \n",
       "mean      0.005585  \n",
       "std       0.044518  \n",
       "min      -0.131085  \n",
       "25%      -0.012293  \n",
       "50%       0.008204  \n",
       "75%       0.022904  \n",
       "max       0.184547  \n",
       "\n",
       "[8 rows x 68 columns]"
      ]
     },
     "execution_count": 11,
     "metadata": {},
     "output_type": "execute_result"
    }
   ],
   "source": [
    "X.describe()"
   ]
  },
  {
   "cell_type": "markdown",
   "metadata": {},
   "source": [
    "When we plot histograms for each return label we can see that all the returns are approximately normally distributed aroung 0. We can also see that this stock in particular has a positive skew. This conforms with the upward bias in the stock market."
   ]
  },
  {
   "cell_type": "code",
   "execution_count": 12,
   "metadata": {
    "collapsed": false
   },
   "outputs": [
    {
     "data": {
      "image/png": "[encoded data removed]",
      "text/plain": [
       "<matplotlib.figure.Figure at 0x7f864e4a5470>"
      ]
     },
     "metadata": {},
     "output_type": "display_data"
    }
   ],
   "source": [
    "plt.rcParams['figure.figsize'] = 8, 8\n",
    "y5.hist()\n",
    "plt.xlabel('Return')\n",
    "plt.ylabel('# of samples')\n",
    "plt.title('5 Day Return')\n",
    "plt.show()"
   ]
  },
  {
   "cell_type": "code",
   "execution_count": 13,
   "metadata": {
    "collapsed": false
   },
   "outputs": [
    {
     "data": {
      "image/png": "[encoded data removed]",
      "text/plain": [
       "<matplotlib.figure.Figure at 0x7f864b11eb00>"
      ]
     },
     "metadata": {},
     "output_type": "display_data"
    }
   ],
   "source": [
    "y10.hist()\n",
    "plt.xlabel('Return')\n",
    "plt.ylabel('# of samples')\n",
    "plt.title('10 Day Return')\n",
    "plt.show()"
   ]
  },
  {
   "cell_type": "code",
   "execution_count": 14,
   "metadata": {
    "collapsed": false
   },
   "outputs": [
    {
     "data": {
      "image/png": "[encoded data removed]",
      "text/plain": [
       "<matplotlib.figure.Figure at 0x7f864b0af828>"
      ]
     },
     "metadata": {},
     "output_type": "display_data"
    }
   ],
   "source": [
    "y15.hist()\n",
    "plt.xlabel('Return')\n",
    "plt.ylabel('# of samples')\n",
    "plt.title('15 Day Return')\n",
    "plt.show()"
   ]
  },
  {
   "cell_type": "code",
   "execution_count": 15,
   "metadata": {
    "collapsed": false
   },
   "outputs": [
    {
     "data": {
      "image/png": "[encoded data removed]",
      "text/plain": [
       "<matplotlib.figure.Figure at 0x7f864b0c1c50>"
      ]
     },
     "metadata": {},
     "output_type": "display_data"
    }
   ],
   "source": [
    "y20.hist()\n",
    "plt.xlabel('Return')\n",
    "plt.ylabel('# of samples')\n",
    "plt.title('20 Day Return')\n",
    "plt.show()"
   ]
  },
  {
   "cell_type": "code",
   "execution_count": 16,
   "metadata": {
    "collapsed": false
   },
   "outputs": [
    {
     "data": {
      "image/png": "[encoded data removed]",
      "text/plain": [
       "<matplotlib.figure.Figure at 0x7f864b13cdd8>"
      ]
     },
     "metadata": {},
     "output_type": "display_data"
    }
   ],
   "source": [
    "y25.hist()\n",
    "plt.xlabel('Return')\n",
    "plt.ylabel('# of samples')\n",
    "plt.title('25 Day Return')\n",
    "plt.show()"
   ]
  },
  {
   "cell_type": "code",
   "execution_count": 17,
   "metadata": {
    "collapsed": false
   },
   "outputs": [
    {
     "data": {
      "image/png": "[encoded data removed]",
      "text/plain": [
       "<matplotlib.figure.Figure at 0x7f864b043c88>"
      ]
     },
     "metadata": {},
     "output_type": "display_data"
    }
   ],
   "source": [
    "y30.hist()\n",
    "plt.xlabel('Return')\n",
    "plt.ylabel('# of samples')\n",
    "plt.title('30 Day Return')\n",
    "plt.show()"
   ]
  },
  {
   "cell_type": "code",
   "execution_count": 18,
   "metadata": {
    "collapsed": false
   },
   "outputs": [
    {
     "data": {
      "image/png": "[encoded data removed]",
      "text/plain": [
       "<matplotlib.figure.Figure at 0x7f864af4f780>"
      ]
     },
     "metadata": {},
     "output_type": "display_data"
    }
   ],
   "source": [
    "plt.rcParams['figure.figsize'] = 15, 8\n",
    "fig, axes = plt.subplots(2,3, sharex=False, sharey=False)\n",
    "\n",
    "axes[0,0].hist(y5)\n",
    "axes[0,0].set_title('5 Day Return', fontsize=15)\n",
    "\n",
    "axes[0,1].hist(y10)\n",
    "axes[0,1].set_title('10 Day Return', fontsize=15)\n",
    "\n",
    "axes[0,2].hist(y15)\n",
    "axes[0,2].set_title('15 Day Return', fontsize=15)\n",
    "\n",
    "axes[1,0].hist(y20)\n",
    "axes[1,0].set_title('20 Day Return', fontsize=15)\n",
    "\n",
    "axes[1,1].hist(y25)\n",
    "axes[1,1].set_title('25 Day Return', fontsize=15)\n",
    "\n",
    "axes[1,2].hist(y30)\n",
    "axes[1,2].set_title('30 Day Return', fontsize=15)\n",
    "\n",
    "plt.subplots_adjust(wspace=0.5, hspace=0.5)"
   ]
  },
  {
   "cell_type": "markdown",
   "metadata": {},
   "source": [
    "### Phase 1\n",
    "In the first phase of model building we will start with the simplest label grouping. We will separate our labels into either positive, or negative returns. This will give us two classes with approximately equal class distributions."
   ]
  },
  {
   "cell_type": "code",
   "execution_count": 19,
   "metadata": {
    "collapsed": true
   },
   "outputs": [],
   "source": [
    "y5.columns = ['RET']\n",
    "y10.columns = ['RET']\n",
    "y15.columns = ['RET']\n",
    "y20.columns = ['RET']\n",
    "y25.columns = ['RET']\n",
    "y30.columns = ['RET']"
   ]
  },
  {
   "cell_type": "code",
   "execution_count": 20,
   "metadata": {
    "collapsed": true
   },
   "outputs": [],
   "source": [
    "def binary_class(row):\n",
    "    if row < 0.00:\n",
    "        return 0\n",
    "    else:\n",
    "        return 1"
   ]
  },
  {
   "cell_type": "code",
   "execution_count": 21,
   "metadata": {
    "collapsed": false
   },
   "outputs": [],
   "source": [
    "y5_b = pd.Series(index=y5.index)\n",
    "y10_b = pd.Series(index=y5.index)\n",
    "y15_b = pd.Series(index=y5.index)\n",
    "y20_b = pd.Series(index=y5.index)\n",
    "y25_b = pd.Series(index=y5.index)\n",
    "y30_b = pd.Series(index=y5.index)\n",
    "\n",
    "y5_b = y5.apply(binary_class)\n",
    "y10_b = y10.apply(binary_class)\n",
    "y15_b = y15.apply(binary_class)\n",
    "y20_b = y20.apply(binary_class)\n",
    "y25_b = y25.apply(binary_class)\n",
    "y30_b = y30.apply(binary_class)"
   ]
  },
  {
   "cell_type": "code",
   "execution_count": 22,
   "metadata": {
    "collapsed": true
   },
   "outputs": [],
   "source": [
    "yt5.columns = ['RET']\n",
    "yt10.columns = ['RET']\n",
    "yt15.columns = ['RET']\n",
    "yt20.columns = ['RET']\n",
    "yt25.columns = ['RET']\n",
    "yt30.columns = ['RET']\n",
    "\n",
    "yt5_b = pd.Series(index=yt5.index)\n",
    "yt10_b = pd.Series(index=yt5.index)\n",
    "yt15_b = pd.Series(index=yt5.index)\n",
    "yt20_b = pd.Series(index=yt5.index)\n",
    "yt25_b = pd.Series(index=yt5.index)\n",
    "yt30_b = pd.Series(index=yt5.index)\n",
    "\n",
    "yt5_b = yt5.apply(binary_class)\n",
    "yt10_b = yt10.apply(binary_class)\n",
    "yt15_b = yt15.apply(binary_class)\n",
    "yt20_b = yt20.apply(binary_class)\n",
    "yt25_b = yt25.apply(binary_class)\n",
    "yt30_b = yt30.apply(binary_class)"
   ]
  },
  {
   "cell_type": "code",
   "execution_count": 23,
   "metadata": {
    "collapsed": true
   },
   "outputs": [],
   "source": [
    "plt.rcParams['figure.figsize'] = 8, 8"
   ]
  },
  {
   "cell_type": "markdown",
   "metadata": {},
   "source": [
    "Looking at the binary classification results, we can see that separating the class labels based on negative and positive returns, gives us an approximately equal distribution for each class."
   ]
  },
  {
   "cell_type": "code",
   "execution_count": 24,
   "metadata": {
    "collapsed": false
   },
   "outputs": [
    {
     "data": {
      "image/png": "[encoded data removed]",
      "text/plain": [
       "<matplotlib.figure.Figure at 0x7f864affb6d8>"
      ]
     },
     "metadata": {},
     "output_type": "display_data"
    }
   ],
   "source": [
    "y5_b.hist()\n",
    "plt.xlabel('Negative or Positive Return')\n",
    "plt.ylabel('# of samples')\n",
    "plt.title('Binary Classification')\n",
    "plt.show()"
   ]
  },
  {
   "cell_type": "markdown",
   "metadata": {},
   "source": [
    "### Phase 2\n",
    "In this phase we will increase the number of boundaries from one to two. From a trading standpoint, we want to stay away from trades that return close to 0% return. We do want to identify trades that have substantial return.\n",
    "\n",
    "We can define substantial return as > 2% or 0.02 or < -2% or -0.02\n",
    "Class boundaries:\n",
    "label 0: <=-0.02\n",
    "label 1: >-0.02 and < 0.02\n",
    "label 2: >= 0.02\n",
    "\n",
    "Another way to find out what the boundary should be is to look at the class distributions that result from a particular boundary. The boundary can then be changed to ensure that the distribution becomes approximately equal for all classes. You may find that you have to use different boundaries for different returns."
   ]
  },
  {
   "cell_type": "code",
   "execution_count": 25,
   "metadata": {
    "collapsed": true
   },
   "outputs": [],
   "source": [
    "def update_return_class(row, neg_cutoff, pos_cutoff):\n",
    "    if row <= neg_cutoff:\n",
    "        return 0\n",
    "    elif row > neg_cutoff and row < pos_cutoff:\n",
    "        return 1\n",
    "    elif row >= pos_cutoff:\n",
    "        return 2"
   ]
  },
  {
   "cell_type": "code",
   "execution_count": 26,
   "metadata": {
    "collapsed": false
   },
   "outputs": [],
   "source": [
    "y5_t = pd.Series(index=y5.index)\n",
    "y10_t = pd.Series(index=y5.index)\n",
    "y15_t = pd.Series(index=y5.index)\n",
    "y20_t = pd.Series(index=y5.index)\n",
    "y25_t = pd.Series(index=y5.index)\n",
    "y30_t = pd.Series(index=y5.index)\n",
    "\n",
    "y5_t = y5.apply(update_return_class, args=(-0.02, 0.02))\n",
    "y10_t = y10.apply(update_return_class, args=(-0.03, 0.03))\n",
    "y15_t = y15.apply(update_return_class, args=(-0.05, 0.05))\n",
    "y20_t = y20.apply(update_return_class, args=(-0.05, 0.05))\n",
    "y25_t = y25.apply(update_return_class, args=(-0.05, 0.07))\n",
    "y30_t = y30.apply(update_return_class, args=(-0.05, 0.08))"
   ]
  },
  {
   "cell_type": "code",
   "execution_count": 27,
   "metadata": {
    "collapsed": true
   },
   "outputs": [],
   "source": [
    "yt5_t = pd.Series(index=yt5.index)\n",
    "yt10_t = pd.Series(index=yt5.index)\n",
    "yt15_t = pd.Series(index=yt5.index)\n",
    "yt20_t = pd.Series(index=yt5.index)\n",
    "yt25_t = pd.Series(index=yt5.index)\n",
    "yt30_t = pd.Series(index=yt5.index)\n",
    "\n",
    "yt5_t = yt5.apply(update_return_class, args=(-0.02, 0.02))\n",
    "yt10_t = yt10.apply(update_return_class, args=(-0.03, 0.03))\n",
    "yt15_t = yt15.apply(update_return_class, args=(-0.05, 0.05))\n",
    "yt20_t = yt20.apply(update_return_class, args=(-0.05, 0.05))\n",
    "yt25_t = yt25.apply(update_return_class, args=(-0.05, 0.07))\n",
    "yt30_t = yt30.apply(update_return_class, args=(-0.05, 0.08))"
   ]
  },
  {
   "cell_type": "code",
   "execution_count": 28,
   "metadata": {
    "collapsed": false
   },
   "outputs": [
    {
     "data": {
      "image/png": "[encoded data removed]",
      "text/plain": [
       "<matplotlib.figure.Figure at 0x7f864ad026d8>"
      ]
     },
     "metadata": {},
     "output_type": "display_data"
    }
   ],
   "source": [
    "y5_t.hist()\n",
    "plt.xlabel('Trinary Classification Return')\n",
    "plt.ylabel('# of samples')\n",
    "plt.title('5 Day Return')\n",
    "plt.show()"
   ]
  },
  {
   "cell_type": "code",
   "execution_count": 29,
   "metadata": {
    "collapsed": false
   },
   "outputs": [
    {
     "data": {
      "image/png": "[encoded data removed]",
      "text/plain": [
       "<matplotlib.figure.Figure at 0x7f864adb6be0>"
      ]
     },
     "metadata": {},
     "output_type": "display_data"
    }
   ],
   "source": [
    "y10_t.hist()\n",
    "plt.xlabel('Trinary Classification Return')\n",
    "plt.ylabel('# of samples')\n",
    "plt.title('10 Day Return')\n",
    "plt.show()"
   ]
  },
  {
   "cell_type": "code",
   "execution_count": 30,
   "metadata": {
    "collapsed": false
   },
   "outputs": [
    {
     "data": {
      "image/png": "[encoded data removed]",
      "text/plain": [
       "<matplotlib.figure.Figure at 0x7f864af6e710>"
      ]
     },
     "metadata": {},
     "output_type": "display_data"
    }
   ],
   "source": [
    "y15_t.hist()\n",
    "plt.xlabel('Trinary Classification Return')\n",
    "plt.ylabel('# of samples')\n",
    "plt.title('15 Day Return')\n",
    "plt.show()"
   ]
  },
  {
   "cell_type": "code",
   "execution_count": 31,
   "metadata": {
    "collapsed": false
   },
   "outputs": [
    {
     "data": {
      "image/png": "[encoded data removed]",
      "text/plain": [
       "<matplotlib.figure.Figure at 0x7f864b0d9898>"
      ]
     },
     "metadata": {},
     "output_type": "display_data"
    }
   ],
   "source": [
    "y20_t.hist()\n",
    "plt.xlabel('Trinary Classification Return')\n",
    "plt.ylabel('# of samples')\n",
    "plt.title('20 Day Return')\n",
    "plt.show()"
   ]
  },
  {
   "cell_type": "code",
   "execution_count": 32,
   "metadata": {
    "collapsed": false
   },
   "outputs": [
    {
     "data": {
      "image/png": "[encoded data removed]",
      "text/plain": [
       "<matplotlib.figure.Figure at 0x7f864e275358>"
      ]
     },
     "metadata": {},
     "output_type": "display_data"
    }
   ],
   "source": [
    "y25_t.hist()\n",
    "plt.xlabel('Trinary Classification Return')\n",
    "plt.ylabel('# of samples')\n",
    "plt.title('25 Day Return')\n",
    "plt.show()"
   ]
  },
  {
   "cell_type": "code",
   "execution_count": 33,
   "metadata": {
    "collapsed": false
   },
   "outputs": [
    {
     "data": {
      "image/png": "[encoded data removed]",
      "text/plain": [
       "<matplotlib.figure.Figure at 0x7f864b103c18>"
      ]
     },
     "metadata": {},
     "output_type": "display_data"
    }
   ],
   "source": [
    "y30_t.hist()\n",
    "plt.xlabel('Trinary Classification Return')\n",
    "plt.ylabel('# of samples')\n",
    "plt.title('30 Day Return')\n",
    "plt.show()"
   ]
  },
  {
   "cell_type": "code",
   "execution_count": 34,
   "metadata": {
    "collapsed": false
   },
   "outputs": [
    {
     "data": {
      "image/png": "[encoded data removed]",
      "text/plain": [
       "<matplotlib.figure.Figure at 0x7f864a9bbbe0>"
      ]
     },
     "metadata": {},
     "output_type": "display_data"
    }
   ],
   "source": [
    "plt.rcParams['figure.figsize'] = 15, 8\n",
    "fig, axes = plt.subplots(2,3, sharex=False, sharey=False)\n",
    "\n",
    "axes[0,0].hist(y5_t)\n",
    "axes[0,0].set_title('5 Day Return', fontsize=15)\n",
    "\n",
    "axes[0,1].hist(y10_t)\n",
    "axes[0,1].set_title('10 Day Return', fontsize=15)\n",
    "\n",
    "axes[0,2].hist(y15_t)\n",
    "axes[0,2].set_title('15 Day Return', fontsize=15)\n",
    "\n",
    "axes[1,0].hist(y20_t)\n",
    "axes[1,0].set_title('20 Day Return', fontsize=15)\n",
    "\n",
    "axes[1,1].hist(y25_t)\n",
    "axes[1,1].set_title('25 Day Return', fontsize=15)\n",
    "\n",
    "axes[1,2].hist(y30_t)\n",
    "axes[1,2].set_title('30 Day Return', fontsize=15)\n",
    "\n",
    "plt.subplots_adjust(wspace=0.5, hspace=0.5)"
   ]
  },
  {
   "cell_type": "markdown",
   "metadata": {},
   "source": [
    "### Testing and Validation Strategy\n",
    "We will be using multi-pronged testing strategy\n",
    "1) Use k-fold cross-validation\n",
    "2) Use continuous samples as training data and test on future data\n",
    "3) Use sliding window continuous training and test data"
   ]
  },
  {
   "cell_type": "code",
   "execution_count": 141,
   "metadata": {
    "collapsed": false
   },
   "outputs": [],
   "source": [
    "validation_size = 0.20\n",
    "seed = 7\n",
    "\n",
    "#X = data.loc[:,'F1':'F68']\n",
    "#X = data.loc[:,['F20','F22','F26','F29','F30','F32','F35','F36','F37','F38','F39','F40','F41','F42']]\n",
    "#X = data.loc[:,['F20','F22','F35','F36','F37','F38','F39','F40','F41','F42','F46','F47','F51','F52']]\n",
    "#X = data.loc[:,['F19','F20','F37','F38','F39','F40','F41','F42','F46','F47','F52','F54','F55','F56','F57','F58','F59','F60','F64','F66','F67','F68']]\n",
    "#X = data.loc[:,['F19','F20','F35','F36','F37','F38','F39','F40','F41','F42','F46','F47','F52','F54','F55','F56','F57','F58','F59','F60','F61','F62','F63','F64','F65','F66','F67','F68']]\n",
    "#X = data.loc[:,['F19','F35','F36','F37','F38','F39','F40','F41','F46','F47','F52','F54','F55','F56','F57','F58','F59','F61','F62','F63','F64','F65','F66','F67']]\n",
    "\n",
    "X = X_events.loc[:,'F75':'F161']\n",
    "X = X_events.loc[:,['F161','F124','F105','F139','F111','F110','F123','F115','F131','F98','F94','F158','F103','F106','F140','F126','F83','F157','F148','F114','F137','F93','F160','F78','F153','F147','F127','F130','F79','F116','F82','F101','F102','F112','F104','F86']]\n",
    "X5b_train, X5b_test, Y5b_train, Y5b_test = cross_validation.train_test_split(X, y5_b, test_size=validation_size, \n",
    "                                                                                 random_state=seed)\n",
    "X10b_train, X10b_test, Y10b_train, Y10b_test = cross_validation.train_test_split(X, y10_b, test_size=validation_size, \n",
    "                                                                                 random_state=seed)\n",
    "X15b_train, X15b_test, Y15b_train, Y15b_test = cross_validation.train_test_split(X, y15_b, test_size=validation_size, \n",
    "                                                                                 random_state=seed)\n",
    "X20b_train, X20b_test, Y20b_train, Y20b_test = cross_validation.train_test_split(X, y20_b, test_size=validation_size, \n",
    "                                                                                 random_state=seed)\n",
    "X25b_train, X25b_test, Y25b_train, Y25b_test = cross_validation.train_test_split(X, y25_b, test_size=validation_size, \n",
    "                                                                                 random_state=seed)\n",
    "X30b_train, X30b_test, Y30b_train, Y30b_test = cross_validation.train_test_split(X, y30_b, test_size=validation_size, \n",
    "                                                                                 random_state=seed)\n",
    "\n",
    "X5t_train, X5t_test, Y5t_train, Y5t_test = cross_validation.train_test_split(X, y5_t, test_size=validation_size, \n",
    "                                                                                 random_state=seed)\n",
    "X10t_train, X10t_test, Y10t_train, Y10t_test = cross_validation.train_test_split(X, y10_t, test_size=validation_size, \n",
    "                                                                                 random_state=seed)\n",
    "X15t_train, X15t_test, Y15t_train, Y15t_test = cross_validation.train_test_split(X, y15_t, test_size=validation_size, \n",
    "                                                                                 random_state=seed)\n",
    "X20t_train, X20t_test, Y20t_train, Y20t_test = cross_validation.train_test_split(X, y20_t, test_size=validation_size, \n",
    "                                                                                 random_state=seed)\n",
    "X25t_train, X25t_test, Y25t_train, Y25t_test = cross_validation.train_test_split(X, y25_t, test_size=validation_size, \n",
    "                                                                                 random_state=seed)\n",
    "X30t_train, X30t_test, Y30t_train, Y30t_test = cross_validation.train_test_split(X, y30_t, test_size=validation_size, \n",
    "                                                                                 random_state=seed)"
   ]
  },
  {
   "cell_type": "code",
   "execution_count": 142,
   "metadata": {
    "collapsed": false
   },
   "outputs": [
    {
     "data": {
      "text/html": [
       "<div>\n",
       "<table border=\"1\" class=\"dataframe\">\n",
       "  <thead>\n",
       "    <tr style=\"text-align: right;\">\n",
       "      <th></th>\n",
       "      <th>F161</th>\n",
       "      <th>F124</th>\n",
       "      <th>F105</th>\n",
       "      <th>F139</th>\n",
       "      <th>F111</th>\n",
       "      <th>F110</th>\n",
       "      <th>F123</th>\n",
       "      <th>F115</th>\n",
       "      <th>F131</th>\n",
       "      <th>F98</th>\n",
       "      <th>...</th>\n",
       "      <th>F127</th>\n",
       "      <th>F130</th>\n",
       "      <th>F79</th>\n",
       "      <th>F116</th>\n",
       "      <th>F82</th>\n",
       "      <th>F101</th>\n",
       "      <th>F102</th>\n",
       "      <th>F112</th>\n",
       "      <th>F104</th>\n",
       "      <th>F86</th>\n",
       "    </tr>\n",
       "  </thead>\n",
       "  <tbody>\n",
       "    <tr>\n",
       "      <th>0</th>\n",
       "      <td>1</td>\n",
       "      <td>0</td>\n",
       "      <td>-1</td>\n",
       "      <td>0</td>\n",
       "      <td>1</td>\n",
       "      <td>1</td>\n",
       "      <td>0</td>\n",
       "      <td>-1</td>\n",
       "      <td>0</td>\n",
       "      <td>1</td>\n",
       "      <td>...</td>\n",
       "      <td>0</td>\n",
       "      <td>0</td>\n",
       "      <td>1</td>\n",
       "      <td>-1</td>\n",
       "      <td>1</td>\n",
       "      <td>1</td>\n",
       "      <td>1</td>\n",
       "      <td>-1</td>\n",
       "      <td>1</td>\n",
       "      <td>1</td>\n",
       "    </tr>\n",
       "    <tr>\n",
       "      <th>1</th>\n",
       "      <td>1</td>\n",
       "      <td>0</td>\n",
       "      <td>-1</td>\n",
       "      <td>0</td>\n",
       "      <td>1</td>\n",
       "      <td>1</td>\n",
       "      <td>0</td>\n",
       "      <td>-1</td>\n",
       "      <td>0</td>\n",
       "      <td>1</td>\n",
       "      <td>...</td>\n",
       "      <td>0</td>\n",
       "      <td>0</td>\n",
       "      <td>1</td>\n",
       "      <td>-1</td>\n",
       "      <td>1</td>\n",
       "      <td>1</td>\n",
       "      <td>1</td>\n",
       "      <td>-1</td>\n",
       "      <td>1</td>\n",
       "      <td>1</td>\n",
       "    </tr>\n",
       "    <tr>\n",
       "      <th>2</th>\n",
       "      <td>1</td>\n",
       "      <td>0</td>\n",
       "      <td>-1</td>\n",
       "      <td>0</td>\n",
       "      <td>1</td>\n",
       "      <td>1</td>\n",
       "      <td>0</td>\n",
       "      <td>-1</td>\n",
       "      <td>0</td>\n",
       "      <td>1</td>\n",
       "      <td>...</td>\n",
       "      <td>0</td>\n",
       "      <td>0</td>\n",
       "      <td>1</td>\n",
       "      <td>-1</td>\n",
       "      <td>1</td>\n",
       "      <td>1</td>\n",
       "      <td>1</td>\n",
       "      <td>1</td>\n",
       "      <td>1</td>\n",
       "      <td>1</td>\n",
       "    </tr>\n",
       "    <tr>\n",
       "      <th>3</th>\n",
       "      <td>1</td>\n",
       "      <td>0</td>\n",
       "      <td>-1</td>\n",
       "      <td>0</td>\n",
       "      <td>1</td>\n",
       "      <td>1</td>\n",
       "      <td>0</td>\n",
       "      <td>1</td>\n",
       "      <td>0</td>\n",
       "      <td>1</td>\n",
       "      <td>...</td>\n",
       "      <td>0</td>\n",
       "      <td>0</td>\n",
       "      <td>1</td>\n",
       "      <td>-1</td>\n",
       "      <td>1</td>\n",
       "      <td>1</td>\n",
       "      <td>1</td>\n",
       "      <td>1</td>\n",
       "      <td>1</td>\n",
       "      <td>1</td>\n",
       "    </tr>\n",
       "    <tr>\n",
       "      <th>4</th>\n",
       "      <td>1</td>\n",
       "      <td>0</td>\n",
       "      <td>-1</td>\n",
       "      <td>0</td>\n",
       "      <td>1</td>\n",
       "      <td>1</td>\n",
       "      <td>0</td>\n",
       "      <td>1</td>\n",
       "      <td>0</td>\n",
       "      <td>1</td>\n",
       "      <td>...</td>\n",
       "      <td>0</td>\n",
       "      <td>0</td>\n",
       "      <td>1</td>\n",
       "      <td>-1</td>\n",
       "      <td>1</td>\n",
       "      <td>1</td>\n",
       "      <td>1</td>\n",
       "      <td>1</td>\n",
       "      <td>1</td>\n",
       "      <td>1</td>\n",
       "    </tr>\n",
       "  </tbody>\n",
       "</table>\n",
       "<p>5 rows × 36 columns</p>\n",
       "</div>"
      ],
      "text/plain": [
       "   F161  F124  F105  F139  F111  F110  F123  F115  F131  F98 ...   F127  F130  \\\n",
       "0     1     0    -1     0     1     1     0    -1     0    1 ...      0     0   \n",
       "1     1     0    -1     0     1     1     0    -1     0    1 ...      0     0   \n",
       "2     1     0    -1     0     1     1     0    -1     0    1 ...      0     0   \n",
       "3     1     0    -1     0     1     1     0     1     0    1 ...      0     0   \n",
       "4     1     0    -1     0     1     1     0     1     0    1 ...      0     0   \n",
       "\n",
       "   F79  F116  F82  F101  F102  F112  F104  F86  \n",
       "0    1    -1    1     1     1    -1     1    1  \n",
       "1    1    -1    1     1     1    -1     1    1  \n",
       "2    1    -1    1     1     1     1     1    1  \n",
       "3    1    -1    1     1     1     1     1    1  \n",
       "4    1    -1    1     1     1     1     1    1  \n",
       "\n",
       "[5 rows x 36 columns]"
      ]
     },
     "execution_count": 142,
     "metadata": {},
     "output_type": "execute_result"
    }
   ],
   "source": [
    "X.head()"
   ]
  },
  {
   "cell_type": "code",
   "execution_count": 143,
   "metadata": {
    "collapsed": false
   },
   "outputs": [],
   "source": [
    "# Evaluate Algorithms\n",
    "# Test options and evaluation metric\n",
    "num_folds = 10\n",
    "num_instances = len(X10b_train)\n",
    "seed = 7\n",
    "scoring = 'accuracy'"
   ]
  },
  {
   "cell_type": "code",
   "execution_count": 144,
   "metadata": {
    "collapsed": false
   },
   "outputs": [
    {
     "data": {
      "image/png": "[encoded data removed]",
      "text/plain": [
       "<matplotlib.figure.Figure at 0x7f864ae02e10>"
      ]
     },
     "metadata": {},
     "output_type": "display_data"
    }
   ],
   "source": [
    "xgb = XGBClassifier()\n",
    "xgb.fit(X25b_train, Y25b_train)\n",
    "Y_pred = xgb.predict(X25b_test)\n",
    "plot_importance(xgb)\n",
    "plt.show()"
   ]
  },
  {
   "cell_type": "code",
   "execution_count": 145,
   "metadata": {
    "collapsed": true
   },
   "outputs": [],
   "source": [
    "rf = RandomForestClassifier()\n",
    "et = ExtraTreesClassifier(n_estimators=250, max_depth=25, min_samples_split=10, min_samples_leaf=10)\n",
    "xgb = XGBClassifier()\n",
    "gbc = GradientBoostingClassifier()\n",
    "lr = LogisticRegression()\n",
    "lda = LinearDiscriminantAnalysis()\n",
    "\n",
    "stdsc5b = MinMaxScaler()\n",
    "stdsc10b = MinMaxScaler()\n",
    "stdsc15b = MinMaxScaler()\n",
    "stdsc20b = MinMaxScaler()\n",
    "stdsc25b = MinMaxScaler()\n",
    "stdsc30b = MinMaxScaler()\n",
    "\n",
    "X5b_train_std = stdsc5b.fit_transform(X5b_train)\n",
    "X5b_test_std = stdsc5b.transform(X5b_test)\n",
    "\n",
    "X10b_train_std = stdsc10b.fit_transform(X10b_train)\n",
    "X10b_test_std = stdsc10b.transform(X10b_test)\n",
    "\n",
    "X15b_train_std = stdsc15b.fit_transform(X15b_train)\n",
    "X15b_test_std = stdsc15b.transform(X15b_test)\n",
    "\n",
    "X20b_train_std = stdsc20b.fit_transform(X20b_train)\n",
    "X20b_test_std = stdsc20b.transform(X20b_test)\n",
    "\n",
    "X25b_train_std = stdsc25b.fit_transform(X25b_train)\n",
    "X25b_test_std = stdsc25b.transform(X25b_test)\n",
    "\n",
    "X30b_train_std = stdsc30b.fit_transform(X30b_train)\n",
    "X30b_test_std = stdsc30b.transform(X30b_test)\n",
    "\n",
    "stdsc5t = MinMaxScaler()\n",
    "stdsc10t = MinMaxScaler()\n",
    "stdsc15t = MinMaxScaler()\n",
    "stdsc20t = MinMaxScaler()\n",
    "stdsc25t = MinMaxScaler()\n",
    "stdsc30t = MinMaxScaler()\n",
    "\n",
    "X5t_train_std = stdsc5t.fit_transform(X5t_train)\n",
    "X5t_test_std = stdsc5t.transform(X5t_test)\n",
    "\n",
    "X10t_train_std = stdsc10t.fit_transform(X10t_train)\n",
    "X10t_test_std = stdsc10t.transform(X10t_test)\n",
    "\n",
    "X15t_train_std = stdsc15t.fit_transform(X15t_train)\n",
    "X15t_test_std = stdsc15t.transform(X15t_test)\n",
    "\n",
    "X20t_train_std = stdsc20t.fit_transform(X20t_train)\n",
    "X20t_test_std = stdsc20t.transform(X20t_test)\n",
    "\n",
    "X25t_train_std = stdsc25t.fit_transform(X25t_train)\n",
    "X25t_test_std = stdsc25t.transform(X25t_test)\n",
    "\n",
    "X30t_train_std = stdsc30t.fit_transform(X30t_train)\n",
    "X30t_test_std = stdsc30t.transform(X30t_test)"
   ]
  },
  {
   "cell_type": "code",
   "execution_count": 155,
   "metadata": {
    "collapsed": false
   },
   "outputs": [
    {
     "data": {
      "text/plain": [
       "RFE(estimator=ExtraTreesClassifier(bootstrap=False, class_weight=None, criterion='gini',\n",
       "           max_depth=25, max_features='auto', max_leaf_nodes=None,\n",
       "           min_samples_leaf=10, min_samples_split=10,\n",
       "           min_weight_fraction_leaf=0.0, n_estimators=250, n_jobs=1,\n",
       "           oob_score=False, random_state=None, verbose=0, warm_start=False),\n",
       "  estimator_params=None, n_features_to_select=None, step=1, verbose=0)"
      ]
     },
     "execution_count": 155,
     "metadata": {},
     "output_type": "execute_result"
    }
   ],
   "source": [
    "X_train = X25b_train_std\n",
    "y_train = Y25b_train\n",
    "rfecv = RFECV(estimator=et, step=1, cv=StratifiedKFold(y_train, n_folds=10, random_state=seed), scoring='accuracy')\n",
    "rfecv.fit(X_train,y_train)\n",
    "rfe = RFE(estimator=et, step=1)\n",
    "rfe.fit(X_train,y_train)"
   ]
  },
  {
   "cell_type": "code",
   "execution_count": 156,
   "metadata": {
    "collapsed": false
   },
   "outputs": [
    {
     "name": "stdout",
     "output_type": "stream",
     "text": [
      "# of selected features with CV: 21\n",
      "Mask of selected features with CV: [ True False  True False  True  True False False False  True  True  True\n",
      "  True  True False False  True False False False False  True  True  True\n",
      " False False False False  True  True  True  True  True  True  True  True]\n",
      "Selected features ranking: [ 1  7  1 15  1  1  5  2 12  1  1  1  1  1 16  4  1  9  8  3 13  1  1  1 14\n",
      " 10 11  6  1  1  1  1  1  1  1  1]\n",
      "CV scores: [ 0.56447884  0.59648905  0.60315242  0.61347586  0.61647256  0.61546485\n",
      "  0.64580171  0.64881288  0.65747405  0.67048076  0.67149522  0.67015636\n",
      "  0.66479852  0.67111412  0.67178082  0.68011087  0.68144199  0.67777418\n",
      "  0.68011641  0.6811153   0.68178642  0.67111301  0.67778528  0.67644749\n",
      "  0.67944642  0.6807842   0.67744305  0.67544526  0.67778196  0.67578193\n",
      "  0.67411858  0.68178309  0.67312191  0.67545525  0.67545746  0.67745085]\n"
     ]
    }
   ],
   "source": [
    "print('# of selected features with CV: %i' %rfecv.n_features_)\n",
    "print('Mask of selected features with CV: %s' %rfecv.support_)\n",
    "print('Selected features ranking: %s' %rfecv.ranking_)\n",
    "print('CV scores: %s' %rfecv.grid_scores_)"
   ]
  },
  {
   "cell_type": "code",
   "execution_count": 157,
   "metadata": {
    "collapsed": false
   },
   "outputs": [
    {
     "name": "stdout",
     "output_type": "stream",
     "text": [
      "Original number of features is 36\n",
      "RFE final number of features : 18\n",
      "RFECV final number of features : 21\n",
      "\n",
      "Printing RFECV results:\n",
      "1. Number of features: 21; Grid_Score: 0.681786\n",
      "2. Number of features: 32; Grid_Score: 0.681783\n",
      "3. Number of features: 17; Grid_Score: 0.681442\n",
      "4. Number of features: 20; Grid_Score: 0.681115\n",
      "5. Number of features: 26; Grid_Score: 0.680784\n",
      "6. Number of features: 19; Grid_Score: 0.680116\n",
      "7. Number of features: 16; Grid_Score: 0.680111\n",
      "8. Number of features: 25; Grid_Score: 0.679446\n",
      "9. Number of features: 23; Grid_Score: 0.677785\n",
      "10. Number of features: 29; Grid_Score: 0.677782\n",
      "11. Number of features: 18; Grid_Score: 0.677774\n",
      "12. Number of features: 36; Grid_Score: 0.677451\n",
      "13. Number of features: 27; Grid_Score: 0.677443\n",
      "14. Number of features: 24; Grid_Score: 0.676447\n",
      "15. Number of features: 30; Grid_Score: 0.675782\n",
      "16. Number of features: 35; Grid_Score: 0.675457\n",
      "17. Number of features: 34; Grid_Score: 0.675455\n",
      "18. Number of features: 28; Grid_Score: 0.675445\n",
      "19. Number of features: 31; Grid_Score: 0.674119\n",
      "20. Number of features: 33; Grid_Score: 0.673122\n",
      "21. Number of features: 15; Grid_Score: 0.671781\n",
      "22. Number of features: 11; Grid_Score: 0.671495\n",
      "23. Number of features: 14; Grid_Score: 0.671114\n",
      "24. Number of features: 22; Grid_Score: 0.671113\n",
      "25. Number of features: 10; Grid_Score: 0.670481\n",
      "26. Number of features: 12; Grid_Score: 0.670156\n",
      "27. Number of features: 13; Grid_Score: 0.664799\n",
      "28. Number of features: 9; Grid_Score: 0.657474\n",
      "29. Number of features: 8; Grid_Score: 0.648813\n",
      "30. Number of features: 7; Grid_Score: 0.645802\n",
      "31. Number of features: 5; Grid_Score: 0.616473\n",
      "32. Number of features: 6; Grid_Score: 0.615465\n",
      "33. Number of features: 4; Grid_Score: 0.613476\n",
      "34. Number of features: 3; Grid_Score: 0.603152\n",
      "35. Number of features: 2; Grid_Score: 0.596489\n",
      "36. Number of features: 1; Grid_Score: 0.564479\n"
     ]
    }
   ],
   "source": [
    "print('Original number of features is %s' % X.shape[1])\n",
    "print(\"RFE final number of features : %d\" % rfe.n_features_)\n",
    "print(\"RFECV final number of features : %d\" % rfecv.n_features_)\n",
    "print('')\n",
    "\n",
    "import numpy as np\n",
    "g_scores = rfecv.grid_scores_\n",
    "indices = np.argsort(g_scores)[::-1]\n",
    "print('Printing RFECV results:')\n",
    "for f in range(X.shape[1]):\n",
    "    print(\"%d. Number of features: %d; Grid_Score: %f\" % (f + 1, indices[f]+1, g_scores[indices[f]]))"
   ]
  },
  {
   "cell_type": "code",
   "execution_count": 149,
   "metadata": {
    "collapsed": false
   },
   "outputs": [
    {
     "data": {
      "image/png": "[encoded data removed]",
      "text/plain": [
       "<matplotlib.figure.Figure at 0x7f864ad5fcc0>"
      ]
     },
     "metadata": {},
     "output_type": "display_data"
    }
   ],
   "source": [
    "plt.rcParams['figure.figsize'] = 10, 8\n",
    "plt.xlabel(\"Number of features selected\")\n",
    "plt.ylabel(\"RFE Cross validation score (nb of correct classifications)\")\n",
    "plt.plot(range(1, len(rfecv.grid_scores_) + 1), rfecv.grid_scores_)\n",
    "plt.show()"
   ]
  },
  {
   "cell_type": "code",
   "execution_count": 150,
   "metadata": {
    "collapsed": false
   },
   "outputs": [
    {
     "name": "stdout",
     "output_type": "stream",
     "text": [
      "[ 1  7  1 11  1  1  1  1  8  1  1  1  1  1 12  4  1  1  1  2 10  1  1  1  9\n",
      "  1  1  6  1  1  3  5  1  1  1  1]\n"
     ]
    }
   ],
   "source": [
    "print(rfecv.ranking_)"
   ]
  },
  {
   "cell_type": "code",
   "execution_count": 151,
   "metadata": {
    "collapsed": false
   },
   "outputs": [
    {
     "name": "stdout",
     "output_type": "stream",
     "text": [
      "[ True False  True False  True  True  True  True False  True  True  True\n",
      "  True  True False False  True  True  True False False  True  True  True\n",
      " False  True  True False  True  True False False  True  True  True  True]\n"
     ]
    }
   ],
   "source": [
    "print(rfecv.support_)"
   ]
  },
  {
   "cell_type": "code",
   "execution_count": 152,
   "metadata": {
    "collapsed": false
   },
   "outputs": [
    {
     "name": "stdout",
     "output_type": "stream",
     "text": [
      "25\n"
     ]
    }
   ],
   "source": [
    "print(rfecv.n_features_)"
   ]
  },
  {
   "cell_type": "code",
   "execution_count": 153,
   "metadata": {
    "collapsed": false
   },
   "outputs": [
    {
     "name": "stdout",
     "output_type": "stream",
     "text": [
      "F161\n",
      "F105\n",
      "F111\n",
      "F110\n",
      "F123\n",
      "F115\n",
      "F98\n",
      "F94\n",
      "F158\n",
      "F103\n",
      "F106\n",
      "F83\n",
      "F157\n",
      "F148\n",
      "F93\n",
      "F160\n",
      "F78\n",
      "F147\n",
      "F127\n",
      "F79\n",
      "F116\n",
      "F102\n",
      "F112\n",
      "F104\n",
      "F86\n"
     ]
    }
   ],
   "source": [
    "for selected, feature in zip(rfecv.support_, X.columns):\n",
    "    if selected == True:\n",
    "        print(feature)"
   ]
  },
  {
   "cell_type": "code",
   "execution_count": 154,
   "metadata": {
    "collapsed": false
   },
   "outputs": [
    {
     "name": "stdout",
     "output_type": "stream",
     "text": [
      "Original number of features is 24\n",
      "RFECV final number of features : 18\n",
      "\n",
      "Printing RFECV results:\n",
      "1. Number of features: 18; Grid_Score: 0.748651\n",
      "2. Number of features: 17; Grid_Score: 0.747989\n",
      "3. Number of features: 19; Grid_Score: 0.746339\n",
      "4. Number of features: 16; Grid_Score: 0.746327\n",
      "5. Number of features: 20; Grid_Score: 0.744022\n",
      "6. Number of features: 21; Grid_Score: 0.742022\n",
      "7. Number of features: 22; Grid_Score: 0.741046\n",
      "8. Number of features: 23; Grid_Score: 0.736396\n",
      "9. Number of features: 24; Grid_Score: 0.735080\n",
      "10. Number of features: 9; Grid_Score: 0.727744\n",
      "11. Number of features: 13; Grid_Score: 0.726774\n",
      "12. Number of features: 14; Grid_Score: 0.725095\n",
      "13. Number of features: 10; Grid_Score: 0.725093\n",
      "14. Number of features: 15; Grid_Score: 0.724106\n",
      "15. Number of features: 11; Grid_Score: 0.722107\n",
      "16. Number of features: 12; Grid_Score: 0.721106\n",
      "17. Number of features: 4; Grid_Score: 0.698558\n",
      "18. Number of features: 5; Grid_Score: 0.694220\n",
      "19. Number of features: 7; Grid_Score: 0.685606\n",
      "20. Number of features: 6; Grid_Score: 0.680614\n",
      "21. Number of features: 8; Grid_Score: 0.678957\n",
      "22. Number of features: 1; Grid_Score: 0.619532\n",
      "23. Number of features: 3; Grid_Score: 0.617206\n",
      "24. Number of features: 2; Grid_Score: 0.616228\n"
     ]
    },
    {
     "data": {
      "image/png": "[encoded data removed]",
      "text/plain": [
       "<matplotlib.figure.Figure at 0x7f864aa17128>"
      ]
     },
     "metadata": {},
     "output_type": "display_data"
    },
    {
     "name": "stdout",
     "output_type": "stream",
     "text": [
      "F19\n",
      "F36\n",
      "F37\n",
      "F38\n",
      "F39\n",
      "F40\n",
      "F41\n",
      "F46\n",
      "F47\n",
      "F52\n",
      "F54\n",
      "F55\n",
      "F56\n",
      "F57\n",
      "F58\n",
      "F59\n",
      "F66\n",
      "F67\n"
     ]
    }
   ],
   "source": [
    "stdsct10b = MinMaxScaler()\n",
    "stdsct10t = MinMaxScaler()\n",
    "\n",
    "et1 = ExtraTreesClassifier(n_estimators=250, max_depth=25, min_samples_split=10, min_samples_leaf=10)\n",
    "\n",
    "#X1 = data1.loc[:,['F20','F22','F26','F29','F30','F32','F35','F36','F37','F38','F39','F40','F41','F42']]\n",
    "X1 = data1.loc[:,['F19','F35','F36','F37','F38','F39','F40','F41','F46','F47','F52','F54','F55','F56','F57','F58','F59','F61','F62','F63','F64','F65','F66','F67']]\n",
    "\n",
    "Xt10b_train, Xt10b_test, Yt10b_train, Yt10b_test = cross_validation.train_test_split(X1, yt10_b, test_size=validation_size,random_state=seed)\n",
    "\n",
    "Xt10t_train, Xt10t_test, Yt10t_train, Yt10t_test = cross_validation.train_test_split(X1, yt10_t, test_size=validation_size, random_state=seed)\n",
    "\n",
    "Xt15t_train, Xt15t_test, Yt15t_train, Yt15t_test = cross_validation.train_test_split(X1, yt15_t, test_size=validation_size, random_state=seed)\n",
    "\n",
    "Xt20t_train, Xt20t_test, Yt20t_train, Yt20t_test = cross_validation.train_test_split(X1, yt20_t, test_size=validation_size, random_state=seed)\n",
    "\n",
    "Xt10b_std = stdsc10b.fit_transform(Xt10b_train)\n",
    "Xt10t_std = stdsc10t.fit_transform(Xt10t_train)\n",
    "Xt15t_std = stdsc15t.fit_transform(Xt15t_train)\n",
    "Xt20t_std = stdsc20t.fit_transform(Xt20t_train)\n",
    "\n",
    "xtrain = Xt20t_std\n",
    "ytrain = Yt20t_train\n",
    "\n",
    "#yt10_b\n",
    "rfecv1 = RFECV(estimator=et1, step=1, cv=StratifiedKFold(ytrain, n_folds=10, random_state=seed), scoring='accuracy')\n",
    "#rfecv1.fit(X110b,yt10_t)\n",
    "rfecv1.fit(xtrain,ytrain)\n",
    "#rfecv1.fit(X10t_train_std,Y10t_train)\n",
    "\n",
    "print('Original number of features is %s' % X1.shape[1])\n",
    "#print(\"RFE final number of features : %d\" % rfe.n_features_)\n",
    "print(\"RFECV final number of features : %d\" % rfecv1.n_features_)\n",
    "print('')\n",
    "\n",
    "import numpy as np\n",
    "g_scores = rfecv1.grid_scores_\n",
    "indices = np.argsort(g_scores)[::-1]\n",
    "print('Printing RFECV results:')\n",
    "for f in range(X1.shape[1]):\n",
    "    print(\"%d. Number of features: %d; Grid_Score: %f\" % (f + 1, indices[f]+1, g_scores[indices[f]]))\n",
    "\n",
    "plt.rcParams['figure.figsize'] = 10, 8\n",
    "plt.xlabel(\"Number of features selected\")\n",
    "plt.ylabel(\"RFE Cross validation score (nb of correct classifications)\")\n",
    "plt.plot(range(1, len(rfecv1.grid_scores_) + 1), rfecv1.grid_scores_)\n",
    "plt.show()\n",
    "\n",
    "\n",
    "for selected, feature in zip(rfecv1.support_, X1.columns):\n",
    "    if selected == True:\n",
    "        print(feature)"
   ]
  },
  {
   "cell_type": "code",
   "execution_count": 63,
   "metadata": {
    "collapsed": false
   },
   "outputs": [
    {
     "name": "stdout",
     "output_type": "stream",
     "text": [
      "ScaledET: 0.808081 (0.016495)\n",
      "mmScaledET: 0.794276 (0.019427)\n"
     ]
    }
   ],
   "source": [
    "# ensembles\n",
    "ensembles = []\n",
    "#ensembles.append(('ScaledAB', Pipeline([('Scaler', StandardScaler()),('AB', AdaBoostClassifier())])))\n",
    "#ensembles.append(('ScaledGBM', Pipeline([('Scaler', StandardScaler()),('GBM', GradientBoostingClassifier())])))\n",
    "#ensembles.append(('ScaledRF', Pipeline([('Scaler', StandardScaler()),('RF', RandomForestClassifier())])))\n",
    "#ensembles.append(('mmScaledRF', Pipeline([('mmScaler', MinMaxScaler(feature_range=(-1,1))),('RF', RandomForestClassifier(n_estimators=250, max_depth=10))])))\n",
    "ensembles.append(('ScaledET', Pipeline([('Scaler', StandardScaler()),('ET', ExtraTreesClassifier())])))\n",
    "ensembles.append(('mmScaledET', Pipeline([('mmScaler', MinMaxScaler(feature_range=(0,1))),('mmET', ExtraTreesClassifier(n_estimators=250, max_depth=15))])))\n",
    "results = []\n",
    "names = []\n",
    "kfold = cross_validation.KFold(n=num_instances, n_folds=num_folds, random_state=seed)\n",
    "for name, model in ensembles:\n",
    "    cv_results = cross_validation.cross_val_score(model, X_train, y_train, cv=kfold, scoring=scoring)\n",
    "    results.append(cv_results)\n",
    "    names.append(name)\n",
    "    msg = \"%s: %f (%f)\" % (name, cv_results.mean(), cv_results.std())\n",
    "    print(msg)"
   ]
  },
  {
   "cell_type": "code",
   "execution_count": 54,
   "metadata": {
    "collapsed": false
   },
   "outputs": [
    {
     "data": {
      "image/png": "[encoded data removed]",
      "text/plain": [
       "<matplotlib.figure.Figure at 0x7f85cb5f9470>"
      ]
     },
     "metadata": {},
     "output_type": "display_data"
    }
   ],
   "source": [
    "plt.figure()\n",
    "model = Pipeline([('Scaler', StandardScaler()),('ET', ExtraTreesClassifier())])\n",
    "train_sizes, train_scores, test_scores = learning_curve(model, X, y5_b, cv=kfold, n_jobs=1, train_sizes=np.linspace(.1,1.0,5))\n",
    "train_scores_mean = np.mean(train_scores, axis=1)\n",
    "train_scores_std = np.std(train_scores, axis=1)\n",
    "test_scores_mean = np.mean(test_scores, axis=1)\n",
    "test_scores_std = np.std(test_scores, axis=1)\n",
    "plt.grid()\n",
    "plt.fill_between(train_sizes, train_scores_mean-train_scores_std, train_scores_mean+train_scores_std, alpha=0.1, color=\"r\")\n",
    "plt.fill_between(train_sizes, test_scores_mean-test_scores_std, test_scores_mean+test_scores_std, alpha=0.1, color=\"g\")\n",
    "plt.plot(train_sizes, train_scores_mean, 'o-', color=\"r\", label=\"Training Score\")\n",
    "plt.plot(train_sizes, test_scores_mean, 'o-', color=\"g\", label=\"Cross-Validation Score\")\n",
    "plt.legend(loc=\"best\")\n",
    "plt.show()"
   ]
  },
  {
   "cell_type": "code",
   "execution_count": 42,
   "metadata": {
    "collapsed": false
   },
   "outputs": [
    {
     "data": {
      "image/png": "[encoded data removed]",
      "text/plain": [
       "<matplotlib.figure.Figure at 0x7f38d845f2b0>"
      ]
     },
     "metadata": {},
     "output_type": "display_data"
    }
   ],
   "source": [
    "stdsc = StandardScaler()\n",
    "X_train_std = stdsc.fit_transform(X10b_train)\n",
    "X_test_std = stdsc.transform(X10b_validation)\n",
    "    \n",
    "et = ExtraTreesClassifier()\n",
    "\n",
    "# selecting features\n",
    "sbs = SBS(et, k_features=5)\n",
    "sbs.fit(X_train_std, Y10b_train)\n",
    "\n",
    "# plotting performance of feature subsets\n",
    "k_feat = [len(k) for k in sbs.subsets_]\n",
    "\n",
    "plt.plot(k_feat, sbs.scores_, marker='o')\n",
    "plt.ylim([0.7, 1.0])\n",
    "plt.ylabel('Accuracy')\n",
    "plt.xlabel('Number of features')\n",
    "plt.grid()\n",
    "plt.tight_layout()\n",
    "# plt.savefig('./sbs.png', dpi=300)\n",
    "plt.show()"
   ]
  },
  {
   "cell_type": "code",
   "execution_count": 179,
   "metadata": {
    "collapsed": false
   },
   "outputs": [
    {
     "ename": "AttributeError",
     "evalue": "'numpy.ndarray' object has no attribute 'columns'",
     "output_type": "error",
     "traceback": [
      "\u001b[0;31m---------------------------------------------------------------------------\u001b[0m",
      "\u001b[0;31mAttributeError\u001b[0m                            Traceback (most recent call last)",
      "\u001b[0;32m<ipython-input-179-169f4f45d001>\u001b[0m in \u001b[0;36m<module>\u001b[0;34m()\u001b[0m\n\u001b[1;32m      1\u001b[0m \u001b[0mk5\u001b[0m \u001b[0;34m=\u001b[0m \u001b[0mlist\u001b[0m\u001b[0;34m(\u001b[0m\u001b[0msbs\u001b[0m\u001b[0;34m.\u001b[0m\u001b[0msubsets_\u001b[0m\u001b[0;34m[\u001b[0m\u001b[0;36m10\u001b[0m\u001b[0;34m]\u001b[0m\u001b[0;34m)\u001b[0m\u001b[0;34m\u001b[0m\u001b[0m\n\u001b[0;32m----> 2\u001b[0;31m \u001b[0mprint\u001b[0m\u001b[0;34m(\u001b[0m\u001b[0mX10b_train_std\u001b[0m\u001b[0;34m.\u001b[0m\u001b[0mcolumns\u001b[0m\u001b[0;34m[\u001b[0m\u001b[0;36m1\u001b[0m\u001b[0;34m:\u001b[0m\u001b[0;34m]\u001b[0m\u001b[0;34m[\u001b[0m\u001b[0mk5\u001b[0m\u001b[0;34m]\u001b[0m\u001b[0;34m)\u001b[0m\u001b[0;34m\u001b[0m\u001b[0m\n\u001b[0m\u001b[1;32m      3\u001b[0m \u001b[0;31m#print(k5)\u001b[0m\u001b[0;34m\u001b[0m\u001b[0;34m\u001b[0m\u001b[0m\n",
      "\u001b[0;31mAttributeError\u001b[0m: 'numpy.ndarray' object has no attribute 'columns'"
     ]
    }
   ],
   "source": [
    "k5 = list(sbs.subsets_[10])\n",
    "print(X10b_train_std.columns[1:][k5])\n",
    "#print(k5)"
   ]
  },
  {
   "cell_type": "code",
   "execution_count": 43,
   "metadata": {
    "collapsed": false
   },
   "outputs": [
    {
     "name": "stdout",
     "output_type": "stream",
     "text": [
      "Training accuracy: 1.0\n",
      "Test accuracy: 0.743243243243\n"
     ]
    }
   ],
   "source": [
    "et.fit(X10b_train_std, Y10b_train)\n",
    "print('Training accuracy:', et.score(X10b_train_std, Y10b_train))\n",
    "print('Test accuracy:', et.score(X10b_test_std, Y10b_validation))"
   ]
  },
  {
   "cell_type": "code",
   "execution_count": 44,
   "metadata": {
    "collapsed": false
   },
   "outputs": [
    {
     "ename": "NameError",
     "evalue": "name 'k5' is not defined",
     "output_type": "error",
     "traceback": [
      "\u001b[0;31m---------------------------------------------------------------------------\u001b[0m",
      "\u001b[0;31mNameError\u001b[0m                                 Traceback (most recent call last)",
      "\u001b[0;32m<ipython-input-44-fda98e29f996>\u001b[0m in \u001b[0;36m<module>\u001b[0;34m()\u001b[0m\n\u001b[0;32m----> 1\u001b[0;31m \u001b[0met\u001b[0m\u001b[0;34m.\u001b[0m\u001b[0mfit\u001b[0m\u001b[0;34m(\u001b[0m\u001b[0mX10b_train_std\u001b[0m\u001b[0;34m[\u001b[0m\u001b[0;34m:\u001b[0m\u001b[0;34m,\u001b[0m \u001b[0mk5\u001b[0m\u001b[0;34m]\u001b[0m\u001b[0;34m,\u001b[0m \u001b[0mY10b_train\u001b[0m\u001b[0;34m)\u001b[0m\u001b[0;34m\u001b[0m\u001b[0m\n\u001b[0m\u001b[1;32m      2\u001b[0m \u001b[0mprint\u001b[0m\u001b[0;34m(\u001b[0m\u001b[0;34m'Training accuracy:'\u001b[0m\u001b[0;34m,\u001b[0m \u001b[0met\u001b[0m\u001b[0;34m.\u001b[0m\u001b[0mscore\u001b[0m\u001b[0;34m(\u001b[0m\u001b[0mX10b_train_std\u001b[0m\u001b[0;34m[\u001b[0m\u001b[0;34m:\u001b[0m\u001b[0;34m,\u001b[0m \u001b[0mk5\u001b[0m\u001b[0;34m]\u001b[0m\u001b[0;34m,\u001b[0m \u001b[0mY10b_train\u001b[0m\u001b[0;34m)\u001b[0m\u001b[0;34m)\u001b[0m\u001b[0;34m\u001b[0m\u001b[0m\n\u001b[1;32m      3\u001b[0m \u001b[0mprint\u001b[0m\u001b[0;34m(\u001b[0m\u001b[0;34m'Test accuracy:'\u001b[0m\u001b[0;34m,\u001b[0m \u001b[0met\u001b[0m\u001b[0;34m.\u001b[0m\u001b[0mscore\u001b[0m\u001b[0;34m(\u001b[0m\u001b[0mX10b_test_std\u001b[0m\u001b[0;34m[\u001b[0m\u001b[0;34m:\u001b[0m\u001b[0;34m,\u001b[0m \u001b[0mk5\u001b[0m\u001b[0;34m]\u001b[0m\u001b[0;34m,\u001b[0m \u001b[0mY10b_validation\u001b[0m\u001b[0;34m)\u001b[0m\u001b[0;34m)\u001b[0m\u001b[0;34m\u001b[0m\u001b[0m\n",
      "\u001b[0;31mNameError\u001b[0m: name 'k5' is not defined"
     ]
    }
   ],
   "source": [
    "et.fit(X10b_train_std[:, k5], Y10b_train)\n",
    "print('Training accuracy:', et.score(X10b_train_std[:, k5], Y10b_train))\n",
    "print('Test accuracy:', et.score(X10b_test_std[:, k5], Y10b_validation))"
   ]
  },
  {
   "cell_type": "code",
   "execution_count": null,
   "metadata": {
    "collapsed": true
   },
   "outputs": [],
   "source": []
  }
 ],
 "metadata": {
  "kernelspec": {
   "display_name": "Python 3",
   "language": "python",
   "name": "python3"
  },
  "language_info": {
   "codemirror_mode": {
    "name": "ipython",
    "version": 3
   },
   "file_extension": ".py",
   "mimetype": "text/x-python",
   "name": "python",
   "nbconvert_exporter": "python",
   "pygments_lexer": "ipython3",
   "version": "3.5.2"
  }
 },
 "nbformat": 4,
 "nbformat_minor": 0
}
