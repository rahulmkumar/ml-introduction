{
 "cells": [
  {
   "cell_type": "code",
   "execution_count": 1,
   "metadata": {
    "collapsed": true
   },
   "outputs": [],
   "source": [
    "import time\n",
    "import numpy as np\n",
    "import pandas as pd\n",
    "from sklearn.preprocessing import OneHotEncoder\n",
    "from sklearn.preprocessing import LabelEncoder\n",
    "import matplotlib.pyplot as plt\n",
    "%matplotlib inline \n",
    "plt.rcParams['figure.figsize'] = 16, 12\n",
    "\n",
    "\n",
    "from pandas.tools.plotting import scatter_matrix\n",
    "from sklearn.preprocessing import StandardScaler\n",
    "from sklearn.preprocessing import Normalizer\n",
    "from sklearn.preprocessing import MinMaxScaler\n",
    "from sklearn.preprocessing import Imputer\n",
    "from sklearn import cross_validation\n",
    "from sklearn.cross_validation import StratifiedKFold, KFold\n",
    "from sklearn.metrics import classification_report\n",
    "from sklearn.metrics import confusion_matrix\n",
    "from sklearn.metrics import accuracy_score\n",
    "from sklearn.feature_selection import SelectFromModel\n",
    "from sklearn.feature_selection import RFECV\n",
    "from sklearn.feature_selection import RFE\n",
    "from sklearn.pipeline import Pipeline\n",
    "from sklearn.grid_search import GridSearchCV\n",
    "from sklearn.linear_model import LogisticRegression\n",
    "from sklearn.tree import DecisionTreeClassifier\n",
    "from sklearn.neighbors import KNeighborsClassifier\n",
    "from sklearn.discriminant_analysis import LinearDiscriminantAnalysis\n",
    "from sklearn.naive_bayes import GaussianNB\n",
    "from sklearn.svm import SVC\n",
    "from sklearn.ensemble import AdaBoostClassifier\n",
    "from sklearn.ensemble import GradientBoostingClassifier\n",
    "from sklearn.ensemble import RandomForestClassifier\n",
    "from sklearn.ensemble import ExtraTreesClassifier\n",
    "from xgboost.sklearn import XGBClassifier\n",
    "from xgboost import plot_importance\n",
    "from sklearn.decomposition import PCA\n",
    "\n",
    "from sklearn.learning_curve import learning_curve\n",
    "from sklearn.learning_curve import validation_curve"
   ]
  },
  {
   "cell_type": "markdown",
   "metadata": {},
   "source": [
    "##### The Sequential Backward Selection algorithm below has been taken from:\n",
    "Python Machine Learning - By Sebastian Raschka - Chapter 4"
   ]
  },
  {
   "cell_type": "code",
   "execution_count": 2,
   "metadata": {
    "collapsed": true
   },
   "outputs": [],
   "source": [
    "from sklearn.base import clone\n",
    "from itertools import combinations\n",
    "import numpy as np\n",
    "from sklearn.cross_validation import train_test_split\n",
    "from sklearn.metrics import accuracy_score\n",
    "\n",
    "class SBS():\n",
    "    def __init__(self, estimator, k_features, scoring=accuracy_score,\n",
    "                 test_size=0.25, random_state=1):\n",
    "        self.scoring = scoring\n",
    "        self.estimator = clone(estimator)\n",
    "        self.k_features = k_features\n",
    "        self.test_size = test_size\n",
    "        self.random_state = random_state\n",
    "\n",
    "    def fit(self, X, y):\n",
    "        \n",
    "        X_train, X_test, y_train, y_test = \\\n",
    "            train_test_split(X, y, test_size=self.test_size,\n",
    "                             random_state=self.random_state)\n",
    "\n",
    "        dim = X_train.shape[1]\n",
    "        self.indices_ = tuple(range(dim))\n",
    "        self.subsets_ = [self.indices_]\n",
    "        score = self._calc_score(X_train, y_train, \n",
    "                                 X_test, y_test, self.indices_)\n",
    "        self.scores_ = [score]\n",
    "\n",
    "        while dim > self.k_features:\n",
    "            scores = []\n",
    "            subsets = []\n",
    "\n",
    "            for p in combinations(self.indices_, r=dim - 1):\n",
    "                score = self._calc_score(X_train, y_train, \n",
    "                                         X_test, y_test, p)\n",
    "                scores.append(score)\n",
    "                subsets.append(p)\n",
    "\n",
    "            best = np.argmax(scores)\n",
    "            self.indices_ = subsets[best]\n",
    "            self.subsets_.append(self.indices_)\n",
    "            dim -= 1\n",
    "\n",
    "            self.scores_.append(scores[best])\n",
    "        self.k_score_ = self.scores_[-1]\n",
    "\n",
    "        return self\n",
    "\n",
    "    def transform(self, X):\n",
    "        return X[:, self.indices_]\n",
    "\n",
    "    def _calc_score(self, X_train, y_train, X_test, y_test, indices):\n",
    "        self.estimator.fit(X_train[:, indices], y_train)\n",
    "        y_pred = self.estimator.predict(X_test[:, indices])\n",
    "        score = self.scoring(y_test, y_pred)\n",
    "        return score"
   ]
  },
  {
   "cell_type": "code",
   "execution_count": 3,
   "metadata": {
    "collapsed": false
   },
   "outputs": [],
   "source": [
    "file = 'data/price_data_52.csv'\n",
    "data = pd.read_csv(file)\n",
    "\n",
    "file1 = 'data/price_data1.csv'\n",
    "data1 = pd.read_csv(file1)"
   ]
  },
  {
   "cell_type": "code",
   "execution_count": 4,
   "metadata": {
    "collapsed": false
   },
   "outputs": [
    {
     "data": {
      "text/html": [
       "<div>\n",
       "<table border=\"1\" class=\"dataframe\">\n",
       "  <thead>\n",
       "    <tr style=\"text-align: right;\">\n",
       "      <th></th>\n",
       "      <th>Date</th>\n",
       "      <th>F1</th>\n",
       "      <th>F2</th>\n",
       "      <th>F3</th>\n",
       "      <th>F4</th>\n",
       "      <th>F5</th>\n",
       "      <th>F6</th>\n",
       "      <th>F7</th>\n",
       "      <th>F8</th>\n",
       "      <th>F9</th>\n",
       "      <th>...</th>\n",
       "      <th>F49</th>\n",
       "      <th>F50</th>\n",
       "      <th>F51</th>\n",
       "      <th>F52</th>\n",
       "      <th>RET5</th>\n",
       "      <th>RET10</th>\n",
       "      <th>RET15</th>\n",
       "      <th>RET20</th>\n",
       "      <th>RET25</th>\n",
       "      <th>RET30</th>\n",
       "    </tr>\n",
       "  </thead>\n",
       "  <tbody>\n",
       "    <tr>\n",
       "      <th>0</th>\n",
       "      <td>2001-11-01</td>\n",
       "      <td>-0.255954</td>\n",
       "      <td>0.844804</td>\n",
       "      <td>1.937538</td>\n",
       "      <td>3.159185</td>\n",
       "      <td>4.345108</td>\n",
       "      <td>0.722899</td>\n",
       "      <td>1.823656</td>\n",
       "      <td>2.916390</td>\n",
       "      <td>4.138037</td>\n",
       "      <td>...</td>\n",
       "      <td>2.725825</td>\n",
       "      <td>3.056173</td>\n",
       "      <td>9.082981</td>\n",
       "      <td>9.729145</td>\n",
       "      <td>0.088349</td>\n",
       "      <td>0.132201</td>\n",
       "      <td>0.058899</td>\n",
       "      <td>0.152408</td>\n",
       "      <td>0.329321</td>\n",
       "      <td>0.350172</td>\n",
       "    </tr>\n",
       "    <tr>\n",
       "      <th>1</th>\n",
       "      <td>2001-11-02</td>\n",
       "      <td>0.450695</td>\n",
       "      <td>1.573175</td>\n",
       "      <td>2.671952</td>\n",
       "      <td>3.916848</td>\n",
       "      <td>5.135008</td>\n",
       "      <td>0.721375</td>\n",
       "      <td>1.843854</td>\n",
       "      <td>2.942632</td>\n",
       "      <td>4.187527</td>\n",
       "      <td>...</td>\n",
       "      <td>2.833736</td>\n",
       "      <td>2.961171</td>\n",
       "      <td>8.833185</td>\n",
       "      <td>9.707987</td>\n",
       "      <td>0.054696</td>\n",
       "      <td>0.122536</td>\n",
       "      <td>0.058936</td>\n",
       "      <td>0.158363</td>\n",
       "      <td>0.270935</td>\n",
       "      <td>0.391562</td>\n",
       "    </tr>\n",
       "    <tr>\n",
       "      <th>2</th>\n",
       "      <td>2001-11-05</td>\n",
       "      <td>0.807269</td>\n",
       "      <td>1.929457</td>\n",
       "      <td>3.029513</td>\n",
       "      <td>4.294151</td>\n",
       "      <td>5.542462</td>\n",
       "      <td>0.602685</td>\n",
       "      <td>1.724873</td>\n",
       "      <td>2.824930</td>\n",
       "      <td>4.089568</td>\n",
       "      <td>...</td>\n",
       "      <td>2.944542</td>\n",
       "      <td>2.732938</td>\n",
       "      <td>8.220869</td>\n",
       "      <td>9.781475</td>\n",
       "      <td>0.123785</td>\n",
       "      <td>0.108787</td>\n",
       "      <td>0.130545</td>\n",
       "      <td>0.136671</td>\n",
       "      <td>0.279045</td>\n",
       "      <td>0.436417</td>\n",
       "    </tr>\n",
       "  </tbody>\n",
       "</table>\n",
       "<p>3 rows × 59 columns</p>\n",
       "</div>"
      ],
      "text/plain": [
       "         Date        F1        F2        F3        F4        F5        F6  \\\n",
       "0  2001-11-01 -0.255954  0.844804  1.937538  3.159185  4.345108  0.722899   \n",
       "1  2001-11-02  0.450695  1.573175  2.671952  3.916848  5.135008  0.721375   \n",
       "2  2001-11-05  0.807269  1.929457  3.029513  4.294151  5.542462  0.602685   \n",
       "\n",
       "         F7        F8        F9    ...          F49       F50       F51  \\\n",
       "0  1.823656  2.916390  4.138037    ...     2.725825  3.056173  9.082981   \n",
       "1  1.843854  2.942632  4.187527    ...     2.833736  2.961171  8.833185   \n",
       "2  1.724873  2.824930  4.089568    ...     2.944542  2.732938  8.220869   \n",
       "\n",
       "        F52      RET5     RET10     RET15     RET20     RET25     RET30  \n",
       "0  9.729145  0.088349  0.132201  0.058899  0.152408  0.329321  0.350172  \n",
       "1  9.707987  0.054696  0.122536  0.058936  0.158363  0.270935  0.391562  \n",
       "2  9.781475  0.123785  0.108787  0.130545  0.136671  0.279045  0.436417  \n",
       "\n",
       "[3 rows x 59 columns]"
      ]
     },
     "execution_count": 4,
     "metadata": {},
     "output_type": "execute_result"
    }
   ],
   "source": [
    "data.head(3)"
   ]
  },
  {
   "cell_type": "code",
   "execution_count": 5,
   "metadata": {
    "collapsed": false
   },
   "outputs": [],
   "source": [
    "del data['Date']\n",
    "del data1['Date']"
   ]
  },
  {
   "cell_type": "code",
   "execution_count": 6,
   "metadata": {
    "collapsed": false
   },
   "outputs": [
    {
     "data": {
      "text/html": [
       "<div>\n",
       "<table border=\"1\" class=\"dataframe\">\n",
       "  <thead>\n",
       "    <tr style=\"text-align: right;\">\n",
       "      <th></th>\n",
       "      <th>F1</th>\n",
       "      <th>F2</th>\n",
       "      <th>F3</th>\n",
       "      <th>F4</th>\n",
       "      <th>F5</th>\n",
       "      <th>F6</th>\n",
       "      <th>F7</th>\n",
       "      <th>F8</th>\n",
       "      <th>F9</th>\n",
       "      <th>F10</th>\n",
       "      <th>...</th>\n",
       "      <th>F49</th>\n",
       "      <th>F50</th>\n",
       "      <th>F51</th>\n",
       "      <th>F52</th>\n",
       "      <th>RET5</th>\n",
       "      <th>RET10</th>\n",
       "      <th>RET15</th>\n",
       "      <th>RET20</th>\n",
       "      <th>RET25</th>\n",
       "      <th>RET30</th>\n",
       "    </tr>\n",
       "  </thead>\n",
       "  <tbody>\n",
       "    <tr>\n",
       "      <th>0</th>\n",
       "      <td>-0.255954</td>\n",
       "      <td>0.844804</td>\n",
       "      <td>1.937538</td>\n",
       "      <td>3.159185</td>\n",
       "      <td>4.345108</td>\n",
       "      <td>0.722899</td>\n",
       "      <td>1.823656</td>\n",
       "      <td>2.916390</td>\n",
       "      <td>4.138037</td>\n",
       "      <td>5.323961</td>\n",
       "      <td>...</td>\n",
       "      <td>2.725825</td>\n",
       "      <td>3.056173</td>\n",
       "      <td>9.082981</td>\n",
       "      <td>9.729145</td>\n",
       "      <td>0.088349</td>\n",
       "      <td>0.132201</td>\n",
       "      <td>0.058899</td>\n",
       "      <td>0.152408</td>\n",
       "      <td>0.329321</td>\n",
       "      <td>0.350172</td>\n",
       "    </tr>\n",
       "    <tr>\n",
       "      <th>1</th>\n",
       "      <td>0.450695</td>\n",
       "      <td>1.573175</td>\n",
       "      <td>2.671952</td>\n",
       "      <td>3.916848</td>\n",
       "      <td>5.135008</td>\n",
       "      <td>0.721375</td>\n",
       "      <td>1.843854</td>\n",
       "      <td>2.942632</td>\n",
       "      <td>4.187527</td>\n",
       "      <td>5.405687</td>\n",
       "      <td>...</td>\n",
       "      <td>2.833736</td>\n",
       "      <td>2.961171</td>\n",
       "      <td>8.833185</td>\n",
       "      <td>9.707987</td>\n",
       "      <td>0.054696</td>\n",
       "      <td>0.122536</td>\n",
       "      <td>0.058936</td>\n",
       "      <td>0.158363</td>\n",
       "      <td>0.270935</td>\n",
       "      <td>0.391562</td>\n",
       "    </tr>\n",
       "    <tr>\n",
       "      <th>2</th>\n",
       "      <td>0.807269</td>\n",
       "      <td>1.929457</td>\n",
       "      <td>3.029513</td>\n",
       "      <td>4.294151</td>\n",
       "      <td>5.542462</td>\n",
       "      <td>0.602685</td>\n",
       "      <td>1.724873</td>\n",
       "      <td>2.824930</td>\n",
       "      <td>4.089568</td>\n",
       "      <td>5.337878</td>\n",
       "      <td>...</td>\n",
       "      <td>2.944542</td>\n",
       "      <td>2.732938</td>\n",
       "      <td>8.220869</td>\n",
       "      <td>9.781475</td>\n",
       "      <td>0.123785</td>\n",
       "      <td>0.108787</td>\n",
       "      <td>0.130545</td>\n",
       "      <td>0.136671</td>\n",
       "      <td>0.279045</td>\n",
       "      <td>0.436417</td>\n",
       "    </tr>\n",
       "  </tbody>\n",
       "</table>\n",
       "<p>3 rows × 58 columns</p>\n",
       "</div>"
      ],
      "text/plain": [
       "         F1        F2        F3        F4        F5        F6        F7  \\\n",
       "0 -0.255954  0.844804  1.937538  3.159185  4.345108  0.722899  1.823656   \n",
       "1  0.450695  1.573175  2.671952  3.916848  5.135008  0.721375  1.843854   \n",
       "2  0.807269  1.929457  3.029513  4.294151  5.542462  0.602685  1.724873   \n",
       "\n",
       "         F8        F9       F10    ...          F49       F50       F51  \\\n",
       "0  2.916390  4.138037  5.323961    ...     2.725825  3.056173  9.082981   \n",
       "1  2.942632  4.187527  5.405687    ...     2.833736  2.961171  8.833185   \n",
       "2  2.824930  4.089568  5.337878    ...     2.944542  2.732938  8.220869   \n",
       "\n",
       "        F52      RET5     RET10     RET15     RET20     RET25     RET30  \n",
       "0  9.729145  0.088349  0.132201  0.058899  0.152408  0.329321  0.350172  \n",
       "1  9.707987  0.054696  0.122536  0.058936  0.158363  0.270935  0.391562  \n",
       "2  9.781475  0.123785  0.108787  0.130545  0.136671  0.279045  0.436417  \n",
       "\n",
       "[3 rows x 58 columns]"
      ]
     },
     "execution_count": 6,
     "metadata": {},
     "output_type": "execute_result"
    }
   ],
   "source": [
    "data.head(3)"
   ]
  },
  {
   "cell_type": "code",
   "execution_count": 38,
   "metadata": {
    "collapsed": false
   },
   "outputs": [],
   "source": [
    "# Features are F1 through F42\n",
    "# Labels are RET5, RET10, RET15, RET20, RET25, RET30\n",
    "\n",
    "X = data.loc[:,'F1':'F52']\n",
    "y5 = data.loc[:,'RET5']\n",
    "y10 = data.loc[:,'RET10']\n",
    "y15 = data.loc[:,'RET15']\n",
    "y20 = data.loc[:,'RET20']\n",
    "y25 = data.loc[:,'RET25']\n",
    "y30 = data.loc[:,'RET30']"
   ]
  },
  {
   "cell_type": "code",
   "execution_count": 8,
   "metadata": {
    "collapsed": false
   },
   "outputs": [],
   "source": [
    "X1 = data1.loc[:,'F1':'F42']\n",
    "yt5 = data1.loc[:,'RET5']\n",
    "yt10 = data1.loc[:,'RET10']\n",
    "yt15 = data1.loc[:,'RET15']\n",
    "yt20 = data1.loc[:,'RET20']\n",
    "yt25 = data1.loc[:,'RET25']\n",
    "yt30 = data1.loc[:,'RET30']"
   ]
  },
  {
   "cell_type": "code",
   "execution_count": 9,
   "metadata": {
    "collapsed": false
   },
   "outputs": [
    {
     "data": {
      "text/html": [
       "<div>\n",
       "<table border=\"1\" class=\"dataframe\">\n",
       "  <thead>\n",
       "    <tr style=\"text-align: right;\">\n",
       "      <th></th>\n",
       "      <th>F1</th>\n",
       "      <th>F2</th>\n",
       "      <th>F3</th>\n",
       "      <th>F4</th>\n",
       "      <th>F5</th>\n",
       "      <th>F6</th>\n",
       "      <th>F7</th>\n",
       "      <th>F8</th>\n",
       "      <th>F9</th>\n",
       "      <th>F10</th>\n",
       "      <th>...</th>\n",
       "      <th>F43</th>\n",
       "      <th>F44</th>\n",
       "      <th>F45</th>\n",
       "      <th>F46</th>\n",
       "      <th>F47</th>\n",
       "      <th>F48</th>\n",
       "      <th>F49</th>\n",
       "      <th>F50</th>\n",
       "      <th>F51</th>\n",
       "      <th>F52</th>\n",
       "    </tr>\n",
       "  </thead>\n",
       "  <tbody>\n",
       "    <tr>\n",
       "      <th>0</th>\n",
       "      <td>-0.255954</td>\n",
       "      <td>0.844804</td>\n",
       "      <td>1.937538</td>\n",
       "      <td>3.159185</td>\n",
       "      <td>4.345108</td>\n",
       "      <td>0.722899</td>\n",
       "      <td>1.823656</td>\n",
       "      <td>2.916390</td>\n",
       "      <td>4.138037</td>\n",
       "      <td>5.323961</td>\n",
       "      <td>...</td>\n",
       "      <td>0.705706</td>\n",
       "      <td>0.721483</td>\n",
       "      <td>0.713676</td>\n",
       "      <td>0.666366</td>\n",
       "      <td>0.638930</td>\n",
       "      <td>2.419293</td>\n",
       "      <td>2.725825</td>\n",
       "      <td>3.056173</td>\n",
       "      <td>9.082981</td>\n",
       "      <td>9.729145</td>\n",
       "    </tr>\n",
       "    <tr>\n",
       "      <th>1</th>\n",
       "      <td>0.450695</td>\n",
       "      <td>1.573175</td>\n",
       "      <td>2.671952</td>\n",
       "      <td>3.916848</td>\n",
       "      <td>5.135008</td>\n",
       "      <td>0.721375</td>\n",
       "      <td>1.843854</td>\n",
       "      <td>2.942632</td>\n",
       "      <td>4.187527</td>\n",
       "      <td>5.405687</td>\n",
       "      <td>...</td>\n",
       "      <td>0.560697</td>\n",
       "      <td>0.639518</td>\n",
       "      <td>0.658301</td>\n",
       "      <td>0.635929</td>\n",
       "      <td>0.615172</td>\n",
       "      <td>2.834617</td>\n",
       "      <td>2.833736</td>\n",
       "      <td>2.961171</td>\n",
       "      <td>8.833185</td>\n",
       "      <td>9.707987</td>\n",
       "    </tr>\n",
       "    <tr>\n",
       "      <th>2</th>\n",
       "      <td>0.807269</td>\n",
       "      <td>1.929457</td>\n",
       "      <td>3.029513</td>\n",
       "      <td>4.294151</td>\n",
       "      <td>5.542462</td>\n",
       "      <td>0.602685</td>\n",
       "      <td>1.724873</td>\n",
       "      <td>2.824930</td>\n",
       "      <td>4.089568</td>\n",
       "      <td>5.337878</td>\n",
       "      <td>...</td>\n",
       "      <td>0.441993</td>\n",
       "      <td>0.560439</td>\n",
       "      <td>0.601586</td>\n",
       "      <td>0.602748</td>\n",
       "      <td>0.588682</td>\n",
       "      <td>2.866265</td>\n",
       "      <td>2.944542</td>\n",
       "      <td>2.732938</td>\n",
       "      <td>8.220869</td>\n",
       "      <td>9.781475</td>\n",
       "    </tr>\n",
       "    <tr>\n",
       "      <th>3</th>\n",
       "      <td>0.213114</td>\n",
       "      <td>1.446747</td>\n",
       "      <td>2.576726</td>\n",
       "      <td>3.878652</td>\n",
       "      <td>5.168200</td>\n",
       "      <td>1.264357</td>\n",
       "      <td>2.497991</td>\n",
       "      <td>3.627970</td>\n",
       "      <td>4.929895</td>\n",
       "      <td>6.219444</td>\n",
       "      <td>...</td>\n",
       "      <td>0.645076</td>\n",
       "      <td>0.649676</td>\n",
       "      <td>0.657793</td>\n",
       "      <td>0.637248</td>\n",
       "      <td>0.618525</td>\n",
       "      <td>3.101705</td>\n",
       "      <td>3.496658</td>\n",
       "      <td>3.251934</td>\n",
       "      <td>7.421300</td>\n",
       "      <td>9.918037</td>\n",
       "    </tr>\n",
       "    <tr>\n",
       "      <th>4</th>\n",
       "      <td>0.857841</td>\n",
       "      <td>2.147006</td>\n",
       "      <td>3.297188</td>\n",
       "      <td>4.630628</td>\n",
       "      <td>5.958204</td>\n",
       "      <td>0.993181</td>\n",
       "      <td>2.282346</td>\n",
       "      <td>3.432527</td>\n",
       "      <td>4.765968</td>\n",
       "      <td>6.093544</td>\n",
       "      <td>...</td>\n",
       "      <td>0.475164</td>\n",
       "      <td>0.556161</td>\n",
       "      <td>0.592487</td>\n",
       "      <td>0.598640</td>\n",
       "      <td>0.587352</td>\n",
       "      <td>2.247006</td>\n",
       "      <td>3.909165</td>\n",
       "      <td>3.407608</td>\n",
       "      <td>6.974995</td>\n",
       "      <td>9.909111</td>\n",
       "    </tr>\n",
       "  </tbody>\n",
       "</table>\n",
       "<p>5 rows × 52 columns</p>\n",
       "</div>"
      ],
      "text/plain": [
       "         F1        F2        F3        F4        F5        F6        F7  \\\n",
       "0 -0.255954  0.844804  1.937538  3.159185  4.345108  0.722899  1.823656   \n",
       "1  0.450695  1.573175  2.671952  3.916848  5.135008  0.721375  1.843854   \n",
       "2  0.807269  1.929457  3.029513  4.294151  5.542462  0.602685  1.724873   \n",
       "3  0.213114  1.446747  2.576726  3.878652  5.168200  1.264357  2.497991   \n",
       "4  0.857841  2.147006  3.297188  4.630628  5.958204  0.993181  2.282346   \n",
       "\n",
       "         F8        F9       F10    ...          F43       F44       F45  \\\n",
       "0  2.916390  4.138037  5.323961    ...     0.705706  0.721483  0.713676   \n",
       "1  2.942632  4.187527  5.405687    ...     0.560697  0.639518  0.658301   \n",
       "2  2.824930  4.089568  5.337878    ...     0.441993  0.560439  0.601586   \n",
       "3  3.627970  4.929895  6.219444    ...     0.645076  0.649676  0.657793   \n",
       "4  3.432527  4.765968  6.093544    ...     0.475164  0.556161  0.592487   \n",
       "\n",
       "        F46       F47       F48       F49       F50       F51       F52  \n",
       "0  0.666366  0.638930  2.419293  2.725825  3.056173  9.082981  9.729145  \n",
       "1  0.635929  0.615172  2.834617  2.833736  2.961171  8.833185  9.707987  \n",
       "2  0.602748  0.588682  2.866265  2.944542  2.732938  8.220869  9.781475  \n",
       "3  0.637248  0.618525  3.101705  3.496658  3.251934  7.421300  9.918037  \n",
       "4  0.598640  0.587352  2.247006  3.909165  3.407608  6.974995  9.909111  \n",
       "\n",
       "[5 rows x 52 columns]"
      ]
     },
     "execution_count": 9,
     "metadata": {},
     "output_type": "execute_result"
    }
   ],
   "source": [
    "X.head(5)"
   ]
  },
  {
   "cell_type": "code",
   "execution_count": 10,
   "metadata": {
    "collapsed": false
   },
   "outputs": [
    {
     "data": {
      "text/html": [
       "<div>\n",
       "<table border=\"1\" class=\"dataframe\">\n",
       "  <thead>\n",
       "    <tr style=\"text-align: right;\">\n",
       "      <th></th>\n",
       "      <th>F1</th>\n",
       "      <th>F2</th>\n",
       "      <th>F3</th>\n",
       "      <th>F4</th>\n",
       "      <th>F5</th>\n",
       "      <th>F6</th>\n",
       "      <th>F7</th>\n",
       "      <th>F8</th>\n",
       "      <th>F9</th>\n",
       "      <th>F10</th>\n",
       "      <th>...</th>\n",
       "      <th>F43</th>\n",
       "      <th>F44</th>\n",
       "      <th>F45</th>\n",
       "      <th>F46</th>\n",
       "      <th>F47</th>\n",
       "      <th>F48</th>\n",
       "      <th>F49</th>\n",
       "      <th>F50</th>\n",
       "      <th>F51</th>\n",
       "      <th>F52</th>\n",
       "    </tr>\n",
       "  </thead>\n",
       "  <tbody>\n",
       "    <tr>\n",
       "      <th>count</th>\n",
       "      <td>3711.000000</td>\n",
       "      <td>3711.000000</td>\n",
       "      <td>3711.000000</td>\n",
       "      <td>3711.000000</td>\n",
       "      <td>3711.000000</td>\n",
       "      <td>3711.000000</td>\n",
       "      <td>3711.000000</td>\n",
       "      <td>3711.000000</td>\n",
       "      <td>3711.000000</td>\n",
       "      <td>3711.000000</td>\n",
       "      <td>...</td>\n",
       "      <td>3711.000000</td>\n",
       "      <td>3711.000000</td>\n",
       "      <td>3711.000000</td>\n",
       "      <td>3711.000000</td>\n",
       "      <td>3711.000000</td>\n",
       "      <td>3711.000000</td>\n",
       "      <td>3711.000000</td>\n",
       "      <td>3711.000000</td>\n",
       "      <td>3711.000000</td>\n",
       "      <td>3711.000000</td>\n",
       "    </tr>\n",
       "    <tr>\n",
       "      <th>mean</th>\n",
       "      <td>0.046389</td>\n",
       "      <td>0.123992</td>\n",
       "      <td>0.197737</td>\n",
       "      <td>0.308083</td>\n",
       "      <td>0.467071</td>\n",
       "      <td>0.044262</td>\n",
       "      <td>0.121866</td>\n",
       "      <td>0.195611</td>\n",
       "      <td>0.305956</td>\n",
       "      <td>0.464944</td>\n",
       "      <td>...</td>\n",
       "      <td>0.273308</td>\n",
       "      <td>0.273394</td>\n",
       "      <td>0.273469</td>\n",
       "      <td>0.273513</td>\n",
       "      <td>0.273487</td>\n",
       "      <td>1.316705</td>\n",
       "      <td>1.962080</td>\n",
       "      <td>2.445780</td>\n",
       "      <td>3.261233</td>\n",
       "      <td>3.630347</td>\n",
       "    </tr>\n",
       "    <tr>\n",
       "      <th>std</th>\n",
       "      <td>0.527764</td>\n",
       "      <td>1.084403</td>\n",
       "      <td>1.504216</td>\n",
       "      <td>2.049238</td>\n",
       "      <td>2.722665</td>\n",
       "      <td>0.620970</td>\n",
       "      <td>1.161142</td>\n",
       "      <td>1.569698</td>\n",
       "      <td>2.103509</td>\n",
       "      <td>2.766170</td>\n",
       "      <td>...</td>\n",
       "      <td>0.194034</td>\n",
       "      <td>0.174875</td>\n",
       "      <td>0.167418</td>\n",
       "      <td>0.160193</td>\n",
       "      <td>0.157894</td>\n",
       "      <td>1.166389</td>\n",
       "      <td>1.603402</td>\n",
       "      <td>1.968386</td>\n",
       "      <td>2.595154</td>\n",
       "      <td>2.875567</td>\n",
       "    </tr>\n",
       "    <tr>\n",
       "      <th>min</th>\n",
       "      <td>-4.393641</td>\n",
       "      <td>-6.269257</td>\n",
       "      <td>-7.200418</td>\n",
       "      <td>-8.298424</td>\n",
       "      <td>-8.810585</td>\n",
       "      <td>-4.856314</td>\n",
       "      <td>-6.731930</td>\n",
       "      <td>-7.464011</td>\n",
       "      <td>-8.081795</td>\n",
       "      <td>-9.004221</td>\n",
       "      <td>...</td>\n",
       "      <td>0.032539</td>\n",
       "      <td>0.052552</td>\n",
       "      <td>0.062591</td>\n",
       "      <td>0.072528</td>\n",
       "      <td>0.075739</td>\n",
       "      <td>0.066464</td>\n",
       "      <td>0.130381</td>\n",
       "      <td>0.289132</td>\n",
       "      <td>0.486173</td>\n",
       "      <td>0.504710</td>\n",
       "    </tr>\n",
       "    <tr>\n",
       "      <th>25%</th>\n",
       "      <td>-0.187788</td>\n",
       "      <td>-0.343319</td>\n",
       "      <td>-0.463913</td>\n",
       "      <td>-0.600263</td>\n",
       "      <td>-0.686488</td>\n",
       "      <td>-0.228149</td>\n",
       "      <td>-0.386577</td>\n",
       "      <td>-0.506234</td>\n",
       "      <td>-0.634718</td>\n",
       "      <td>-0.730194</td>\n",
       "      <td>...</td>\n",
       "      <td>0.141209</td>\n",
       "      <td>0.148862</td>\n",
       "      <td>0.150742</td>\n",
       "      <td>0.149875</td>\n",
       "      <td>0.149544</td>\n",
       "      <td>0.591842</td>\n",
       "      <td>0.937016</td>\n",
       "      <td>1.165029</td>\n",
       "      <td>1.582028</td>\n",
       "      <td>1.762069</td>\n",
       "    </tr>\n",
       "    <tr>\n",
       "      <th>50%</th>\n",
       "      <td>0.038950</td>\n",
       "      <td>0.114610</td>\n",
       "      <td>0.177017</td>\n",
       "      <td>0.258339</td>\n",
       "      <td>0.407022</td>\n",
       "      <td>0.039767</td>\n",
       "      <td>0.118358</td>\n",
       "      <td>0.182947</td>\n",
       "      <td>0.257871</td>\n",
       "      <td>0.394891</td>\n",
       "      <td>...</td>\n",
       "      <td>0.219392</td>\n",
       "      <td>0.228595</td>\n",
       "      <td>0.229968</td>\n",
       "      <td>0.232377</td>\n",
       "      <td>0.232254</td>\n",
       "      <td>0.995848</td>\n",
       "      <td>1.532444</td>\n",
       "      <td>1.920149</td>\n",
       "      <td>2.540206</td>\n",
       "      <td>2.807383</td>\n",
       "    </tr>\n",
       "    <tr>\n",
       "      <th>75%</th>\n",
       "      <td>0.279632</td>\n",
       "      <td>0.614039</td>\n",
       "      <td>0.847854</td>\n",
       "      <td>1.179283</td>\n",
       "      <td>1.506926</td>\n",
       "      <td>0.322585</td>\n",
       "      <td>0.641990</td>\n",
       "      <td>0.873508</td>\n",
       "      <td>1.179860</td>\n",
       "      <td>1.522211</td>\n",
       "      <td>...</td>\n",
       "      <td>0.345823</td>\n",
       "      <td>0.346467</td>\n",
       "      <td>0.349826</td>\n",
       "      <td>0.353460</td>\n",
       "      <td>0.353950</td>\n",
       "      <td>1.669131</td>\n",
       "      <td>2.435746</td>\n",
       "      <td>3.027564</td>\n",
       "      <td>3.945299</td>\n",
       "      <td>4.378202</td>\n",
       "    </tr>\n",
       "    <tr>\n",
       "      <th>max</th>\n",
       "      <td>3.023346</td>\n",
       "      <td>5.946834</td>\n",
       "      <td>8.225498</td>\n",
       "      <td>11.297416</td>\n",
       "      <td>15.197544</td>\n",
       "      <td>4.136191</td>\n",
       "      <td>6.458668</td>\n",
       "      <td>8.646276</td>\n",
       "      <td>11.641160</td>\n",
       "      <td>15.470122</td>\n",
       "      <td>...</td>\n",
       "      <td>1.915675</td>\n",
       "      <td>1.548096</td>\n",
       "      <td>1.353040</td>\n",
       "      <td>1.153658</td>\n",
       "      <td>1.091648</td>\n",
       "      <td>11.867642</td>\n",
       "      <td>14.210981</td>\n",
       "      <td>16.260093</td>\n",
       "      <td>18.978873</td>\n",
       "      <td>19.339226</td>\n",
       "    </tr>\n",
       "  </tbody>\n",
       "</table>\n",
       "<p>8 rows × 52 columns</p>\n",
       "</div>"
      ],
      "text/plain": [
       "                F1           F2           F3           F4           F5  \\\n",
       "count  3711.000000  3711.000000  3711.000000  3711.000000  3711.000000   \n",
       "mean      0.046389     0.123992     0.197737     0.308083     0.467071   \n",
       "std       0.527764     1.084403     1.504216     2.049238     2.722665   \n",
       "min      -4.393641    -6.269257    -7.200418    -8.298424    -8.810585   \n",
       "25%      -0.187788    -0.343319    -0.463913    -0.600263    -0.686488   \n",
       "50%       0.038950     0.114610     0.177017     0.258339     0.407022   \n",
       "75%       0.279632     0.614039     0.847854     1.179283     1.506926   \n",
       "max       3.023346     5.946834     8.225498    11.297416    15.197544   \n",
       "\n",
       "                F6           F7           F8           F9          F10  \\\n",
       "count  3711.000000  3711.000000  3711.000000  3711.000000  3711.000000   \n",
       "mean      0.044262     0.121866     0.195611     0.305956     0.464944   \n",
       "std       0.620970     1.161142     1.569698     2.103509     2.766170   \n",
       "min      -4.856314    -6.731930    -7.464011    -8.081795    -9.004221   \n",
       "25%      -0.228149    -0.386577    -0.506234    -0.634718    -0.730194   \n",
       "50%       0.039767     0.118358     0.182947     0.257871     0.394891   \n",
       "75%       0.322585     0.641990     0.873508     1.179860     1.522211   \n",
       "max       4.136191     6.458668     8.646276    11.641160    15.470122   \n",
       "\n",
       "          ...               F43          F44          F45          F46  \\\n",
       "count     ...       3711.000000  3711.000000  3711.000000  3711.000000   \n",
       "mean      ...          0.273308     0.273394     0.273469     0.273513   \n",
       "std       ...          0.194034     0.174875     0.167418     0.160193   \n",
       "min       ...          0.032539     0.052552     0.062591     0.072528   \n",
       "25%       ...          0.141209     0.148862     0.150742     0.149875   \n",
       "50%       ...          0.219392     0.228595     0.229968     0.232377   \n",
       "75%       ...          0.345823     0.346467     0.349826     0.353460   \n",
       "max       ...          1.915675     1.548096     1.353040     1.153658   \n",
       "\n",
       "               F47          F48          F49          F50          F51  \\\n",
       "count  3711.000000  3711.000000  3711.000000  3711.000000  3711.000000   \n",
       "mean      0.273487     1.316705     1.962080     2.445780     3.261233   \n",
       "std       0.157894     1.166389     1.603402     1.968386     2.595154   \n",
       "min       0.075739     0.066464     0.130381     0.289132     0.486173   \n",
       "25%       0.149544     0.591842     0.937016     1.165029     1.582028   \n",
       "50%       0.232254     0.995848     1.532444     1.920149     2.540206   \n",
       "75%       0.353950     1.669131     2.435746     3.027564     3.945299   \n",
       "max       1.091648    11.867642    14.210981    16.260093    18.978873   \n",
       "\n",
       "               F52  \n",
       "count  3711.000000  \n",
       "mean      3.630347  \n",
       "std       2.875567  \n",
       "min       0.504710  \n",
       "25%       1.762069  \n",
       "50%       2.807383  \n",
       "75%       4.378202  \n",
       "max      19.339226  \n",
       "\n",
       "[8 rows x 52 columns]"
      ]
     },
     "execution_count": 10,
     "metadata": {},
     "output_type": "execute_result"
    }
   ],
   "source": [
    "X.describe()"
   ]
  },
  {
   "cell_type": "markdown",
   "metadata": {},
   "source": [
    "When we plot histograms for each return label we can see that all the returns are approximately normally distributed aroung 0. We can also see that this stock in particular has a positive skew. This conforms with the upward bias in the stock market."
   ]
  },
  {
   "cell_type": "code",
   "execution_count": 11,
   "metadata": {
    "collapsed": false
   },
   "outputs": [
    {
     "data": {
      "image/png": "[encoded data removed]",
      "text/plain": [
       "<matplotlib.figure.Figure at 0x7f3bb5077898>"
      ]
     },
     "metadata": {},
     "output_type": "display_data"
    }
   ],
   "source": [
    "plt.rcParams['figure.figsize'] = 8, 8\n",
    "y5.hist()\n",
    "plt.xlabel('Return')\n",
    "plt.ylabel('# of samples')\n",
    "plt.title('5 Day Return')\n",
    "plt.show()"
   ]
  },
  {
   "cell_type": "code",
   "execution_count": 12,
   "metadata": {
    "collapsed": false
   },
   "outputs": [
    {
     "data": {
      "image/png": "[encoded data removed]",
      "text/plain": [
       "<matplotlib.figure.Figure at 0x7f3bb4fc8f98>"
      ]
     },
     "metadata": {},
     "output_type": "display_data"
    }
   ],
   "source": [
    "y10.hist()\n",
    "plt.xlabel('Return')\n",
    "plt.ylabel('# of samples')\n",
    "plt.title('10 Day Return')\n",
    "plt.show()"
   ]
  },
  {
   "cell_type": "code",
   "execution_count": 13,
   "metadata": {
    "collapsed": false
   },
   "outputs": [
    {
     "data": {
      "image/png": "[encoded data removed]",
      "text/plain": [
       "<matplotlib.figure.Figure at 0x7f3bb2ee56a0>"
      ]
     },
     "metadata": {},
     "output_type": "display_data"
    }
   ],
   "source": [
    "y15.hist()\n",
    "plt.xlabel('Return')\n",
    "plt.ylabel('# of samples')\n",
    "plt.title('15 Day Return')\n",
    "plt.show()"
   ]
  },
  {
   "cell_type": "code",
   "execution_count": 14,
   "metadata": {
    "collapsed": false
   },
   "outputs": [
    {
     "data": {
      "image/png": "[encoded data removed]",
      "text/plain": [
       "<matplotlib.figure.Figure at 0x7f3bb4f90c18>"
      ]
     },
     "metadata": {},
     "output_type": "display_data"
    }
   ],
   "source": [
    "y20.hist()\n",
    "plt.xlabel('Return')\n",
    "plt.ylabel('# of samples')\n",
    "plt.title('20 Day Return')\n",
    "plt.show()"
   ]
  },
  {
   "cell_type": "code",
   "execution_count": 15,
   "metadata": {
    "collapsed": false
   },
   "outputs": [
    {
     "data": {
      "image/png": "[encoded data removed]",
      "text/plain": [
       "<matplotlib.figure.Figure at 0x7f3bb4fcb748>"
      ]
     },
     "metadata": {},
     "output_type": "display_data"
    }
   ],
   "source": [
    "y25.hist()\n",
    "plt.xlabel('Return')\n",
    "plt.ylabel('# of samples')\n",
    "plt.title('25 Day Return')\n",
    "plt.show()"
   ]
  },
  {
   "cell_type": "code",
   "execution_count": 16,
   "metadata": {
    "collapsed": false
   },
   "outputs": [
    {
     "data": {
      "image/png": "[encoded data removed]",
      "text/plain": [
       "<matplotlib.figure.Figure at 0x7f3bb2e13b38>"
      ]
     },
     "metadata": {},
     "output_type": "display_data"
    }
   ],
   "source": [
    "y30.hist()\n",
    "plt.xlabel('Return')\n",
    "plt.ylabel('# of samples')\n",
    "plt.title('30 Day Return')\n",
    "plt.show()"
   ]
  },
  {
   "cell_type": "code",
   "execution_count": 17,
   "metadata": {
    "collapsed": false
   },
   "outputs": [
    {
     "data": {
      "image/png": "[encoded data removed]",
      "text/plain": [
       "<matplotlib.figure.Figure at 0x7f3bb2e63f60>"
      ]
     },
     "metadata": {},
     "output_type": "display_data"
    }
   ],
   "source": [
    "plt.rcParams['figure.figsize'] = 15, 8\n",
    "fig, axes = plt.subplots(2,3, sharex=False, sharey=False)\n",
    "\n",
    "axes[0,0].hist(y5)\n",
    "axes[0,0].set_title('5 Day Return', fontsize=15)\n",
    "\n",
    "axes[0,1].hist(y10)\n",
    "axes[0,1].set_title('10 Day Return', fontsize=15)\n",
    "\n",
    "axes[0,2].hist(y15)\n",
    "axes[0,2].set_title('15 Day Return', fontsize=15)\n",
    "\n",
    "axes[1,0].hist(y20)\n",
    "axes[1,0].set_title('20 Day Return', fontsize=15)\n",
    "\n",
    "axes[1,1].hist(y25)\n",
    "axes[1,1].set_title('25 Day Return', fontsize=15)\n",
    "\n",
    "axes[1,2].hist(y30)\n",
    "axes[1,2].set_title('30 Day Return', fontsize=15)\n",
    "\n",
    "plt.subplots_adjust(wspace=0.5, hspace=0.5)"
   ]
  },
  {
   "cell_type": "markdown",
   "metadata": {},
   "source": [
    "### Phase 1\n",
    "In the first phase of model building we will start with the simplest label grouping. We will separate our labels into either positive, or negative returns. This will give us two classes with approximately equal class distributions."
   ]
  },
  {
   "cell_type": "code",
   "execution_count": 18,
   "metadata": {
    "collapsed": true
   },
   "outputs": [],
   "source": [
    "y5.columns = ['RET']\n",
    "y10.columns = ['RET']\n",
    "y15.columns = ['RET']\n",
    "y20.columns = ['RET']\n",
    "y25.columns = ['RET']\n",
    "y30.columns = ['RET']"
   ]
  },
  {
   "cell_type": "code",
   "execution_count": 19,
   "metadata": {
    "collapsed": true
   },
   "outputs": [],
   "source": [
    "def binary_class(row):\n",
    "    if row < 0.00:\n",
    "        return 0\n",
    "    else:\n",
    "        return 1"
   ]
  },
  {
   "cell_type": "code",
   "execution_count": 20,
   "metadata": {
    "collapsed": false
   },
   "outputs": [],
   "source": [
    "y5_b = pd.Series(index=y5.index)\n",
    "y10_b = pd.Series(index=y5.index)\n",
    "y15_b = pd.Series(index=y5.index)\n",
    "y20_b = pd.Series(index=y5.index)\n",
    "y25_b = pd.Series(index=y5.index)\n",
    "y30_b = pd.Series(index=y5.index)\n",
    "\n",
    "y5_b = y5.apply(binary_class)\n",
    "y10_b = y10.apply(binary_class)\n",
    "y15_b = y15.apply(binary_class)\n",
    "y20_b = y20.apply(binary_class)\n",
    "y25_b = y25.apply(binary_class)\n",
    "y30_b = y30.apply(binary_class)"
   ]
  },
  {
   "cell_type": "code",
   "execution_count": 21,
   "metadata": {
    "collapsed": true
   },
   "outputs": [],
   "source": [
    "yt5.columns = ['RET']\n",
    "yt10.columns = ['RET']\n",
    "yt15.columns = ['RET']\n",
    "yt20.columns = ['RET']\n",
    "yt25.columns = ['RET']\n",
    "yt30.columns = ['RET']\n",
    "\n",
    "yt5_b = pd.Series(index=yt5.index)\n",
    "yt10_b = pd.Series(index=yt5.index)\n",
    "yt15_b = pd.Series(index=yt5.index)\n",
    "yt20_b = pd.Series(index=yt5.index)\n",
    "yt25_b = pd.Series(index=yt5.index)\n",
    "yt30_b = pd.Series(index=yt5.index)\n",
    "\n",
    "yt5_b = yt5.apply(binary_class)\n",
    "yt10_b = yt10.apply(binary_class)\n",
    "yt15_b = yt15.apply(binary_class)\n",
    "yt20_b = yt20.apply(binary_class)\n",
    "yt25_b = yt25.apply(binary_class)\n",
    "yt30_b = yt30.apply(binary_class)"
   ]
  },
  {
   "cell_type": "code",
   "execution_count": 22,
   "metadata": {
    "collapsed": true
   },
   "outputs": [],
   "source": [
    "plt.rcParams['figure.figsize'] = 8, 8"
   ]
  },
  {
   "cell_type": "markdown",
   "metadata": {},
   "source": [
    "Looking at the binary classification results, we can see that separating the class labels based on negative and positive returns, gives us an approximately equal distribution for each class."
   ]
  },
  {
   "cell_type": "code",
   "execution_count": 23,
   "metadata": {
    "collapsed": false
   },
   "outputs": [
    {
     "data": {
      "image/png": "[encoded data removed]",
      "text/plain": [
       "<matplotlib.figure.Figure at 0x7f3bb4f84be0>"
      ]
     },
     "metadata": {},
     "output_type": "display_data"
    }
   ],
   "source": [
    "y5_b.hist()\n",
    "plt.xlabel('Negative or Positive Return')\n",
    "plt.ylabel('# of samples')\n",
    "plt.title('Binary Classification')\n",
    "plt.show()"
   ]
  },
  {
   "cell_type": "markdown",
   "metadata": {},
   "source": [
    "### Phase 2\n",
    "In this phase we will increase the number of boundaries from one to two. From a trading standpoint, we want to stay away from trades that return close to 0% return. We do want to identify trades that have substantial return.\n",
    "\n",
    "We can define substantial return as > 2% or 0.02 or < -2% or -0.02\n",
    "Class boundaries:\n",
    "label 0: <=-0.02\n",
    "label 1: >-0.02 and < 0.02\n",
    "label 2: >= 0.02\n",
    "\n",
    "Another way to find out what the boundary should be is to look at the class distributions that result from a particular boundary. The boundary can then be changed to ensure that the distribution becomes approximately equal for all classes. You may find that you have to use different boundaries for different returns."
   ]
  },
  {
   "cell_type": "code",
   "execution_count": 24,
   "metadata": {
    "collapsed": true
   },
   "outputs": [],
   "source": [
    "def update_return_class(row, neg_cutoff, pos_cutoff):\n",
    "    if row <= neg_cutoff:\n",
    "        return 0\n",
    "    elif row > neg_cutoff and row < pos_cutoff:\n",
    "        return 1\n",
    "    elif row >= pos_cutoff:\n",
    "        return 2"
   ]
  },
  {
   "cell_type": "code",
   "execution_count": 25,
   "metadata": {
    "collapsed": false
   },
   "outputs": [],
   "source": [
    "y5_t = pd.Series(index=y5.index)\n",
    "y10_t = pd.Series(index=y5.index)\n",
    "y15_t = pd.Series(index=y5.index)\n",
    "y20_t = pd.Series(index=y5.index)\n",
    "y25_t = pd.Series(index=y5.index)\n",
    "y30_t = pd.Series(index=y5.index)\n",
    "\n",
    "y5_t = y5.apply(update_return_class, args=(-0.02, 0.02))\n",
    "y10_t = y10.apply(update_return_class, args=(-0.03, 0.03))\n",
    "y15_t = y15.apply(update_return_class, args=(-0.05, 0.05))\n",
    "y20_t = y20.apply(update_return_class, args=(-0.05, 0.05))\n",
    "y25_t = y25.apply(update_return_class, args=(-0.05, 0.07))\n",
    "y30_t = y30.apply(update_return_class, args=(-0.05, 0.08))"
   ]
  },
  {
   "cell_type": "code",
   "execution_count": 26,
   "metadata": {
    "collapsed": true
   },
   "outputs": [],
   "source": [
    "yt5_t = pd.Series(index=yt5.index)\n",
    "yt10_t = pd.Series(index=yt5.index)\n",
    "yt15_t = pd.Series(index=yt5.index)\n",
    "yt20_t = pd.Series(index=yt5.index)\n",
    "yt25_t = pd.Series(index=yt5.index)\n",
    "yt30_t = pd.Series(index=yt5.index)\n",
    "\n",
    "yt5_t = yt5.apply(update_return_class, args=(-0.02, 0.02))\n",
    "yt10_t = yt10.apply(update_return_class, args=(-0.03, 0.03))\n",
    "yt15_t = yt15.apply(update_return_class, args=(-0.05, 0.05))\n",
    "yt20_t = yt20.apply(update_return_class, args=(-0.05, 0.05))\n",
    "yt25_t = yt25.apply(update_return_class, args=(-0.05, 0.07))\n",
    "yt30_t = yt30.apply(update_return_class, args=(-0.05, 0.08))"
   ]
  },
  {
   "cell_type": "code",
   "execution_count": 27,
   "metadata": {
    "collapsed": false
   },
   "outputs": [
    {
     "data": {
      "image/png": "[encoded data removed]",
      "text/plain": [
       "<matplotlib.figure.Figure at 0x7f3bb2720198>"
      ]
     },
     "metadata": {},
     "output_type": "display_data"
    }
   ],
   "source": [
    "y5_t.hist()\n",
    "plt.xlabel('Trinary Classification Return')\n",
    "plt.ylabel('# of samples')\n",
    "plt.title('5 Day Return')\n",
    "plt.show()"
   ]
  },
  {
   "cell_type": "code",
   "execution_count": 28,
   "metadata": {
    "collapsed": false
   },
   "outputs": [
    {
     "data": {
      "image/png": "[encoded data removed]",
      "text/plain": [
       "<matplotlib.figure.Figure at 0x7f3bb2b1b8d0>"
      ]
     },
     "metadata": {},
     "output_type": "display_data"
    }
   ],
   "source": [
    "y10_t.hist()\n",
    "plt.xlabel('Trinary Classification Return')\n",
    "plt.ylabel('# of samples')\n",
    "plt.title('10 Day Return')\n",
    "plt.show()"
   ]
  },
  {
   "cell_type": "code",
   "execution_count": 29,
   "metadata": {
    "collapsed": false
   },
   "outputs": [
    {
     "data": {
      "image/png": "[encoded data removed]",
      "text/plain": [
       "<matplotlib.figure.Figure at 0x7f3bb2e35668>"
      ]
     },
     "metadata": {},
     "output_type": "display_data"
    }
   ],
   "source": [
    "y15_t.hist()\n",
    "plt.xlabel('Trinary Classification Return')\n",
    "plt.ylabel('# of samples')\n",
    "plt.title('15 Day Return')\n",
    "plt.show()"
   ]
  },
  {
   "cell_type": "code",
   "execution_count": 30,
   "metadata": {
    "collapsed": false
   },
   "outputs": [
    {
     "data": {
      "image/png": "[encoded data removed]",
      "text/plain": [
       "<matplotlib.figure.Figure at 0x7f3bb2e711d0>"
      ]
     },
     "metadata": {},
     "output_type": "display_data"
    }
   ],
   "source": [
    "y20_t.hist()\n",
    "plt.xlabel('Trinary Classification Return')\n",
    "plt.ylabel('# of samples')\n",
    "plt.title('20 Day Return')\n",
    "plt.show()"
   ]
  },
  {
   "cell_type": "code",
   "execution_count": 31,
   "metadata": {
    "collapsed": false
   },
   "outputs": [
    {
     "data": {
      "image/png": "[encoded data removed]",
      "text/plain": [
       "<matplotlib.figure.Figure at 0x7f3bb2e1fbe0>"
      ]
     },
     "metadata": {},
     "output_type": "display_data"
    }
   ],
   "source": [
    "y25_t.hist()\n",
    "plt.xlabel('Trinary Classification Return')\n",
    "plt.ylabel('# of samples')\n",
    "plt.title('25 Day Return')\n",
    "plt.show()"
   ]
  },
  {
   "cell_type": "code",
   "execution_count": 32,
   "metadata": {
    "collapsed": false
   },
   "outputs": [
    {
     "data": {
      "image/png": "[encoded data removed]",
      "text/plain": [
       "<matplotlib.figure.Figure at 0x7f3bb2754f60>"
      ]
     },
     "metadata": {},
     "output_type": "display_data"
    }
   ],
   "source": [
    "y30_t.hist()\n",
    "plt.xlabel('Trinary Classification Return')\n",
    "plt.ylabel('# of samples')\n",
    "plt.title('30 Day Return')\n",
    "plt.show()"
   ]
  },
  {
   "cell_type": "code",
   "execution_count": 33,
   "metadata": {
    "collapsed": false
   },
   "outputs": [
    {
     "data": {
      "image/png": "[encoded data removed]",
      "text/plain": [
       "<matplotlib.figure.Figure at 0x7f3bb2aabf28>"
      ]
     },
     "metadata": {},
     "output_type": "display_data"
    }
   ],
   "source": [
    "plt.rcParams['figure.figsize'] = 15, 8\n",
    "fig, axes = plt.subplots(2,3, sharex=False, sharey=False)\n",
    "\n",
    "axes[0,0].hist(y5_t)\n",
    "axes[0,0].set_title('5 Day Return', fontsize=15)\n",
    "\n",
    "axes[0,1].hist(y10_t)\n",
    "axes[0,1].set_title('10 Day Return', fontsize=15)\n",
    "\n",
    "axes[0,2].hist(y15_t)\n",
    "axes[0,2].set_title('15 Day Return', fontsize=15)\n",
    "\n",
    "axes[1,0].hist(y20_t)\n",
    "axes[1,0].set_title('20 Day Return', fontsize=15)\n",
    "\n",
    "axes[1,1].hist(y25_t)\n",
    "axes[1,1].set_title('25 Day Return', fontsize=15)\n",
    "\n",
    "axes[1,2].hist(y30_t)\n",
    "axes[1,2].set_title('30 Day Return', fontsize=15)\n",
    "\n",
    "plt.subplots_adjust(wspace=0.5, hspace=0.5)"
   ]
  },
  {
   "cell_type": "markdown",
   "metadata": {},
   "source": [
    "### Testing and Validation Strategy\n",
    "We will be using multi-pronged testing strategy\n",
    "1) Use k-fold cross-validation\n",
    "2) Use continuous samples as training data and test on future data\n",
    "3) Use sliding window continuous training and test data"
   ]
  },
  {
   "cell_type": "code",
   "execution_count": 240,
   "metadata": {
    "collapsed": false
   },
   "outputs": [],
   "source": [
    "validation_size = 0.20\n",
    "seed = 7\n",
    "\n",
    "#X = data.loc[:,'F1':'F52']\n",
    "#X = data.loc[:,['F20','F22','F26','F29','F30','F32','F35','F36','F37','F38','F39','F40','F41','F42']]\n",
    "X = data.loc[:,['F20','F22','F35','F36','F37','F38','F39','F40','F41','F42','F46','F47','F51','F52']]\n",
    "X5b_train, X5b_test, Y5b_train, Y5b_test = cross_validation.train_test_split(X, y5_b, test_size=validation_size, \n",
    "                                                                                 random_state=seed)\n",
    "X10b_train, X10b_test, Y10b_train, Y10b_test = cross_validation.train_test_split(X, y10_b, test_size=validation_size, \n",
    "                                                                                 random_state=seed)\n",
    "X15b_train, X15b_test, Y15b_train, Y15b_test = cross_validation.train_test_split(X, y15_b, test_size=validation_size, \n",
    "                                                                                 random_state=seed)\n",
    "X20b_train, X20b_test, Y20b_train, Y20b_test = cross_validation.train_test_split(X, y20_b, test_size=validation_size, \n",
    "                                                                                 random_state=seed)\n",
    "X25b_train, X25b_test, Y25b_train, Y25b_test = cross_validation.train_test_split(X, y25_b, test_size=validation_size, \n",
    "                                                                                 random_state=seed)\n",
    "X30b_train, X30b_test, Y30b_train, Y30b_test = cross_validation.train_test_split(X, y30_b, test_size=validation_size, \n",
    "                                                                                 random_state=seed)\n",
    "\n",
    "X5t_train, X5t_test, Y5t_train, Y5t_test = cross_validation.train_test_split(X, y5_t, test_size=validation_size, \n",
    "                                                                                 random_state=seed)\n",
    "X10t_train, X10t_test, Y10t_train, Y10t_test = cross_validation.train_test_split(X, y10_t, test_size=validation_size, \n",
    "                                                                                 random_state=seed)\n",
    "X15t_train, X15t_test, Y15t_train, Y15t_test = cross_validation.train_test_split(X, y15_t, test_size=validation_size, \n",
    "                                                                                 random_state=seed)\n",
    "X20t_train, X20t_test, Y20t_train, Y20t_test = cross_validation.train_test_split(X, y20_t, test_size=validation_size, \n",
    "                                                                                 random_state=seed)\n",
    "X25t_train, X25t_test, Y25t_train, Y25t_test = cross_validation.train_test_split(X, y25_t, test_size=validation_size, \n",
    "                                                                                 random_state=seed)\n",
    "X30t_train, X30t_test, Y30t_train, Y30t_test = cross_validation.train_test_split(X, y30_t, test_size=validation_size, \n",
    "                                                                                 random_state=seed)"
   ]
  },
  {
   "cell_type": "code",
   "execution_count": 241,
   "metadata": {
    "collapsed": false
   },
   "outputs": [],
   "source": [
    "# Evaluate Algorithms\n",
    "# Test options and evaluation metric\n",
    "num_folds = 10\n",
    "num_instances = len(X10b_train)\n",
    "seed = 7\n",
    "scoring = 'accuracy'"
   ]
  },
  {
   "cell_type": "code",
   "execution_count": 242,
   "metadata": {
    "collapsed": false
   },
   "outputs": [
    {
     "data": {
      "image/png": "[encoded data removed]",
      "text/plain": [
       "<matplotlib.figure.Figure at 0x7f3bb5056518>"
      ]
     },
     "metadata": {},
     "output_type": "display_data"
    }
   ],
   "source": [
    "xgb = XGBClassifier()\n",
    "xgb.fit(X10b_train, Y10b_train)\n",
    "Y_pred = xgb.predict(X10b_test)\n",
    "plot_importance(xgb)\n",
    "plt.show()"
   ]
  },
  {
   "cell_type": "code",
   "execution_count": 243,
   "metadata": {
    "collapsed": true
   },
   "outputs": [],
   "source": [
    "rf = RandomForestClassifier()\n",
    "et = ExtraTreesClassifier()\n",
    "xgb = XGBClassifier()\n",
    "gbc = GradientBoostingClassifier()\n",
    "\n",
    "stdsc5b = StandardScaler()\n",
    "stdsc10b = StandardScaler()\n",
    "stdsc15b = StandardScaler()\n",
    "stdsc20b = StandardScaler()\n",
    "stdsc25b = StandardScaler()\n",
    "stdsc30b = StandardScaler()\n",
    "\n",
    "X5b_train_std = stdsc5b.fit_transform(X5b_train)\n",
    "X5b_test_std = stdsc5b.transform(X5b_test)\n",
    "\n",
    "X10b_train_std = stdsc10b.fit_transform(X10b_train)\n",
    "X10b_test_std = stdsc10b.transform(X10b_test)\n",
    "\n",
    "X15b_train_std = stdsc15b.fit_transform(X15b_train)\n",
    "X15b_test_std = stdsc15b.transform(X15b_test)\n",
    "\n",
    "X20b_train_std = stdsc20b.fit_transform(X20b_train)\n",
    "X20b_test_std = stdsc20b.transform(X20b_test)\n",
    "\n",
    "X25b_train_std = stdsc25b.fit_transform(X25b_train)\n",
    "X25b_test_std = stdsc25b.transform(X25b_test)\n",
    "\n",
    "X30b_train_std = stdsc30b.fit_transform(X30b_train)\n",
    "X30b_test_std = stdsc30b.transform(X30b_test)\n",
    "\n",
    "stdsc5t = StandardScaler()\n",
    "stdsc10t = StandardScaler()\n",
    "stdsc15t = StandardScaler()\n",
    "stdsc20t = StandardScaler()\n",
    "stdsc25t = StandardScaler()\n",
    "stdsc30t = StandardScaler()\n",
    "\n",
    "X5t_train_std = stdsc5t.fit_transform(X5t_train)\n",
    "X5t_test_std = stdsc5t.transform(X5t_test)\n",
    "\n",
    "X10t_train_std = stdsc10t.fit_transform(X10t_train)\n",
    "X10t_test_std = stdsc10t.transform(X10t_test)\n",
    "\n",
    "X15t_train_std = stdsc15t.fit_transform(X15t_train)\n",
    "X15t_test_std = stdsc15t.transform(X15t_test)\n",
    "\n",
    "X20t_train_std = stdsc20t.fit_transform(X20t_train)\n",
    "X20t_test_std = stdsc20t.transform(X20t_test)\n",
    "\n",
    "X25t_train_std = stdsc25t.fit_transform(X25t_train)\n",
    "X25t_test_std = stdsc25t.transform(X25t_test)\n",
    "\n",
    "X30t_train_std = stdsc30t.fit_transform(X30t_train)\n",
    "X30t_test_std = stdsc30t.transform(X30t_test)"
   ]
  },
  {
   "cell_type": "code",
   "execution_count": 292,
   "metadata": {
    "collapsed": false
   },
   "outputs": [
    {
     "data": {
      "text/plain": [
       "RFE(estimator=ExtraTreesClassifier(bootstrap=False, class_weight=None, criterion='gini',\n",
       "           max_depth=None, max_features='auto', max_leaf_nodes=None,\n",
       "           min_samples_leaf=1, min_samples_split=2,\n",
       "           min_weight_fraction_leaf=0.0, n_estimators=10, n_jobs=1,\n",
       "           oob_score=False, random_state=None, verbose=0, warm_start=False),\n",
       "  estimator_params=None, n_features_to_select=None, step=1, verbose=0)"
      ]
     },
     "execution_count": 292,
     "metadata": {},
     "output_type": "execute_result"
    }
   ],
   "source": [
    "xtrain = X5t_train_std\n",
    "ytrain = Y5t_train\n",
    "rfecv = RFECV(estimator=et, step=1, cv=StratifiedKFold(ytrain, n_folds=10, random_state=seed), scoring='accuracy')\n",
    "rfecv.fit(xtrain,ytrain)\n",
    "rfe = RFE(estimator=et, step=1)\n",
    "rfe.fit(xtrain,ytrain)"
   ]
  },
  {
   "cell_type": "code",
   "execution_count": 293,
   "metadata": {
    "collapsed": false
   },
   "outputs": [
    {
     "name": "stdout",
     "output_type": "stream",
     "text": [
      "# of selected features with CV: 5\n",
      "Mask of selected features with CV: [ True False False False False  True False  True  True  True False False\n",
      " False False]\n",
      "Selected features ranking: [ 1  2  5  9  3  1  6  1  1  1 10  7  8  4]\n",
      "CV scores: [ 0.36896143  0.57680337  0.62129569  0.63947996  0.65126798  0.64824784\n",
      "  0.64589085  0.65023514  0.63949357  0.63648026  0.63881218  0.64354081\n",
      "  0.64857883  0.63173127]\n"
     ]
    }
   ],
   "source": [
    "print('# of selected features with CV: %i' %rfecv.n_features_)\n",
    "print('Mask of selected features with CV: %s' %rfecv.support_)\n",
    "print('Selected features ranking: %s' %rfecv.ranking_)\n",
    "print('CV scores: %s' %rfecv.grid_scores_)"
   ]
  },
  {
   "cell_type": "code",
   "execution_count": 294,
   "metadata": {
    "collapsed": false
   },
   "outputs": [
    {
     "name": "stdout",
     "output_type": "stream",
     "text": [
      "Original number of features is 14\n",
      "RFE final number of features : 7\n",
      "RFECV final number of features : 5\n",
      "\n",
      "Printing RFECV results:\n",
      "1. Number of features: 5; Grid_Score: 0.651268\n",
      "2. Number of features: 8; Grid_Score: 0.650235\n",
      "3. Number of features: 13; Grid_Score: 0.648579\n",
      "4. Number of features: 6; Grid_Score: 0.648248\n",
      "5. Number of features: 7; Grid_Score: 0.645891\n",
      "6. Number of features: 12; Grid_Score: 0.643541\n",
      "7. Number of features: 9; Grid_Score: 0.639494\n",
      "8. Number of features: 4; Grid_Score: 0.639480\n",
      "9. Number of features: 11; Grid_Score: 0.638812\n",
      "10. Number of features: 10; Grid_Score: 0.636480\n",
      "11. Number of features: 14; Grid_Score: 0.631731\n",
      "12. Number of features: 3; Grid_Score: 0.621296\n",
      "13. Number of features: 2; Grid_Score: 0.576803\n",
      "14. Number of features: 1; Grid_Score: 0.368961\n"
     ]
    }
   ],
   "source": [
    "print('Original number of features is %s' % X.shape[1])\n",
    "print(\"RFE final number of features : %d\" % rfe.n_features_)\n",
    "print(\"RFECV final number of features : %d\" % rfecv.n_features_)\n",
    "print('')\n",
    "\n",
    "import numpy as np\n",
    "g_scores = rfecv.grid_scores_\n",
    "indices = np.argsort(g_scores)[::-1]\n",
    "print('Printing RFECV results:')\n",
    "for f in range(X.shape[1]):\n",
    "    print(\"%d. Number of features: %d; Grid_Score: %f\" % (f + 1, indices[f]+1, g_scores[indices[f]]))"
   ]
  },
  {
   "cell_type": "code",
   "execution_count": 295,
   "metadata": {
    "collapsed": false
   },
   "outputs": [
    {
     "data": {
      "image/png": "[encoded data removed]",
      "text/plain": [
       "<matplotlib.figure.Figure at 0x7f3bb2b985f8>"
      ]
     },
     "metadata": {},
     "output_type": "display_data"
    }
   ],
   "source": [
    "plt.rcParams['figure.figsize'] = 10, 8\n",
    "plt.xlabel(\"Number of features selected\")\n",
    "plt.ylabel(\"RFE Cross validation score (nb of correct classifications)\")\n",
    "plt.plot(range(1, len(rfecv.grid_scores_) + 1), rfecv.grid_scores_)\n",
    "plt.show()"
   ]
  },
  {
   "cell_type": "code",
   "execution_count": 296,
   "metadata": {
    "collapsed": false
   },
   "outputs": [
    {
     "name": "stdout",
     "output_type": "stream",
     "text": [
      "[ 1  2  5  9  3  1  6  1  1  1 10  7  8  4]\n"
     ]
    }
   ],
   "source": [
    "print(rfecv.ranking_)"
   ]
  },
  {
   "cell_type": "code",
   "execution_count": 297,
   "metadata": {
    "collapsed": false
   },
   "outputs": [
    {
     "name": "stdout",
     "output_type": "stream",
     "text": [
      "[ True False False False False  True False  True  True  True False False\n",
      " False False]\n"
     ]
    }
   ],
   "source": [
    "print(rfecv.support_)"
   ]
  },
  {
   "cell_type": "code",
   "execution_count": 298,
   "metadata": {
    "collapsed": false
   },
   "outputs": [
    {
     "name": "stdout",
     "output_type": "stream",
     "text": [
      "5\n"
     ]
    }
   ],
   "source": [
    "print(rfecv.n_features_)"
   ]
  },
  {
   "cell_type": "code",
   "execution_count": 299,
   "metadata": {
    "collapsed": false
   },
   "outputs": [
    {
     "name": "stdout",
     "output_type": "stream",
     "text": [
      "F20\n",
      "F38\n",
      "F40\n",
      "F41\n",
      "F42\n"
     ]
    }
   ],
   "source": [
    "for selected, feature in zip(rfecv.support_, X.columns):\n",
    "    if selected == True:\n",
    "        print(feature)"
   ]
  },
  {
   "cell_type": "code",
   "execution_count": 142,
   "metadata": {
    "collapsed": false
   },
   "outputs": [
    {
     "name": "stdout",
     "output_type": "stream",
     "text": [
      "Original number of features is 14\n",
      "RFECV final number of features : 12\n",
      "\n",
      "Printing RFECV results:\n",
      "1. Number of features: 12; Grid_Score: 0.838212\n",
      "2. Number of features: 6; Grid_Score: 0.837871\n",
      "3. Number of features: 9; Grid_Score: 0.837535\n",
      "4. Number of features: 5; Grid_Score: 0.834533\n",
      "5. Number of features: 7; Grid_Score: 0.833538\n",
      "6. Number of features: 13; Grid_Score: 0.832144\n",
      "7. Number of features: 10; Grid_Score: 0.831487\n",
      "8. Number of features: 8; Grid_Score: 0.829458\n",
      "9. Number of features: 11; Grid_Score: 0.828783\n",
      "10. Number of features: 14; Grid_Score: 0.818687\n",
      "11. Number of features: 4; Grid_Score: 0.817353\n",
      "12. Number of features: 3; Grid_Score: 0.800455\n",
      "13. Number of features: 2; Grid_Score: 0.756647\n",
      "14. Number of features: 1; Grid_Score: 0.410194\n"
     ]
    },
    {
     "data": {
      "image/png": "[encoded data removed]",
      "text/plain": [
       "<matplotlib.figure.Figure at 0x7f03571cada0>"
      ]
     },
     "metadata": {},
     "output_type": "display_data"
    },
    {
     "name": "stdout",
     "output_type": "stream",
     "text": [
      "F20\n",
      "F22\n",
      "F26\n",
      "F30\n",
      "F32\n",
      "F36\n",
      "F37\n",
      "F38\n",
      "F39\n",
      "F40\n",
      "F41\n",
      "F42\n"
     ]
    }
   ],
   "source": [
    "#stdsct10b = StandardScaler()\n",
    "#stdsct10t = StandardScaler()\n",
    "\n",
    "X1 = data1.loc[:,['F20','F22','F26','F29','F30','F32','F35','F36','F37','F38','F39','F40','F41','F42']]\n",
    "\n",
    "Xt10b_train, Xt10b_test, Yt10b_train, Yt10b_test = cross_validation.train_test_split(X1, yt10_b, test_size=validation_size, \n",
    "                                                                                 random_state=seed)\n",
    "\n",
    "Xt10t_train, Xt10t_test, Yt10t_train, Yt10t_test = cross_validation.train_test_split(X1, yt10_t, test_size=validation_size, \n",
    "                                                                                 random_state=seed)\n",
    "\n",
    "Xt15t_train, Xt15t_test, Yt15t_train, Yt15t_test = cross_validation.train_test_split(X1, yt15_t, test_size=validation_size, \n",
    "                                                                                 random_state=seed)\n",
    "\n",
    "Xt20t_train, Xt20t_test, Yt20t_train, Yt20t_test = cross_validation.train_test_split(X1, yt20_t, test_size=validation_size, \n",
    "                                                                                 random_state=seed)\n",
    "\n",
    "Xt10b_std = stdsc10b.transform(Xt10b_train)\n",
    "Xt10t_std = stdsc10t.transform(Xt10t_train)\n",
    "Xt15t_std = stdsc15t.transform(Xt15t_train)\n",
    "Xt20t_std = stdsc20t.transform(Xt20t_train)\n",
    "\n",
    "xtrain = Xt20t_std\n",
    "ytrain = Yt20t_train\n",
    "\n",
    "#yt10_b\n",
    "rfecv1 = RFECV(estimator=et, step=1, cv=StratifiedKFold(ytrain, n_folds=10, random_state=seed), scoring='accuracy')\n",
    "#rfecv1.fit(X110b,yt10_t)\n",
    "rfecv1.fit(xtrain,ytrain)\n",
    "#rfecv1.fit(X10t_train_std,Y10t_train)\n",
    "\n",
    "print('Original number of features is %s' % X1.shape[1])\n",
    "#print(\"RFE final number of features : %d\" % rfe.n_features_)\n",
    "print(\"RFECV final number of features : %d\" % rfecv1.n_features_)\n",
    "print('')\n",
    "\n",
    "import numpy as np\n",
    "g_scores = rfecv1.grid_scores_\n",
    "indices = np.argsort(g_scores)[::-1]\n",
    "print('Printing RFECV results:')\n",
    "for f in range(X.shape[1]):\n",
    "    print(\"%d. Number of features: %d; Grid_Score: %f\" % (f + 1, indices[f]+1, g_scores[indices[f]]))\n",
    "\n",
    "plt.rcParams['figure.figsize'] = 10, 8\n",
    "plt.xlabel(\"Number of features selected\")\n",
    "plt.ylabel(\"RFE Cross validation score (nb of correct classifications)\")\n",
    "plt.plot(range(1, len(rfecv1.grid_scores_) + 1), rfecv1.grid_scores_)\n",
    "plt.show()\n",
    "\n",
    "\n",
    "for selected, feature in zip(rfecv1.support_, X1.columns):\n",
    "    if selected == True:\n",
    "        print(feature)"
   ]
  },
  {
   "cell_type": "code",
   "execution_count": null,
   "metadata": {
    "collapsed": false
   },
   "outputs": [],
   "source": [
    "# ensembles\n",
    "ensembles = []\n",
    "ensembles.append(('ScaledAB', Pipeline([('Scaler', StandardScaler()),('AB', AdaBoostClassifier())])))\n",
    "ensembles.append(('ScaledGBM', Pipeline([('Scaler', StandardScaler()),('GBM', GradientBoostingClassifier())])))\n",
    "ensembles.append(('ScaledRF', Pipeline([('Scaler', StandardScaler()),('RF', RandomForestClassifier())])))\n",
    "ensembles.append(('ScaledET', Pipeline([('Scaler', StandardScaler()),('ET', ExtraTreesClassifier())])))\n",
    "ensembles.append(('ScaledXGB', Pipeline([('Scaler', StandardScaler()),('XGB', XGBClassifier())])))\n",
    "results = []\n",
    "names = []\n",
    "kfold = cross_validation.KFold(n=num_instances, n_folds=num_folds, random_state=seed)\n",
    "for name, model in ensembles:\n",
    "    cv_results = cross_validation.cross_val_score(model, X_train, Y_train, cv=kfold, scoring=scoring)\n",
    "    results.append(cv_results)\n",
    "    names.append(name)\n",
    "    msg = \"%s: %f (%f)\" % (name, cv_results.mean(), cv_results.std())\n",
    "    print(msg)"
   ]
  },
  {
   "cell_type": "code",
   "execution_count": null,
   "metadata": {
    "collapsed": false
   },
   "outputs": [],
   "source": [
    "plt.figure()\n",
    "model = Pipeline([('Scaler', StandardScaler()),('ET', ExtraTreesClassifier())])\n",
    "train_sizes, train_scores, test_scores = learning_curve(model, X, y5_b, cv=kfold, n_jobs=1, train_sizes=np.linspace(.1,1.0,5))\n",
    "train_scores_mean = np.mean(train_scores, axis=1)\n",
    "train_scores_std = np.std(train_scores, axis=1)\n",
    "test_scores_mean = np.mean(test_scores, axis=1)\n",
    "test_scores_std = np.std(test_scores, axis=1)\n",
    "plt.grid()\n",
    "plt.fill_between(train_sizes, train_scores_mean-train_scores_std, train_scores_mean+train_scores_std, alpha=0.1, color=\"r\")\n",
    "plt.fill_between(train_sizes, test_scores_mean-test_scores_std, test_scores_mean+test_scores_std, alpha=0.1, color=\"g\")\n",
    "plt.plot(train_sizes, train_scores_mean, 'o-', color=\"r\", label=\"Training Score\")\n",
    "plt.plot(train_sizes, test_scores_mean, 'o-', color=\"g\", label=\"Cross-Validation Score\")\n",
    "plt.legend(loc=\"best\")\n",
    "plt.show()"
   ]
  },
  {
   "cell_type": "code",
   "execution_count": 42,
   "metadata": {
    "collapsed": false
   },
   "outputs": [
    {
     "data": {
      "image/png": "[encoded data removed]",
      "text/plain": [
       "<matplotlib.figure.Figure at 0x7f38d845f2b0>"
      ]
     },
     "metadata": {},
     "output_type": "display_data"
    }
   ],
   "source": [
    "stdsc = StandardScaler()\n",
    "X_train_std = stdsc.fit_transform(X10b_train)\n",
    "X_test_std = stdsc.transform(X10b_validation)\n",
    "    \n",
    "et = ExtraTreesClassifier()\n",
    "\n",
    "# selecting features\n",
    "sbs = SBS(et, k_features=5)\n",
    "sbs.fit(X_train_std, Y10b_train)\n",
    "\n",
    "# plotting performance of feature subsets\n",
    "k_feat = [len(k) for k in sbs.subsets_]\n",
    "\n",
    "plt.plot(k_feat, sbs.scores_, marker='o')\n",
    "plt.ylim([0.7, 1.0])\n",
    "plt.ylabel('Accuracy')\n",
    "plt.xlabel('Number of features')\n",
    "plt.grid()\n",
    "plt.tight_layout()\n",
    "# plt.savefig('./sbs.png', dpi=300)\n",
    "plt.show()"
   ]
  },
  {
   "cell_type": "code",
   "execution_count": 179,
   "metadata": {
    "collapsed": false
   },
   "outputs": [
    {
     "ename": "AttributeError",
     "evalue": "'numpy.ndarray' object has no attribute 'columns'",
     "output_type": "error",
     "traceback": [
      "\u001b[0;31m---------------------------------------------------------------------------\u001b[0m",
      "\u001b[0;31mAttributeError\u001b[0m                            Traceback (most recent call last)",
      "\u001b[0;32m<ipython-input-179-169f4f45d001>\u001b[0m in \u001b[0;36m<module>\u001b[0;34m()\u001b[0m\n\u001b[1;32m      1\u001b[0m \u001b[0mk5\u001b[0m \u001b[0;34m=\u001b[0m \u001b[0mlist\u001b[0m\u001b[0;34m(\u001b[0m\u001b[0msbs\u001b[0m\u001b[0;34m.\u001b[0m\u001b[0msubsets_\u001b[0m\u001b[0;34m[\u001b[0m\u001b[0;36m10\u001b[0m\u001b[0;34m]\u001b[0m\u001b[0;34m)\u001b[0m\u001b[0;34m\u001b[0m\u001b[0m\n\u001b[0;32m----> 2\u001b[0;31m \u001b[0mprint\u001b[0m\u001b[0;34m(\u001b[0m\u001b[0mX10b_train_std\u001b[0m\u001b[0;34m.\u001b[0m\u001b[0mcolumns\u001b[0m\u001b[0;34m[\u001b[0m\u001b[0;36m1\u001b[0m\u001b[0;34m:\u001b[0m\u001b[0;34m]\u001b[0m\u001b[0;34m[\u001b[0m\u001b[0mk5\u001b[0m\u001b[0;34m]\u001b[0m\u001b[0;34m)\u001b[0m\u001b[0;34m\u001b[0m\u001b[0m\n\u001b[0m\u001b[1;32m      3\u001b[0m \u001b[0;31m#print(k5)\u001b[0m\u001b[0;34m\u001b[0m\u001b[0;34m\u001b[0m\u001b[0m\n",
      "\u001b[0;31mAttributeError\u001b[0m: 'numpy.ndarray' object has no attribute 'columns'"
     ]
    }
   ],
   "source": [
    "k5 = list(sbs.subsets_[10])\n",
    "print(X10b_train_std.columns[1:][k5])\n",
    "#print(k5)"
   ]
  },
  {
   "cell_type": "code",
   "execution_count": 43,
   "metadata": {
    "collapsed": false
   },
   "outputs": [
    {
     "name": "stdout",
     "output_type": "stream",
     "text": [
      "Training accuracy: 1.0\n",
      "Test accuracy: 0.743243243243\n"
     ]
    }
   ],
   "source": [
    "et.fit(X10b_train_std, Y10b_train)\n",
    "print('Training accuracy:', et.score(X10b_train_std, Y10b_train))\n",
    "print('Test accuracy:', et.score(X10b_test_std, Y10b_validation))"
   ]
  },
  {
   "cell_type": "code",
   "execution_count": 44,
   "metadata": {
    "collapsed": false
   },
   "outputs": [
    {
     "ename": "NameError",
     "evalue": "name 'k5' is not defined",
     "output_type": "error",
     "traceback": [
      "\u001b[0;31m---------------------------------------------------------------------------\u001b[0m",
      "\u001b[0;31mNameError\u001b[0m                                 Traceback (most recent call last)",
      "\u001b[0;32m<ipython-input-44-fda98e29f996>\u001b[0m in \u001b[0;36m<module>\u001b[0;34m()\u001b[0m\n\u001b[0;32m----> 1\u001b[0;31m \u001b[0met\u001b[0m\u001b[0;34m.\u001b[0m\u001b[0mfit\u001b[0m\u001b[0;34m(\u001b[0m\u001b[0mX10b_train_std\u001b[0m\u001b[0;34m[\u001b[0m\u001b[0;34m:\u001b[0m\u001b[0;34m,\u001b[0m \u001b[0mk5\u001b[0m\u001b[0;34m]\u001b[0m\u001b[0;34m,\u001b[0m \u001b[0mY10b_train\u001b[0m\u001b[0;34m)\u001b[0m\u001b[0;34m\u001b[0m\u001b[0m\n\u001b[0m\u001b[1;32m      2\u001b[0m \u001b[0mprint\u001b[0m\u001b[0;34m(\u001b[0m\u001b[0;34m'Training accuracy:'\u001b[0m\u001b[0;34m,\u001b[0m \u001b[0met\u001b[0m\u001b[0;34m.\u001b[0m\u001b[0mscore\u001b[0m\u001b[0;34m(\u001b[0m\u001b[0mX10b_train_std\u001b[0m\u001b[0;34m[\u001b[0m\u001b[0;34m:\u001b[0m\u001b[0;34m,\u001b[0m \u001b[0mk5\u001b[0m\u001b[0;34m]\u001b[0m\u001b[0;34m,\u001b[0m \u001b[0mY10b_train\u001b[0m\u001b[0;34m)\u001b[0m\u001b[0;34m)\u001b[0m\u001b[0;34m\u001b[0m\u001b[0m\n\u001b[1;32m      3\u001b[0m \u001b[0mprint\u001b[0m\u001b[0;34m(\u001b[0m\u001b[0;34m'Test accuracy:'\u001b[0m\u001b[0;34m,\u001b[0m \u001b[0met\u001b[0m\u001b[0;34m.\u001b[0m\u001b[0mscore\u001b[0m\u001b[0;34m(\u001b[0m\u001b[0mX10b_test_std\u001b[0m\u001b[0;34m[\u001b[0m\u001b[0;34m:\u001b[0m\u001b[0;34m,\u001b[0m \u001b[0mk5\u001b[0m\u001b[0;34m]\u001b[0m\u001b[0;34m,\u001b[0m \u001b[0mY10b_validation\u001b[0m\u001b[0;34m)\u001b[0m\u001b[0;34m)\u001b[0m\u001b[0;34m\u001b[0m\u001b[0m\n",
      "\u001b[0;31mNameError\u001b[0m: name 'k5' is not defined"
     ]
    }
   ],
   "source": [
    "et.fit(X10b_train_std[:, k5], Y10b_train)\n",
    "print('Training accuracy:', et.score(X10b_train_std[:, k5], Y10b_train))\n",
    "print('Test accuracy:', et.score(X10b_test_std[:, k5], Y10b_validation))"
   ]
  },
  {
   "cell_type": "code",
   "execution_count": null,
   "metadata": {
    "collapsed": true
   },
   "outputs": [],
   "source": []
  }
 ],
 "metadata": {
  "kernelspec": {
   "display_name": "Python 3",
   "language": "python",
   "name": "python3"
  },
  "language_info": {
   "codemirror_mode": {
    "name": "ipython",
    "version": 3
   },
   "file_extension": ".py",
   "mimetype": "text/x-python",
   "name": "python",
   "nbconvert_exporter": "python",
   "pygments_lexer": "ipython3",
   "version": "3.5.2"
  }
 },
 "nbformat": 4,
 "nbformat_minor": 0
}
