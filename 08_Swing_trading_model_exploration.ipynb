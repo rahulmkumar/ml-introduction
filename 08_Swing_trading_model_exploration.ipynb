{
 "cells": [
  {
   "cell_type": "code",
   "execution_count": 1,
   "metadata": {
    "collapsed": true
   },
   "outputs": [],
   "source": [
    "import time\n",
    "import numpy as np\n",
    "import pandas as pd\n",
    "from sklearn.preprocessing import OneHotEncoder\n",
    "from sklearn.preprocessing import LabelEncoder\n",
    "import matplotlib.pyplot as plt\n",
    "%matplotlib inline \n",
    "plt.rcParams['figure.figsize'] = 16, 12\n",
    "\n",
    "\n",
    "from pandas.tools.plotting import scatter_matrix\n",
    "from sklearn.preprocessing import StandardScaler\n",
    "from sklearn.preprocessing import Normalizer\n",
    "from sklearn.preprocessing import MinMaxScaler\n",
    "from sklearn.preprocessing import Imputer\n",
    "from sklearn import cross_validation\n",
    "from sklearn.cross_validation import StratifiedKFold, KFold\n",
    "from sklearn.metrics import classification_report\n",
    "from sklearn.metrics import confusion_matrix\n",
    "from sklearn.metrics import accuracy_score\n",
    "from sklearn.feature_selection import SelectFromModel\n",
    "from sklearn.feature_selection import RFECV\n",
    "from sklearn.feature_selection import RFE\n",
    "from sklearn.pipeline import Pipeline\n",
    "from sklearn.grid_search import GridSearchCV\n",
    "from sklearn.linear_model import LogisticRegression\n",
    "from sklearn.tree import DecisionTreeClassifier\n",
    "from sklearn.neighbors import KNeighborsClassifier\n",
    "from sklearn.discriminant_analysis import LinearDiscriminantAnalysis\n",
    "from sklearn.naive_bayes import GaussianNB\n",
    "from sklearn.svm import SVC\n",
    "from sklearn.ensemble import AdaBoostClassifier\n",
    "from sklearn.ensemble import GradientBoostingClassifier\n",
    "from sklearn.ensemble import RandomForestClassifier\n",
    "from sklearn.ensemble import ExtraTreesClassifier\n",
    "from xgboost.sklearn import XGBClassifier\n",
    "from xgboost import plot_importance\n",
    "from sklearn.decomposition import PCA\n",
    "\n",
    "from sklearn.learning_curve import learning_curve\n",
    "from sklearn.learning_curve import validation_curve"
   ]
  },
  {
   "cell_type": "code",
   "execution_count": 2,
   "metadata": {
    "collapsed": true
   },
   "outputs": [],
   "source": [
    "def binary_class(row):\n",
    "    if row < 0.00:\n",
    "        return 0\n",
    "    else:\n",
    "        return 1"
   ]
  },
  {
   "cell_type": "code",
   "execution_count": 3,
   "metadata": {
    "collapsed": true
   },
   "outputs": [],
   "source": [
    "def update_return_class(row, neg_cutoff, pos_cutoff):\n",
    "    if row <= neg_cutoff:\n",
    "        return 0\n",
    "    elif row > neg_cutoff and row < pos_cutoff:\n",
    "        return 1\n",
    "    elif row >= pos_cutoff:\n",
    "        return 2"
   ]
  },
  {
   "cell_type": "code",
   "execution_count": 4,
   "metadata": {
    "collapsed": true
   },
   "outputs": [],
   "source": [
    "file = 'data/price_data_68.csv'\n",
    "data = pd.read_csv(file)\n",
    "\n",
    "file1 = 'data/price_data1.csv'\n",
    "data1 = pd.read_csv(file1)\n",
    "\n",
    "file2 = 'data/price_data1.csv'\n",
    "data2 = pd.read_csv(file2)"
   ]
  },
  {
   "cell_type": "code",
   "execution_count": 5,
   "metadata": {
    "collapsed": true
   },
   "outputs": [],
   "source": [
    "del data['Date']\n",
    "del data1['Date']\n",
    "del data2['Date']"
   ]
  },
  {
   "cell_type": "code",
   "execution_count": 6,
   "metadata": {
    "collapsed": true
   },
   "outputs": [],
   "source": [
    "X = data.loc[:,'F1':'F68']\n",
    "y5 = data.loc[:,'RET5']\n",
    "y10 = data.loc[:,'RET10']\n",
    "y15 = data.loc[:,'RET15']\n",
    "y20 = data.loc[:,'RET20']\n",
    "y25 = data.loc[:,'RET25']\n",
    "y30 = data.loc[:,'RET30']\n",
    "\n",
    "X1 = data1.loc[:,'F1':'F42']\n",
    "yt5 = data1.loc[:,'RET5']\n",
    "yt10 = data1.loc[:,'RET10']\n",
    "yt15 = data1.loc[:,'RET15']\n",
    "yt20 = data1.loc[:,'RET20']\n",
    "yt25 = data1.loc[:,'RET25']\n",
    "yt30 = data1.loc[:,'RET30']\n",
    "\n",
    "X1 = data2.loc[:,'F1':'F42']\n",
    "yt5 = data2.loc[:,'RET5']\n",
    "yt10 = data2.loc[:,'RET10']\n",
    "yt15 = data2.loc[:,'RET15']\n",
    "yt20 = data2.loc[:,'RET20']\n",
    "yt25 = data2.loc[:,'RET25']\n",
    "yt30 = data2.loc[:,'RET30']"
   ]
  },
  {
   "cell_type": "code",
   "execution_count": 7,
   "metadata": {
    "collapsed": true
   },
   "outputs": [],
   "source": [
    "y5.columns = ['RET']\n",
    "y10.columns = ['RET']\n",
    "y15.columns = ['RET']\n",
    "y20.columns = ['RET']\n",
    "y25.columns = ['RET']\n",
    "y30.columns = ['RET']"
   ]
  },
  {
   "cell_type": "code",
   "execution_count": 8,
   "metadata": {
    "collapsed": true
   },
   "outputs": [],
   "source": [
    "y5_b = pd.Series(index=y5.index)\n",
    "y10_b = pd.Series(index=y5.index)\n",
    "y15_b = pd.Series(index=y5.index)\n",
    "y20_b = pd.Series(index=y5.index)\n",
    "y25_b = pd.Series(index=y5.index)\n",
    "y30_b = pd.Series(index=y5.index)\n",
    "\n",
    "y5_b = y5.apply(binary_class)\n",
    "y10_b = y10.apply(binary_class)\n",
    "y15_b = y15.apply(binary_class)\n",
    "y20_b = y20.apply(binary_class)\n",
    "y25_b = y25.apply(binary_class)\n",
    "y30_b = y30.apply(binary_class)"
   ]
  },
  {
   "cell_type": "code",
   "execution_count": 9,
   "metadata": {
    "collapsed": true
   },
   "outputs": [],
   "source": [
    "yt5.columns = ['RET']\n",
    "yt10.columns = ['RET']\n",
    "yt15.columns = ['RET']\n",
    "yt20.columns = ['RET']\n",
    "yt25.columns = ['RET']\n",
    "yt30.columns = ['RET']\n",
    "\n",
    "yt5_b = pd.Series(index=yt5.index)\n",
    "yt10_b = pd.Series(index=yt5.index)\n",
    "yt15_b = pd.Series(index=yt5.index)\n",
    "yt20_b = pd.Series(index=yt5.index)\n",
    "yt25_b = pd.Series(index=yt5.index)\n",
    "yt30_b = pd.Series(index=yt5.index)\n",
    "\n",
    "yt5_b = yt5.apply(binary_class)\n",
    "yt10_b = yt10.apply(binary_class)\n",
    "yt15_b = yt15.apply(binary_class)\n",
    "yt20_b = yt20.apply(binary_class)\n",
    "yt25_b = yt25.apply(binary_class)\n",
    "yt30_b = yt30.apply(binary_class)"
   ]
  },
  {
   "cell_type": "code",
   "execution_count": 10,
   "metadata": {
    "collapsed": true
   },
   "outputs": [],
   "source": [
    "y5_t = pd.Series(index=y5.index)\n",
    "y10_t = pd.Series(index=y5.index)\n",
    "y15_t = pd.Series(index=y5.index)\n",
    "y20_t = pd.Series(index=y5.index)\n",
    "y25_t = pd.Series(index=y5.index)\n",
    "y30_t = pd.Series(index=y5.index)\n",
    "\n",
    "y5_t = y5.apply(update_return_class, args=(-0.02, 0.02))\n",
    "y10_t = y10.apply(update_return_class, args=(-0.03, 0.03))\n",
    "y15_t = y15.apply(update_return_class, args=(-0.05, 0.05))\n",
    "y20_t = y20.apply(update_return_class, args=(-0.05, 0.05))\n",
    "y25_t = y25.apply(update_return_class, args=(-0.05, 0.07))\n",
    "y30_t = y30.apply(update_return_class, args=(-0.05, 0.08))"
   ]
  },
  {
   "cell_type": "code",
   "execution_count": 11,
   "metadata": {
    "collapsed": true
   },
   "outputs": [],
   "source": [
    "yt5_t = pd.Series(index=yt5.index)\n",
    "yt10_t = pd.Series(index=yt5.index)\n",
    "yt15_t = pd.Series(index=yt5.index)\n",
    "yt20_t = pd.Series(index=yt5.index)\n",
    "yt25_t = pd.Series(index=yt5.index)\n",
    "yt30_t = pd.Series(index=yt5.index)\n",
    "\n",
    "yt5_t = yt5.apply(update_return_class, args=(-0.02, 0.02))\n",
    "yt10_t = yt10.apply(update_return_class, args=(-0.03, 0.03))\n",
    "yt15_t = yt15.apply(update_return_class, args=(-0.05, 0.05))\n",
    "yt20_t = yt20.apply(update_return_class, args=(-0.05, 0.05))\n",
    "yt25_t = yt25.apply(update_return_class, args=(-0.05, 0.07))\n",
    "yt30_t = yt30.apply(update_return_class, args=(-0.05, 0.08))"
   ]
  },
  {
   "cell_type": "code",
   "execution_count": 18,
   "metadata": {
    "collapsed": true
   },
   "outputs": [],
   "source": [
    "validation_size = 0.20\n",
    "seed = 7\n",
    "\n",
    "#X = data.loc[:,['F20','F22','F26','F29','F30','F32','F35','F36','F37','F38','F39','F40','F41','F42']]\n",
    "X = data.loc[:,['F19','F20','F35','F36','F37','F38','F39','F40','F41','F42','F46','F47','F52','F54','F55','F56','F57','F58','F59','F60','F64','F66','F67','F68']]\n",
    "X5b_train, X5b_test, Y5b_train, Y5b_test = cross_validation.train_test_split(X, y5_b, test_size=validation_size, \n",
    "                                                                                 random_state=seed)\n",
    "X10b_train, X10b_test, Y10b_train, Y10b_test = cross_validation.train_test_split(X, y10_b, test_size=validation_size, \n",
    "                                                                                 random_state=seed)\n",
    "X15b_train, X15b_test, Y15b_train, Y15b_test = cross_validation.train_test_split(X, y15_b, test_size=validation_size, \n",
    "                                                                                 random_state=seed)\n",
    "X20b_train, X20b_test, Y20b_train, Y20b_test = cross_validation.train_test_split(X, y20_b, test_size=validation_size, \n",
    "                                                                                 random_state=seed)\n",
    "X25b_train, X25b_test, Y25b_train, Y25b_test = cross_validation.train_test_split(X, y25_b, test_size=validation_size, \n",
    "                                                                                 random_state=seed)\n",
    "X30b_train, X30b_test, Y30b_train, Y30b_test = cross_validation.train_test_split(X, y30_b, test_size=validation_size, \n",
    "                                                                                 random_state=seed)\n",
    "\n",
    "X5t_train, X5t_test, Y5t_train, Y5t_test = cross_validation.train_test_split(X, y5_t, test_size=validation_size, \n",
    "                                                                                 random_state=seed)\n",
    "X10t_train, X10t_test, Y10t_train, Y10t_test = cross_validation.train_test_split(X, y10_t, test_size=validation_size, \n",
    "                                                                                 random_state=seed)\n",
    "X15t_train, X15t_test, Y15t_train, Y15t_test = cross_validation.train_test_split(X, y15_t, test_size=validation_size, \n",
    "                                                                                 random_state=seed)\n",
    "X20t_train, X20t_test, Y20t_train, Y20t_test = cross_validation.train_test_split(X, y20_t, test_size=validation_size, \n",
    "                                                                                 random_state=seed)\n",
    "X25t_train, X25t_test, Y25t_train, Y25t_test = cross_validation.train_test_split(X, y25_t, test_size=validation_size, \n",
    "                                                                                 random_state=seed)\n",
    "X30t_train, X30t_test, Y30t_train, Y30t_test = cross_validation.train_test_split(X, y30_t, test_size=validation_size, \n",
    "                                                                                 random_state=seed)"
   ]
  },
  {
   "cell_type": "code",
   "execution_count": 19,
   "metadata": {
    "collapsed": true
   },
   "outputs": [],
   "source": [
    "# Evaluate Algorithms\n",
    "# Test options and evaluation metric\n",
    "num_folds = 10\n",
    "num_instances = len(X10b_train)\n",
    "seed = 7\n",
    "scoring = 'accuracy'\n",
    "scoring = 'f1_weighted'"
   ]
  },
  {
   "cell_type": "code",
   "execution_count": 20,
   "metadata": {
    "collapsed": true
   },
   "outputs": [],
   "source": [
    "rf = RandomForestClassifier()\n",
    "et = ExtraTreesClassifier()\n",
    "xgb = XGBClassifier()\n",
    "gbc = GradientBoostingClassifier()\n",
    "\n",
    "stdsc5b = StandardScaler()\n",
    "stdsc10b = StandardScaler()\n",
    "stdsc15b = StandardScaler()\n",
    "stdsc20b = StandardScaler()\n",
    "stdsc25b = StandardScaler()\n",
    "stdsc30b = StandardScaler()\n",
    "\n",
    "X5b_train_std = stdsc5b.fit_transform(X5b_train)\n",
    "X5b_test_std = stdsc5b.transform(X5b_test)\n",
    "\n",
    "X10b_train_std = stdsc10b.fit_transform(X10b_train)\n",
    "X10b_test_std = stdsc10b.transform(X10b_test)\n",
    "\n",
    "X15b_train_std = stdsc15b.fit_transform(X15b_train)\n",
    "X15b_test_std = stdsc15b.transform(X15b_test)\n",
    "\n",
    "X20b_train_std = stdsc20b.fit_transform(X20b_train)\n",
    "X20b_test_std = stdsc20b.transform(X20b_test)\n",
    "\n",
    "X25b_train_std = stdsc25b.fit_transform(X25b_train)\n",
    "X25b_test_std = stdsc25b.transform(X25b_test)\n",
    "\n",
    "X30b_train_std = stdsc30b.fit_transform(X30b_train)\n",
    "X30b_test_std = stdsc30b.transform(X30b_test)\n",
    "\n",
    "stdsc5t = StandardScaler()\n",
    "stdsc10t = StandardScaler()\n",
    "stdsc15t = StandardScaler()\n",
    "stdsc20t = StandardScaler()\n",
    "stdsc25t = StandardScaler()\n",
    "stdsc30t = StandardScaler()\n",
    "\n",
    "X5t_train_std = stdsc5t.fit_transform(X5t_train)\n",
    "X5t_test_std = stdsc5t.transform(X5t_test)\n",
    "\n",
    "X10t_train_std = stdsc10t.fit_transform(X10t_train)\n",
    "X10t_test_std = stdsc10t.transform(X10t_test)\n",
    "\n",
    "X15t_train_std = stdsc15t.fit_transform(X15t_train)\n",
    "X15t_test_std = stdsc15t.transform(X15t_test)\n",
    "\n",
    "X20t_train_std = stdsc20t.fit_transform(X20t_train)\n",
    "X20t_test_std = stdsc20t.transform(X20t_test)\n",
    "\n",
    "X25t_train_std = stdsc25t.fit_transform(X25t_train)\n",
    "X25t_test_std = stdsc25t.transform(X25t_test)\n",
    "\n",
    "X30t_train_std = stdsc30t.fit_transform(X30t_train)\n",
    "X30t_test_std = stdsc30t.transform(X30t_test)"
   ]
  },
  {
   "cell_type": "code",
   "execution_count": 22,
   "metadata": {
    "collapsed": false
   },
   "outputs": [
    {
     "name": "stdout",
     "output_type": "stream",
     "text": [
      "ScaledAB: 0.507659 (0.030226)\n",
      "ScaledGBM: 0.643926 (0.034773)\n",
      "ScaledRF: 0.755359 (0.018456)\n",
      "ScaledET: 0.762467 (0.022082)\n"
     ]
    }
   ],
   "source": [
    "# ensembles\n",
    "ensembles = []\n",
    "ensembles.append(('ScaledAB', Pipeline([('Scaler', StandardScaler()),('AB', AdaBoostClassifier())])))\n",
    "ensembles.append(('ScaledGBM', Pipeline([('Scaler', StandardScaler()),('GBM', GradientBoostingClassifier())])))\n",
    "ensembles.append(('ScaledRF', Pipeline([('Scaler', StandardScaler()),('RF', RandomForestClassifier())])))\n",
    "ensembles.append(('ScaledET', Pipeline([('Scaler', StandardScaler()),('ET', ExtraTreesClassifier())])))\n",
    "#ensembles.append(('ScaledXGB', Pipeline([('Scaler', StandardScaler()),('XGB', XGBClassifier())])))\n",
    "results = []\n",
    "names = []\n",
    "kfold = cross_validation.KFold(n=num_instances, n_folds=num_folds, random_state=seed)\n",
    "for name, model in ensembles:\n",
    "    cv_results = cross_validation.cross_val_score(model, X10t_train, Y10t_train, cv=kfold, scoring=scoring)\n",
    "    results.append(cv_results)\n",
    "    names.append(name)\n",
    "    msg = \"%s: %f (%f)\" % (name, cv_results.mean(), cv_results.std())\n",
    "    print(msg)"
   ]
  },
  {
   "cell_type": "code",
   "execution_count": 16,
   "metadata": {
    "collapsed": false
   },
   "outputs": [
    {
     "data": {
      "text/plain": [
       "Index(['F19', 'F20', 'F37', 'F38', 'F39', 'F40', 'F41', 'F42', 'F46', 'F47',\n",
       "       'F52', 'F54', 'F55', 'F56', 'F57', 'F58', 'F59', 'F60', 'F64', 'F66',\n",
       "       'F67', 'F68'],\n",
       "      dtype='object')"
      ]
     },
     "execution_count": 16,
     "metadata": {},
     "output_type": "execute_result"
    }
   ],
   "source": [
    "X5b_train.columns"
   ]
  },
  {
   "cell_type": "code",
   "execution_count": 17,
   "metadata": {
    "collapsed": true
   },
   "outputs": [],
   "source": [
    "X1 = data1.loc[:,['F20','F22','F26','F29','F30','F32','F35','F36','F37','F38','F39','F40','F41','F42']]\n",
    "\n",
    "Xt10b_train, Xt10b_test, Yt10b_train, Yt10b_test = cross_validation.train_test_split(X1, yt10_b, test_size=validation_size, \n",
    "                                                                                 random_state=seed)\n",
    "\n",
    "Xt10t_train, Xt10t_test, Yt10t_train, Yt10t_test = cross_validation.train_test_split(X1, yt10_t, test_size=validation_size, \n",
    "                                                                                 random_state=seed)\n",
    "\n",
    "Xt15t_train, Xt15t_test, Yt15t_train, Yt15t_test = cross_validation.train_test_split(X1, yt15_t, test_size=validation_size, \n",
    "                                                                                 random_state=seed)\n",
    "\n",
    "Xt20t_train, Xt20t_test, Yt20t_train, Yt20t_test = cross_validation.train_test_split(X1, yt20_t, test_size=validation_size, \n",
    "                                                                                 random_state=seed)\n",
    "\n",
    "Xt10b_std = stdsc10b.transform(Xt10b_train)\n",
    "Xt10t_std = stdsc10t.transform(Xt10t_train)\n",
    "Xt15t_std = stdsc15t.transform(Xt15t_train)\n",
    "Xt20t_std = stdsc20t.transform(Xt20t_train)"
   ]
  },
  {
   "cell_type": "code",
   "execution_count": 23,
   "metadata": {
    "collapsed": false
   },
   "outputs": [
    {
     "data": {
      "image/png": "[encoded data removed]",
      "text/plain": [
       "<matplotlib.figure.Figure at 0x7f675ca0a8d0>"
      ]
     },
     "metadata": {},
     "output_type": "display_data"
    }
   ],
   "source": [
    "num_instances = len(X20t_train)\n",
    "kfold = cross_validation.KFold(n=num_instances, n_folds=num_folds, random_state=seed)\n",
    "pipe_lr = Pipeline([('scl', StandardScaler()),\n",
    "                    ('clf', ExtraTreesClassifier())])\n",
    "\n",
    "train_sizes, train_scores, test_scores =\\\n",
    "                learning_curve(estimator=pipe_lr,\n",
    "                               X=X20t_train,\n",
    "                               y=Y20t_train,\n",
    "                               train_sizes=np.linspace(0.1, 1.0, 20),\n",
    "                               cv=kfold,\n",
    "                               n_jobs=1)\n",
    "\n",
    "train_mean = np.mean(train_scores, axis=1)\n",
    "train_std = np.std(train_scores, axis=1)\n",
    "test_mean = np.mean(test_scores, axis=1)\n",
    "test_std = np.std(test_scores, axis=1)\n",
    "\n",
    "plt.plot(train_sizes, train_mean,\n",
    "         color='blue', marker='o',\n",
    "         markersize=5, label='training accuracy')\n",
    "\n",
    "plt.fill_between(train_sizes,\n",
    "                 train_mean + train_std,\n",
    "                 train_mean - train_std,\n",
    "                 alpha=0.15, color='blue')\n",
    "\n",
    "plt.plot(train_sizes, test_mean,\n",
    "         color='green', linestyle='--',\n",
    "         marker='s', markersize=5,\n",
    "         label='validation accuracy')\n",
    "\n",
    "plt.fill_between(train_sizes,\n",
    "                 test_mean + test_std,\n",
    "                 test_mean - test_std,\n",
    "                 alpha=0.15, color='green')\n",
    "\n",
    "plt.grid()\n",
    "plt.xlabel('Number of training samples')\n",
    "plt.ylabel('Accuracy')\n",
    "plt.legend(loc='lower right')\n",
    "plt.ylim([0.1, 1.0])\n",
    "plt.tight_layout()\n",
    "# plt.savefig('./figures/learning_curve.png', dpi=300)\n",
    "plt.show()"
   ]
  },
  {
   "cell_type": "code",
   "execution_count": 52,
   "metadata": {
    "collapsed": false
   },
   "outputs": [
    {
     "data": {
      "text/plain": [
       "array([[ 0.5993266 ,  0.59259259,  0.62289562,  0.56902357,  0.55218855,\n",
       "         0.53198653,  0.5777027 ,  0.58783784,  0.56418919,  0.61148649],\n",
       "       [ 0.7037037 ,  0.63299663,  0.65656566,  0.61952862,  0.63299663,\n",
       "         0.6026936 ,  0.61148649,  0.65540541,  0.63513514,  0.63513514],\n",
       "       [ 0.71043771,  0.64646465,  0.63636364,  0.7037037 ,  0.68350168,\n",
       "         0.67003367,  0.67567568,  0.67567568,  0.65202703,  0.67905405],\n",
       "       [ 0.71043771,  0.69023569,  0.72053872,  0.67676768,  0.7003367 ,\n",
       "         0.68350168,  0.67905405,  0.69594595,  0.68918919,  0.72635135],\n",
       "       [ 0.69360269,  0.71380471,  0.68013468,  0.71380471,  0.7037037 ,\n",
       "         0.67340067,  0.69256757,  0.73648649,  0.70945946,  0.81081081],\n",
       "       [ 0.74747475,  0.72390572,  0.71717172,  0.73737374,  0.73063973,\n",
       "         0.70707071,  0.71959459,  0.76689189,  0.74324324,  0.80743243],\n",
       "       [ 0.76767677,  0.74410774,  0.71043771,  0.72053872,  0.72053872,\n",
       "         0.73063973,  0.75675676,  0.77364865,  0.75675676,  0.79054054],\n",
       "       [ 0.75084175,  0.75757576,  0.74410774,  0.75420875,  0.73400673,\n",
       "         0.77777778,  0.76013514,  0.7972973 ,  0.73310811,  0.78716216],\n",
       "       [ 0.77441077,  0.79124579,  0.74747475,  0.76430976,  0.76430976,\n",
       "         0.76430976,  0.77702703,  0.78716216,  0.77364865,  0.80743243],\n",
       "       [ 0.81818182,  0.78787879,  0.78114478,  0.7979798 ,  0.78787879,\n",
       "         0.78451178,  0.78378378,  0.81756757,  0.77027027,  0.80743243],\n",
       "       [ 0.7979798 ,  0.74747475,  0.76430976,  0.80808081,  0.79124579,\n",
       "         0.78451178,  0.78378378,  0.8277027 ,  0.78716216,  0.82432432],\n",
       "       [ 0.8047138 ,  0.79461279,  0.76767677,  0.8047138 ,  0.79124579,\n",
       "         0.8047138 ,  0.80405405,  0.80405405,  0.81756757,  0.81418919],\n",
       "       [ 0.8013468 ,  0.7979798 ,  0.78451178,  0.83164983,  0.79461279,\n",
       "         0.7979798 ,  0.80743243,  0.82094595,  0.81081081,  0.79054054],\n",
       "       [ 0.79124579,  0.82828283,  0.7979798 ,  0.82154882,  0.78787879,\n",
       "         0.80808081,  0.83445946,  0.80743243,  0.7972973 ,  0.82094595],\n",
       "       [ 0.79124579,  0.81818182,  0.8013468 ,  0.82154882,  0.82154882,\n",
       "         0.81818182,  0.81081081,  0.80405405,  0.8277027 ,  0.81756757],\n",
       "       [ 0.8013468 ,  0.81481481,  0.79461279,  0.82491582,  0.80808081,\n",
       "         0.82154882,  0.78040541,  0.83445946,  0.82432432,  0.85810811],\n",
       "       [ 0.81818182,  0.81481481,  0.79124579,  0.82154882,  0.80808081,\n",
       "         0.83164983,  0.81081081,  0.81756757,  0.81756757,  0.81081081],\n",
       "       [ 0.81818182,  0.83164983,  0.83164983,  0.83501684,  0.7979798 ,\n",
       "         0.81481481,  0.82094595,  0.82432432,  0.8277027 ,  0.85135135],\n",
       "       [ 0.81481481,  0.84848485,  0.8047138 ,  0.83838384,  0.80808081,\n",
       "         0.8047138 ,  0.81418919,  0.84797297,  0.83445946,  0.81756757],\n",
       "       [ 0.81144781,  0.82828283,  0.84175084,  0.83838384,  0.7979798 ,\n",
       "         0.7979798 ,  0.82094595,  0.83445946,  0.82094595,  0.84121622]])"
      ]
     },
     "execution_count": 52,
     "metadata": {},
     "output_type": "execute_result"
    }
   ],
   "source": [
    "test_scores"
   ]
  },
  {
   "cell_type": "code",
   "execution_count": null,
   "metadata": {
    "collapsed": true
   },
   "outputs": [],
   "source": []
  }
 ],
 "metadata": {
  "kernelspec": {
   "display_name": "Python 3",
   "language": "python",
   "name": "python3"
  },
  "language_info": {
   "codemirror_mode": {
    "name": "ipython",
    "version": 3
   },
   "file_extension": ".py",
   "mimetype": "text/x-python",
   "name": "python",
   "nbconvert_exporter": "python",
   "pygments_lexer": "ipython3",
   "version": "3.5.2"
  }
 },
 "nbformat": 4,
 "nbformat_minor": 0
}
